{
 "cells": [
  {
   "cell_type": "code",
   "execution_count": null,
   "id": "legislative-plenty",
   "metadata": {},
   "outputs": [
    {
     "name": "stderr",
     "output_type": "stream",
     "text": [
      "┌ Info: Precompiling Images [916415d5-f1e6-5110-898d-aaa5f9f070e0]\n",
      "└ @ Base loading.jl:1278\n",
      "┌ Info: Precompiling Interact [c601a237-2ae4-5e1e-952c-7a85b0c7eef1]\n",
      "└ @ Base loading.jl:1278\n"
     ]
    }
   ],
   "source": [
    "using Images\n",
    "using Interact\n",
    "using Plots\n",
    "using Statistics\n",
    "\n",
    "gr()"
   ]
  },
  {
   "cell_type": "code",
   "execution_count": null,
   "id": "private-centre",
   "metadata": {},
   "outputs": [],
   "source": [
    "DATA = \"../../data/img\""
   ]
  },
  {
   "cell_type": "code",
   "execution_count": null,
   "id": "serial-revision",
   "metadata": {},
   "outputs": [],
   "source": [
    "apple = load(\"$DATA/10_100.jpg\")\n",
    "banana = load(\"$DATA/104_100.jpg\")\n",
    "applegreenamt = mean(Float64.(green.(apple)))\n",
    "bananagreenamt = mean(Float64.(green.(banana)))\n",
    "applegreenamt, bananagreenamt"
   ]
  },
  {
   "cell_type": "code",
   "execution_count": null,
   "id": "final-teach",
   "metadata": {},
   "outputs": [],
   "source": [
    "sigmoid(x, w, b) = 1 / (1 + exp(-w*x + b))"
   ]
  },
  {
   "cell_type": "code",
   "execution_count": null,
   "id": "detailed-uruguay",
   "metadata": {},
   "outputs": [],
   "source": [
    "@manipulate for w in -10:0.01:30, b in 0:0.1:20\n",
    "    plot(x -> sigmoid(x, w, b), \n",
    "         xlim=(-0, 1), \n",
    "         ylim=(-0.1, 1.1), \n",
    "         label=\"model\", \n",
    "         legend=:topleft, lw=3)\n",
    "    scatter!([applegreenamt], [0.0], label=\"apple\", ms=5)\n",
    "    scatter!([bananagreenamt], [1.0], label=\"banana\", ms=5)\n",
    "end"
   ]
  },
  {
   "cell_type": "code",
   "execution_count": null,
   "id": "composite-radius",
   "metadata": {},
   "outputs": [],
   "source": []
  }
 ],
 "metadata": {
  "kernelspec": {
   "display_name": "Julia 1.5.3",
   "language": "julia",
   "name": "julia-1.5"
  },
  "language_info": {
   "file_extension": ".jl",
   "mimetype": "application/julia",
   "name": "julia",
   "version": "1.5.3"
  }
 },
 "nbformat": 4,
 "nbformat_minor": 5
}
