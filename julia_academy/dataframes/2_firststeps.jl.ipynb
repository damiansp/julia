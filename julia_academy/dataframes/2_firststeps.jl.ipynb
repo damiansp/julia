{
 "cells": [
  {
   "cell_type": "code",
   "execution_count": 4,
   "id": "d1584546",
   "metadata": {
    "scrolled": true
   },
   "outputs": [],
   "source": [
    "using DataFrames\n",
    "using GLM\n",
    "using PyPlot\n",
    "using Statistics"
   ]
  },
  {
   "cell_type": "code",
   "execution_count": 7,
   "id": "bb9db0e8",
   "metadata": {},
   "outputs": [
    {
     "data": {
      "text/plain": [
       "11×8 Matrix{Float64}:\n",
       " 10.0   8.04  10.0  9.14  10.0   7.46   8.0   6.58\n",
       "  8.0   6.95   8.0  8.14   8.0   6.77   8.0   5.76\n",
       " 13.0   7.58  13.0  8.74  13.0  12.74   8.0   7.71\n",
       "  9.0   8.81   9.0  8.77   9.0   7.11   8.0   8.84\n",
       " 11.0   8.33  11.0  9.26  11.0   7.81   8.0   8.47\n",
       " 14.0   9.96  14.0  8.1   14.0   8.84   8.0   7.04\n",
       "  6.0   7.24   6.0  6.13   6.0   6.08   8.0   5.25\n",
       "  4.0   4.26   4.0  3.1    4.0   5.39  19.0  12.5\n",
       " 12.0  10.84  12.0  9.13  12.0   8.15   8.0   5.56\n",
       "  7.0   4.82   7.0  7.26   7.0   6.42   8.0   7.91\n",
       "  5.0   5.68   5.0  4.74   5.0   5.73   8.0   6.89"
      ]
     },
     "execution_count": 7,
     "metadata": {},
     "output_type": "execute_result"
    }
   ],
   "source": [
    "aq = [10.0  8.04 10.0  9.14  10.0  7.46  8.0  6.58\n",
    "       8.0  6.95  8.0  8.14   8.0  6.77  8.0  5.76\n",
    "      13.0  7.58 13.0  8.74  13.0 12.74  8.0  7.71\n",
    "       9.0  8.81  9.0  8.77   9.0  7.11  8.0  8.84 \n",
    "      11.0  8.33 11.0  9.26  11.0  7.81  8.0  8.47\n",
    "      14.0  9.96 14.0  8.10  14.0  8.84  8.0  7.04\n",
    "       6.0  7.24  6.0  6.13   6.0  6.08  8.0  5.25\n",
    "       4.0  4.26  4.0  3.10   4.0  5.39 19.0 12.50\n",
    "      12.0 10.84 12.0  9.13  12.0  8.15  8.0  5.56\n",
    "       7.0  4.82  7.0  7.26   7.0  6.42  8.0  7.91\n",
    "       5.0  5.68  5.0  4.74   5.0  5.73  8.0  6.89]"
   ]
  },
  {
   "cell_type": "code",
   "execution_count": 8,
   "id": "3f2cf423",
   "metadata": {},
   "outputs": [
    {
     "data": {
      "text/html": [
       "<div class=\"data-frame\"><p>11 rows × 8 columns</p><table class=\"data-frame\"><thead><tr><th></th><th>x1</th><th>x2</th><th>x3</th><th>x4</th><th>x5</th><th>x6</th><th>x7</th><th>x8</th></tr><tr><th></th><th title=\"Float64\">Float64</th><th title=\"Float64\">Float64</th><th title=\"Float64\">Float64</th><th title=\"Float64\">Float64</th><th title=\"Float64\">Float64</th><th title=\"Float64\">Float64</th><th title=\"Float64\">Float64</th><th title=\"Float64\">Float64</th></tr></thead><tbody><tr><th>1</th><td>10.0</td><td>8.04</td><td>10.0</td><td>9.14</td><td>10.0</td><td>7.46</td><td>8.0</td><td>6.58</td></tr><tr><th>2</th><td>8.0</td><td>6.95</td><td>8.0</td><td>8.14</td><td>8.0</td><td>6.77</td><td>8.0</td><td>5.76</td></tr><tr><th>3</th><td>13.0</td><td>7.58</td><td>13.0</td><td>8.74</td><td>13.0</td><td>12.74</td><td>8.0</td><td>7.71</td></tr><tr><th>4</th><td>9.0</td><td>8.81</td><td>9.0</td><td>8.77</td><td>9.0</td><td>7.11</td><td>8.0</td><td>8.84</td></tr><tr><th>5</th><td>11.0</td><td>8.33</td><td>11.0</td><td>9.26</td><td>11.0</td><td>7.81</td><td>8.0</td><td>8.47</td></tr><tr><th>6</th><td>14.0</td><td>9.96</td><td>14.0</td><td>8.1</td><td>14.0</td><td>8.84</td><td>8.0</td><td>7.04</td></tr><tr><th>7</th><td>6.0</td><td>7.24</td><td>6.0</td><td>6.13</td><td>6.0</td><td>6.08</td><td>8.0</td><td>5.25</td></tr><tr><th>8</th><td>4.0</td><td>4.26</td><td>4.0</td><td>3.1</td><td>4.0</td><td>5.39</td><td>19.0</td><td>12.5</td></tr><tr><th>9</th><td>12.0</td><td>10.84</td><td>12.0</td><td>9.13</td><td>12.0</td><td>8.15</td><td>8.0</td><td>5.56</td></tr><tr><th>10</th><td>7.0</td><td>4.82</td><td>7.0</td><td>7.26</td><td>7.0</td><td>6.42</td><td>8.0</td><td>7.91</td></tr><tr><th>11</th><td>5.0</td><td>5.68</td><td>5.0</td><td>4.74</td><td>5.0</td><td>5.73</td><td>8.0</td><td>6.89</td></tr></tbody></table></div>"
      ],
      "text/latex": [
       "\\begin{tabular}{r|cccccccc}\n",
       "\t& x1 & x2 & x3 & x4 & x5 & x6 & x7 & x8\\\\\n",
       "\t\\hline\n",
       "\t& Float64 & Float64 & Float64 & Float64 & Float64 & Float64 & Float64 & Float64\\\\\n",
       "\t\\hline\n",
       "\t1 & 10.0 & 8.04 & 10.0 & 9.14 & 10.0 & 7.46 & 8.0 & 6.58 \\\\\n",
       "\t2 & 8.0 & 6.95 & 8.0 & 8.14 & 8.0 & 6.77 & 8.0 & 5.76 \\\\\n",
       "\t3 & 13.0 & 7.58 & 13.0 & 8.74 & 13.0 & 12.74 & 8.0 & 7.71 \\\\\n",
       "\t4 & 9.0 & 8.81 & 9.0 & 8.77 & 9.0 & 7.11 & 8.0 & 8.84 \\\\\n",
       "\t5 & 11.0 & 8.33 & 11.0 & 9.26 & 11.0 & 7.81 & 8.0 & 8.47 \\\\\n",
       "\t6 & 14.0 & 9.96 & 14.0 & 8.1 & 14.0 & 8.84 & 8.0 & 7.04 \\\\\n",
       "\t7 & 6.0 & 7.24 & 6.0 & 6.13 & 6.0 & 6.08 & 8.0 & 5.25 \\\\\n",
       "\t8 & 4.0 & 4.26 & 4.0 & 3.1 & 4.0 & 5.39 & 19.0 & 12.5 \\\\\n",
       "\t9 & 12.0 & 10.84 & 12.0 & 9.13 & 12.0 & 8.15 & 8.0 & 5.56 \\\\\n",
       "\t10 & 7.0 & 4.82 & 7.0 & 7.26 & 7.0 & 6.42 & 8.0 & 7.91 \\\\\n",
       "\t11 & 5.0 & 5.68 & 5.0 & 4.74 & 5.0 & 5.73 & 8.0 & 6.89 \\\\\n",
       "\\end{tabular}\n"
      ],
      "text/plain": [
       "\u001b[1m11×8 DataFrame\u001b[0m\n",
       "\u001b[1m Row \u001b[0m│\u001b[1m x1      \u001b[0m\u001b[1m x2      \u001b[0m\u001b[1m x3      \u001b[0m\u001b[1m x4      \u001b[0m\u001b[1m x5      \u001b[0m\u001b[1m x6      \u001b[0m\u001b[1m x7      \u001b[0m\u001b[1m x8      \u001b[0m\n",
       "\u001b[1m     \u001b[0m│\u001b[90m Float64 \u001b[0m\u001b[90m Float64 \u001b[0m\u001b[90m Float64 \u001b[0m\u001b[90m Float64 \u001b[0m\u001b[90m Float64 \u001b[0m\u001b[90m Float64 \u001b[0m\u001b[90m Float64 \u001b[0m\u001b[90m Float64 \u001b[0m\n",
       "─────┼────────────────────────────────────────────────────────────────────────\n",
       "   1 │    10.0     8.04     10.0     9.14     10.0     7.46      8.0     6.58\n",
       "   2 │     8.0     6.95      8.0     8.14      8.0     6.77      8.0     5.76\n",
       "   3 │    13.0     7.58     13.0     8.74     13.0    12.74      8.0     7.71\n",
       "   4 │     9.0     8.81      9.0     8.77      9.0     7.11      8.0     8.84\n",
       "   5 │    11.0     8.33     11.0     9.26     11.0     7.81      8.0     8.47\n",
       "   6 │    14.0     9.96     14.0     8.1      14.0     8.84      8.0     7.04\n",
       "   7 │     6.0     7.24      6.0     6.13      6.0     6.08      8.0     5.25\n",
       "   8 │     4.0     4.26      4.0     3.1       4.0     5.39     19.0    12.5\n",
       "   9 │    12.0    10.84     12.0     9.13     12.0     8.15      8.0     5.56\n",
       "  10 │     7.0     4.82      7.0     7.26      7.0     6.42      8.0     7.91\n",
       "  11 │     5.0     5.68      5.0     4.74      5.0     5.73      8.0     6.89"
      ]
     },
     "execution_count": 8,
     "metadata": {},
     "output_type": "execute_result"
    }
   ],
   "source": [
    "df = DataFrame(aq, :auto)"
   ]
  },
  {
   "cell_type": "code",
   "execution_count": 9,
   "id": "a408b031",
   "metadata": {},
   "outputs": [
    {
     "data": {
      "text/plain": [
       "8-element Vector{String}:\n",
       " \"x1\"\n",
       " \"y1\"\n",
       " \"x2\"\n",
       " \"y2\"\n",
       " \"x3\"\n",
       " \"y3\"\n",
       " \"x4\"\n",
       " \"y4\""
      ]
     },
     "execution_count": 9,
     "metadata": {},
     "output_type": "execute_result"
    }
   ],
   "source": [
    "newnames = vec(string.(['x', 'y'], [1 2 3 4]))"
   ]
  },
  {
   "cell_type": "code",
   "execution_count": 10,
   "id": "4eef848e",
   "metadata": {},
   "outputs": [
    {
     "data": {
      "text/html": [
       "<div class=\"data-frame\"><p>11 rows × 8 columns</p><table class=\"data-frame\"><thead><tr><th></th><th>x1</th><th>y1</th><th>x2</th><th>y2</th><th>x3</th><th>y3</th><th>x4</th><th>y4</th></tr><tr><th></th><th title=\"Float64\">Float64</th><th title=\"Float64\">Float64</th><th title=\"Float64\">Float64</th><th title=\"Float64\">Float64</th><th title=\"Float64\">Float64</th><th title=\"Float64\">Float64</th><th title=\"Float64\">Float64</th><th title=\"Float64\">Float64</th></tr></thead><tbody><tr><th>1</th><td>10.0</td><td>8.04</td><td>10.0</td><td>9.14</td><td>10.0</td><td>7.46</td><td>8.0</td><td>6.58</td></tr><tr><th>2</th><td>8.0</td><td>6.95</td><td>8.0</td><td>8.14</td><td>8.0</td><td>6.77</td><td>8.0</td><td>5.76</td></tr><tr><th>3</th><td>13.0</td><td>7.58</td><td>13.0</td><td>8.74</td><td>13.0</td><td>12.74</td><td>8.0</td><td>7.71</td></tr><tr><th>4</th><td>9.0</td><td>8.81</td><td>9.0</td><td>8.77</td><td>9.0</td><td>7.11</td><td>8.0</td><td>8.84</td></tr><tr><th>5</th><td>11.0</td><td>8.33</td><td>11.0</td><td>9.26</td><td>11.0</td><td>7.81</td><td>8.0</td><td>8.47</td></tr><tr><th>6</th><td>14.0</td><td>9.96</td><td>14.0</td><td>8.1</td><td>14.0</td><td>8.84</td><td>8.0</td><td>7.04</td></tr><tr><th>7</th><td>6.0</td><td>7.24</td><td>6.0</td><td>6.13</td><td>6.0</td><td>6.08</td><td>8.0</td><td>5.25</td></tr><tr><th>8</th><td>4.0</td><td>4.26</td><td>4.0</td><td>3.1</td><td>4.0</td><td>5.39</td><td>19.0</td><td>12.5</td></tr><tr><th>9</th><td>12.0</td><td>10.84</td><td>12.0</td><td>9.13</td><td>12.0</td><td>8.15</td><td>8.0</td><td>5.56</td></tr><tr><th>10</th><td>7.0</td><td>4.82</td><td>7.0</td><td>7.26</td><td>7.0</td><td>6.42</td><td>8.0</td><td>7.91</td></tr><tr><th>11</th><td>5.0</td><td>5.68</td><td>5.0</td><td>4.74</td><td>5.0</td><td>5.73</td><td>8.0</td><td>6.89</td></tr></tbody></table></div>"
      ],
      "text/latex": [
       "\\begin{tabular}{r|cccccccc}\n",
       "\t& x1 & y1 & x2 & y2 & x3 & y3 & x4 & y4\\\\\n",
       "\t\\hline\n",
       "\t& Float64 & Float64 & Float64 & Float64 & Float64 & Float64 & Float64 & Float64\\\\\n",
       "\t\\hline\n",
       "\t1 & 10.0 & 8.04 & 10.0 & 9.14 & 10.0 & 7.46 & 8.0 & 6.58 \\\\\n",
       "\t2 & 8.0 & 6.95 & 8.0 & 8.14 & 8.0 & 6.77 & 8.0 & 5.76 \\\\\n",
       "\t3 & 13.0 & 7.58 & 13.0 & 8.74 & 13.0 & 12.74 & 8.0 & 7.71 \\\\\n",
       "\t4 & 9.0 & 8.81 & 9.0 & 8.77 & 9.0 & 7.11 & 8.0 & 8.84 \\\\\n",
       "\t5 & 11.0 & 8.33 & 11.0 & 9.26 & 11.0 & 7.81 & 8.0 & 8.47 \\\\\n",
       "\t6 & 14.0 & 9.96 & 14.0 & 8.1 & 14.0 & 8.84 & 8.0 & 7.04 \\\\\n",
       "\t7 & 6.0 & 7.24 & 6.0 & 6.13 & 6.0 & 6.08 & 8.0 & 5.25 \\\\\n",
       "\t8 & 4.0 & 4.26 & 4.0 & 3.1 & 4.0 & 5.39 & 19.0 & 12.5 \\\\\n",
       "\t9 & 12.0 & 10.84 & 12.0 & 9.13 & 12.0 & 8.15 & 8.0 & 5.56 \\\\\n",
       "\t10 & 7.0 & 4.82 & 7.0 & 7.26 & 7.0 & 6.42 & 8.0 & 7.91 \\\\\n",
       "\t11 & 5.0 & 5.68 & 5.0 & 4.74 & 5.0 & 5.73 & 8.0 & 6.89 \\\\\n",
       "\\end{tabular}\n"
      ],
      "text/plain": [
       "\u001b[1m11×8 DataFrame\u001b[0m\n",
       "\u001b[1m Row \u001b[0m│\u001b[1m x1      \u001b[0m\u001b[1m y1      \u001b[0m\u001b[1m x2      \u001b[0m\u001b[1m y2      \u001b[0m\u001b[1m x3      \u001b[0m\u001b[1m y3      \u001b[0m\u001b[1m x4      \u001b[0m\u001b[1m y4      \u001b[0m\n",
       "\u001b[1m     \u001b[0m│\u001b[90m Float64 \u001b[0m\u001b[90m Float64 \u001b[0m\u001b[90m Float64 \u001b[0m\u001b[90m Float64 \u001b[0m\u001b[90m Float64 \u001b[0m\u001b[90m Float64 \u001b[0m\u001b[90m Float64 \u001b[0m\u001b[90m Float64 \u001b[0m\n",
       "─────┼────────────────────────────────────────────────────────────────────────\n",
       "   1 │    10.0     8.04     10.0     9.14     10.0     7.46      8.0     6.58\n",
       "   2 │     8.0     6.95      8.0     8.14      8.0     6.77      8.0     5.76\n",
       "   3 │    13.0     7.58     13.0     8.74     13.0    12.74      8.0     7.71\n",
       "   4 │     9.0     8.81      9.0     8.77      9.0     7.11      8.0     8.84\n",
       "   5 │    11.0     8.33     11.0     9.26     11.0     7.81      8.0     8.47\n",
       "   6 │    14.0     9.96     14.0     8.1      14.0     8.84      8.0     7.04\n",
       "   7 │     6.0     7.24      6.0     6.13      6.0     6.08      8.0     5.25\n",
       "   8 │     4.0     4.26      4.0     3.1       4.0     5.39     19.0    12.5\n",
       "   9 │    12.0    10.84     12.0     9.13     12.0     8.15      8.0     5.56\n",
       "  10 │     7.0     4.82      7.0     7.26      7.0     6.42      8.0     7.91\n",
       "  11 │     5.0     5.68      5.0     4.74      5.0     5.73      8.0     6.89"
      ]
     },
     "execution_count": 10,
     "metadata": {},
     "output_type": "execute_result"
    }
   ],
   "source": [
    "rename!(df, newnames)"
   ]
  },
  {
   "cell_type": "code",
   "execution_count": 11,
   "id": "3353b32c",
   "metadata": {},
   "outputs": [
    {
     "data": {
      "text/html": [
       "<div class=\"data-frame\"><p>11 rows × 8 columns</p><table class=\"data-frame\"><thead><tr><th></th><th>x1</th><th>y1</th><th>x2</th><th>y2</th><th>x3</th><th>y3</th><th>x4</th><th>y4</th></tr><tr><th></th><th title=\"Float64\">Float64</th><th title=\"Float64\">Float64</th><th title=\"Float64\">Float64</th><th title=\"Float64\">Float64</th><th title=\"Float64\">Float64</th><th title=\"Float64\">Float64</th><th title=\"Float64\">Float64</th><th title=\"Float64\">Float64</th></tr></thead><tbody><tr><th>1</th><td>10.0</td><td>8.04</td><td>10.0</td><td>9.14</td><td>10.0</td><td>7.46</td><td>8.0</td><td>6.58</td></tr><tr><th>2</th><td>8.0</td><td>6.95</td><td>8.0</td><td>8.14</td><td>8.0</td><td>6.77</td><td>8.0</td><td>5.76</td></tr><tr><th>3</th><td>13.0</td><td>7.58</td><td>13.0</td><td>8.74</td><td>13.0</td><td>12.74</td><td>8.0</td><td>7.71</td></tr><tr><th>4</th><td>9.0</td><td>8.81</td><td>9.0</td><td>8.77</td><td>9.0</td><td>7.11</td><td>8.0</td><td>8.84</td></tr><tr><th>5</th><td>11.0</td><td>8.33</td><td>11.0</td><td>9.26</td><td>11.0</td><td>7.81</td><td>8.0</td><td>8.47</td></tr><tr><th>6</th><td>14.0</td><td>9.96</td><td>14.0</td><td>8.1</td><td>14.0</td><td>8.84</td><td>8.0</td><td>7.04</td></tr><tr><th>7</th><td>6.0</td><td>7.24</td><td>6.0</td><td>6.13</td><td>6.0</td><td>6.08</td><td>8.0</td><td>5.25</td></tr><tr><th>8</th><td>4.0</td><td>4.26</td><td>4.0</td><td>3.1</td><td>4.0</td><td>5.39</td><td>19.0</td><td>12.5</td></tr><tr><th>9</th><td>12.0</td><td>10.84</td><td>12.0</td><td>9.13</td><td>12.0</td><td>8.15</td><td>8.0</td><td>5.56</td></tr><tr><th>10</th><td>7.0</td><td>4.82</td><td>7.0</td><td>7.26</td><td>7.0</td><td>6.42</td><td>8.0</td><td>7.91</td></tr><tr><th>11</th><td>5.0</td><td>5.68</td><td>5.0</td><td>4.74</td><td>5.0</td><td>5.73</td><td>8.0</td><td>6.89</td></tr></tbody></table></div>"
      ],
      "text/latex": [
       "\\begin{tabular}{r|cccccccc}\n",
       "\t& x1 & y1 & x2 & y2 & x3 & y3 & x4 & y4\\\\\n",
       "\t\\hline\n",
       "\t& Float64 & Float64 & Float64 & Float64 & Float64 & Float64 & Float64 & Float64\\\\\n",
       "\t\\hline\n",
       "\t1 & 10.0 & 8.04 & 10.0 & 9.14 & 10.0 & 7.46 & 8.0 & 6.58 \\\\\n",
       "\t2 & 8.0 & 6.95 & 8.0 & 8.14 & 8.0 & 6.77 & 8.0 & 5.76 \\\\\n",
       "\t3 & 13.0 & 7.58 & 13.0 & 8.74 & 13.0 & 12.74 & 8.0 & 7.71 \\\\\n",
       "\t4 & 9.0 & 8.81 & 9.0 & 8.77 & 9.0 & 7.11 & 8.0 & 8.84 \\\\\n",
       "\t5 & 11.0 & 8.33 & 11.0 & 9.26 & 11.0 & 7.81 & 8.0 & 8.47 \\\\\n",
       "\t6 & 14.0 & 9.96 & 14.0 & 8.1 & 14.0 & 8.84 & 8.0 & 7.04 \\\\\n",
       "\t7 & 6.0 & 7.24 & 6.0 & 6.13 & 6.0 & 6.08 & 8.0 & 5.25 \\\\\n",
       "\t8 & 4.0 & 4.26 & 4.0 & 3.1 & 4.0 & 5.39 & 19.0 & 12.5 \\\\\n",
       "\t9 & 12.0 & 10.84 & 12.0 & 9.13 & 12.0 & 8.15 & 8.0 & 5.56 \\\\\n",
       "\t10 & 7.0 & 4.82 & 7.0 & 7.26 & 7.0 & 6.42 & 8.0 & 7.91 \\\\\n",
       "\t11 & 5.0 & 5.68 & 5.0 & 4.74 & 5.0 & 5.73 & 8.0 & 6.89 \\\\\n",
       "\\end{tabular}\n"
      ],
      "text/plain": [
       "\u001b[1m11×8 DataFrame\u001b[0m\n",
       "\u001b[1m Row \u001b[0m│\u001b[1m x1      \u001b[0m\u001b[1m y1      \u001b[0m\u001b[1m x2      \u001b[0m\u001b[1m y2      \u001b[0m\u001b[1m x3      \u001b[0m\u001b[1m y3      \u001b[0m\u001b[1m x4      \u001b[0m\u001b[1m y4      \u001b[0m\n",
       "\u001b[1m     \u001b[0m│\u001b[90m Float64 \u001b[0m\u001b[90m Float64 \u001b[0m\u001b[90m Float64 \u001b[0m\u001b[90m Float64 \u001b[0m\u001b[90m Float64 \u001b[0m\u001b[90m Float64 \u001b[0m\u001b[90m Float64 \u001b[0m\u001b[90m Float64 \u001b[0m\n",
       "─────┼────────────────────────────────────────────────────────────────────────\n",
       "   1 │    10.0     8.04     10.0     9.14     10.0     7.46      8.0     6.58\n",
       "   2 │     8.0     6.95      8.0     8.14      8.0     6.77      8.0     5.76\n",
       "   3 │    13.0     7.58     13.0     8.74     13.0    12.74      8.0     7.71\n",
       "   4 │     9.0     8.81      9.0     8.77      9.0     7.11      8.0     8.84\n",
       "   5 │    11.0     8.33     11.0     9.26     11.0     7.81      8.0     8.47\n",
       "   6 │    14.0     9.96     14.0     8.1      14.0     8.84      8.0     7.04\n",
       "   7 │     6.0     7.24      6.0     6.13      6.0     6.08      8.0     5.25\n",
       "   8 │     4.0     4.26      4.0     3.1       4.0     5.39     19.0    12.5\n",
       "   9 │    12.0    10.84     12.0     9.13     12.0     8.15      8.0     5.56\n",
       "  10 │     7.0     4.82      7.0     7.26      7.0     6.42      8.0     7.91\n",
       "  11 │     5.0     5.68      5.0     4.74      5.0     5.73      8.0     6.89"
      ]
     },
     "execution_count": 11,
     "metadata": {},
     "output_type": "execute_result"
    }
   ],
   "source": [
    "DataFrame(aq, [:x1, :y1, :x2, :y2, :x3, :y3, :x4, :y4])"
   ]
  },
  {
   "cell_type": "code",
   "execution_count": 12,
   "id": "68c70bd8",
   "metadata": {},
   "outputs": [
    {
     "data": {
      "text/plain": [
       "11-element Vector{Float64}:\n",
       "  8.04\n",
       "  6.95\n",
       "  7.58\n",
       "  8.81\n",
       "  8.33\n",
       "  9.96\n",
       "  7.24\n",
       "  4.26\n",
       " 10.84\n",
       "  4.82\n",
       "  5.68"
      ]
     },
     "execution_count": 12,
     "metadata": {},
     "output_type": "execute_result"
    }
   ],
   "source": [
    "df.y1"
   ]
  },
  {
   "cell_type": "code",
   "execution_count": 14,
   "id": "c231dfe3",
   "metadata": {},
   "outputs": [
    {
     "data": {
      "text/plain": [
       "11-element Vector{Float64}:\n",
       "  8.04\n",
       "  6.95\n",
       "  7.58\n",
       "  8.81\n",
       "  8.33\n",
       "  9.96\n",
       "  7.24\n",
       "  4.26\n",
       " 10.84\n",
       "  4.82\n",
       "  5.68"
      ]
     },
     "execution_count": 14,
     "metadata": {},
     "output_type": "execute_result"
    }
   ],
   "source": [
    "df.\"y1\""
   ]
  },
  {
   "cell_type": "code",
   "execution_count": 15,
   "id": "2accea15",
   "metadata": {},
   "outputs": [
    {
     "data": {
      "text/plain": [
       "11-element Vector{Float64}:\n",
       "  8.04\n",
       "  6.95\n",
       "  7.58\n",
       "  8.81\n",
       "  8.33\n",
       "  9.96\n",
       "  7.24\n",
       "  4.26\n",
       " 10.84\n",
       "  4.82\n",
       "  5.68"
      ]
     },
     "execution_count": 15,
     "metadata": {},
     "output_type": "execute_result"
    }
   ],
   "source": [
    "df[:, :y1]"
   ]
  },
  {
   "cell_type": "code",
   "execution_count": 17,
   "id": "ddebe3de",
   "metadata": {},
   "outputs": [
    {
     "data": {
      "text/html": [
       "<div class=\"data-frame\"><p>11 rows × 8 columns</p><table class=\"data-frame\"><thead><tr><th></th><th>x1</th><th>x2</th><th>x3</th><th>x4</th><th>y1</th><th>y2</th><th>y3</th><th>y4</th></tr><tr><th></th><th title=\"Float64\">Float64</th><th title=\"Float64\">Float64</th><th title=\"Float64\">Float64</th><th title=\"Float64\">Float64</th><th title=\"Float64\">Float64</th><th title=\"Float64\">Float64</th><th title=\"Float64\">Float64</th><th title=\"Float64\">Float64</th></tr></thead><tbody><tr><th>1</th><td>10.0</td><td>10.0</td><td>10.0</td><td>8.0</td><td>8.04</td><td>9.14</td><td>7.46</td><td>6.58</td></tr><tr><th>2</th><td>8.0</td><td>8.0</td><td>8.0</td><td>8.0</td><td>6.95</td><td>8.14</td><td>6.77</td><td>5.76</td></tr><tr><th>3</th><td>13.0</td><td>13.0</td><td>13.0</td><td>8.0</td><td>7.58</td><td>8.74</td><td>12.74</td><td>7.71</td></tr><tr><th>4</th><td>9.0</td><td>9.0</td><td>9.0</td><td>8.0</td><td>8.81</td><td>8.77</td><td>7.11</td><td>8.84</td></tr><tr><th>5</th><td>11.0</td><td>11.0</td><td>11.0</td><td>8.0</td><td>8.33</td><td>9.26</td><td>7.81</td><td>8.47</td></tr><tr><th>6</th><td>14.0</td><td>14.0</td><td>14.0</td><td>8.0</td><td>9.96</td><td>8.1</td><td>8.84</td><td>7.04</td></tr><tr><th>7</th><td>6.0</td><td>6.0</td><td>6.0</td><td>8.0</td><td>7.24</td><td>6.13</td><td>6.08</td><td>5.25</td></tr><tr><th>8</th><td>4.0</td><td>4.0</td><td>4.0</td><td>19.0</td><td>4.26</td><td>3.1</td><td>5.39</td><td>12.5</td></tr><tr><th>9</th><td>12.0</td><td>12.0</td><td>12.0</td><td>8.0</td><td>10.84</td><td>9.13</td><td>8.15</td><td>5.56</td></tr><tr><th>10</th><td>7.0</td><td>7.0</td><td>7.0</td><td>8.0</td><td>4.82</td><td>7.26</td><td>6.42</td><td>7.91</td></tr><tr><th>11</th><td>5.0</td><td>5.0</td><td>5.0</td><td>8.0</td><td>5.68</td><td>4.74</td><td>5.73</td><td>6.89</td></tr></tbody></table></div>"
      ],
      "text/latex": [
       "\\begin{tabular}{r|cccccccc}\n",
       "\t& x1 & x2 & x3 & x4 & y1 & y2 & y3 & y4\\\\\n",
       "\t\\hline\n",
       "\t& Float64 & Float64 & Float64 & Float64 & Float64 & Float64 & Float64 & Float64\\\\\n",
       "\t\\hline\n",
       "\t1 & 10.0 & 10.0 & 10.0 & 8.0 & 8.04 & 9.14 & 7.46 & 6.58 \\\\\n",
       "\t2 & 8.0 & 8.0 & 8.0 & 8.0 & 6.95 & 8.14 & 6.77 & 5.76 \\\\\n",
       "\t3 & 13.0 & 13.0 & 13.0 & 8.0 & 7.58 & 8.74 & 12.74 & 7.71 \\\\\n",
       "\t4 & 9.0 & 9.0 & 9.0 & 8.0 & 8.81 & 8.77 & 7.11 & 8.84 \\\\\n",
       "\t5 & 11.0 & 11.0 & 11.0 & 8.0 & 8.33 & 9.26 & 7.81 & 8.47 \\\\\n",
       "\t6 & 14.0 & 14.0 & 14.0 & 8.0 & 9.96 & 8.1 & 8.84 & 7.04 \\\\\n",
       "\t7 & 6.0 & 6.0 & 6.0 & 8.0 & 7.24 & 6.13 & 6.08 & 5.25 \\\\\n",
       "\t8 & 4.0 & 4.0 & 4.0 & 19.0 & 4.26 & 3.1 & 5.39 & 12.5 \\\\\n",
       "\t9 & 12.0 & 12.0 & 12.0 & 8.0 & 10.84 & 9.13 & 8.15 & 5.56 \\\\\n",
       "\t10 & 7.0 & 7.0 & 7.0 & 8.0 & 4.82 & 7.26 & 6.42 & 7.91 \\\\\n",
       "\t11 & 5.0 & 5.0 & 5.0 & 8.0 & 5.68 & 4.74 & 5.73 & 6.89 \\\\\n",
       "\\end{tabular}\n"
      ],
      "text/plain": [
       "\u001b[1m11×8 DataFrame\u001b[0m\n",
       "\u001b[1m Row \u001b[0m│\u001b[1m x1      \u001b[0m\u001b[1m x2      \u001b[0m\u001b[1m x3      \u001b[0m\u001b[1m x4      \u001b[0m\u001b[1m y1      \u001b[0m\u001b[1m y2      \u001b[0m\u001b[1m y3      \u001b[0m\u001b[1m y4      \u001b[0m\n",
       "\u001b[1m     \u001b[0m│\u001b[90m Float64 \u001b[0m\u001b[90m Float64 \u001b[0m\u001b[90m Float64 \u001b[0m\u001b[90m Float64 \u001b[0m\u001b[90m Float64 \u001b[0m\u001b[90m Float64 \u001b[0m\u001b[90m Float64 \u001b[0m\u001b[90m Float64 \u001b[0m\n",
       "─────┼────────────────────────────────────────────────────────────────────────\n",
       "   1 │    10.0     10.0     10.0      8.0     8.04     9.14     7.46     6.58\n",
       "   2 │     8.0      8.0      8.0      8.0     6.95     8.14     6.77     5.76\n",
       "   3 │    13.0     13.0     13.0      8.0     7.58     8.74    12.74     7.71\n",
       "   4 │     9.0      9.0      9.0      8.0     8.81     8.77     7.11     8.84\n",
       "   5 │    11.0     11.0     11.0      8.0     8.33     9.26     7.81     8.47\n",
       "   6 │    14.0     14.0     14.0      8.0     9.96     8.1      8.84     7.04\n",
       "   7 │     6.0      6.0      6.0      8.0     7.24     6.13     6.08     5.25\n",
       "   8 │     4.0      4.0      4.0     19.0     4.26     3.1      5.39    12.5\n",
       "   9 │    12.0     12.0     12.0      8.0    10.84     9.13     8.15     5.56\n",
       "  10 │     7.0      7.0      7.0      8.0     4.82     7.26     6.42     7.91\n",
       "  11 │     5.0      5.0      5.0      8.0     5.68     4.74     5.73     6.89"
      ]
     },
     "execution_count": 17,
     "metadata": {},
     "output_type": "execute_result"
    }
   ],
   "source": [
    "# reorder cols\n",
    "select!(df, r\"x\", :)"
   ]
  },
  {
   "cell_type": "code",
   "execution_count": 18,
   "id": "6c76f538",
   "metadata": {},
   "outputs": [
    {
     "data": {
      "text/html": [
       "<div class=\"data-frame\"><p>8 rows × 3 columns</p><table class=\"data-frame\"><thead><tr><th></th><th>variable</th><th>mean</th><th>std</th></tr><tr><th></th><th title=\"Symbol\">Symbol</th><th title=\"Float64\">Float64</th><th title=\"Float64\">Float64</th></tr></thead><tbody><tr><th>1</th><td>x1</td><td>9.0</td><td>3.31662</td></tr><tr><th>2</th><td>x2</td><td>9.0</td><td>3.31662</td></tr><tr><th>3</th><td>x3</td><td>9.0</td><td>3.31662</td></tr><tr><th>4</th><td>x4</td><td>9.0</td><td>3.31662</td></tr><tr><th>5</th><td>y1</td><td>7.50091</td><td>2.03157</td></tr><tr><th>6</th><td>y2</td><td>7.50091</td><td>2.03166</td></tr><tr><th>7</th><td>y3</td><td>7.5</td><td>2.03042</td></tr><tr><th>8</th><td>y4</td><td>7.50091</td><td>2.03058</td></tr></tbody></table></div>"
      ],
      "text/latex": [
       "\\begin{tabular}{r|ccc}\n",
       "\t& variable & mean & std\\\\\n",
       "\t\\hline\n",
       "\t& Symbol & Float64 & Float64\\\\\n",
       "\t\\hline\n",
       "\t1 & x1 & 9.0 & 3.31662 \\\\\n",
       "\t2 & x2 & 9.0 & 3.31662 \\\\\n",
       "\t3 & x3 & 9.0 & 3.31662 \\\\\n",
       "\t4 & x4 & 9.0 & 3.31662 \\\\\n",
       "\t5 & y1 & 7.50091 & 2.03157 \\\\\n",
       "\t6 & y2 & 7.50091 & 2.03166 \\\\\n",
       "\t7 & y3 & 7.5 & 2.03042 \\\\\n",
       "\t8 & y4 & 7.50091 & 2.03058 \\\\\n",
       "\\end{tabular}\n"
      ],
      "text/plain": [
       "\u001b[1m8×3 DataFrame\u001b[0m\n",
       "\u001b[1m Row \u001b[0m│\u001b[1m variable \u001b[0m\u001b[1m mean    \u001b[0m\u001b[1m std     \u001b[0m\n",
       "\u001b[1m     \u001b[0m│\u001b[90m Symbol   \u001b[0m\u001b[90m Float64 \u001b[0m\u001b[90m Float64 \u001b[0m\n",
       "─────┼────────────────────────────\n",
       "   1 │ x1        9.0      3.31662\n",
       "   2 │ x2        9.0      3.31662\n",
       "   3 │ x3        9.0      3.31662\n",
       "   4 │ x4        9.0      3.31662\n",
       "   5 │ y1        7.50091  2.03157\n",
       "   6 │ y2        7.50091  2.03166\n",
       "   7 │ y3        7.5      2.03042\n",
       "   8 │ y4        7.50091  2.03058"
      ]
     },
     "execution_count": 18,
     "metadata": {},
     "output_type": "execute_result"
    }
   ],
   "source": [
    "describe(df, mean => :mean, std => :std)"
   ]
  },
  {
   "cell_type": "code",
   "execution_count": 20,
   "id": "f19d9857",
   "metadata": {},
   "outputs": [
    {
     "data": {
      "text/html": [
       "<div class=\"data-frame\"><p>8 rows × 3 columns</p><table class=\"data-frame\"><thead><tr><th></th><th>variable</th><th>mean</th><th>std</th></tr><tr><th></th><th title=\"Symbol\">Symbol</th><th title=\"Float64\">Float64</th><th title=\"Float64\">Float64</th></tr></thead><tbody><tr><th>1</th><td>x1</td><td>9.0</td><td>3.31662</td></tr><tr><th>2</th><td>x2</td><td>9.0</td><td>3.31662</td></tr><tr><th>3</th><td>x3</td><td>9.0</td><td>3.31662</td></tr><tr><th>4</th><td>x4</td><td>9.0</td><td>3.31662</td></tr><tr><th>5</th><td>y1</td><td>7.50091</td><td>2.03157</td></tr><tr><th>6</th><td>y2</td><td>7.50091</td><td>2.03166</td></tr><tr><th>7</th><td>y3</td><td>7.5</td><td>2.03042</td></tr><tr><th>8</th><td>y4</td><td>7.50091</td><td>2.03058</td></tr></tbody></table></div>"
      ],
      "text/latex": [
       "\\begin{tabular}{r|ccc}\n",
       "\t& variable & mean & std\\\\\n",
       "\t\\hline\n",
       "\t& Symbol & Float64 & Float64\\\\\n",
       "\t\\hline\n",
       "\t1 & x1 & 9.0 & 3.31662 \\\\\n",
       "\t2 & x2 & 9.0 & 3.31662 \\\\\n",
       "\t3 & x3 & 9.0 & 3.31662 \\\\\n",
       "\t4 & x4 & 9.0 & 3.31662 \\\\\n",
       "\t5 & y1 & 7.50091 & 2.03157 \\\\\n",
       "\t6 & y2 & 7.50091 & 2.03166 \\\\\n",
       "\t7 & y3 & 7.5 & 2.03042 \\\\\n",
       "\t8 & y4 & 7.50091 & 2.03058 \\\\\n",
       "\\end{tabular}\n"
      ],
      "text/plain": [
       "\u001b[1m8×3 DataFrame\u001b[0m\n",
       "\u001b[1m Row \u001b[0m│\u001b[1m variable \u001b[0m\u001b[1m mean    \u001b[0m\u001b[1m std     \u001b[0m\n",
       "\u001b[1m     \u001b[0m│\u001b[90m Symbol   \u001b[0m\u001b[90m Float64 \u001b[0m\u001b[90m Float64 \u001b[0m\n",
       "─────┼────────────────────────────\n",
       "   1 │ x1        9.0      3.31662\n",
       "   2 │ x2        9.0      3.31662\n",
       "   3 │ x3        9.0      3.31662\n",
       "   4 │ x4        9.0      3.31662\n",
       "   5 │ y1        7.50091  2.03157\n",
       "   6 │ y2        7.50091  2.03166\n",
       "   7 │ y3        7.5      2.03042\n",
       "   8 │ y4        7.50091  2.03058"
      ]
     },
     "execution_count": 20,
     "metadata": {},
     "output_type": "execute_result"
    }
   ],
   "source": [
    "describe(df, mean => \"mean\", std => \"std\")"
   ]
  },
  {
   "cell_type": "code",
   "execution_count": 22,
   "id": "aa1798cd",
   "metadata": {},
   "outputs": [
    {
     "data": {
      "text/html": [
       "<div class=\"data-frame\"><p>11 rows × 9 columns</p><table class=\"data-frame\"><thead><tr><th></th><th>x1</th><th>x2</th><th>x3</th><th>x4</th><th>y1</th><th>y2</th><th>y3</th><th>y4</th><th>id</th></tr><tr><th></th><th title=\"Float64\">Float64</th><th title=\"Float64\">Float64</th><th title=\"Float64\">Float64</th><th title=\"Float64\">Float64</th><th title=\"Float64\">Float64</th><th title=\"Float64\">Float64</th><th title=\"Float64\">Float64</th><th title=\"Float64\">Float64</th><th title=\"Int64\">Int64</th></tr></thead><tbody><tr><th>1</th><td>10.0</td><td>10.0</td><td>10.0</td><td>8.0</td><td>8.04</td><td>9.14</td><td>7.46</td><td>6.58</td><td>1</td></tr><tr><th>2</th><td>8.0</td><td>8.0</td><td>8.0</td><td>8.0</td><td>6.95</td><td>8.14</td><td>6.77</td><td>5.76</td><td>2</td></tr><tr><th>3</th><td>13.0</td><td>13.0</td><td>13.0</td><td>8.0</td><td>7.58</td><td>8.74</td><td>12.74</td><td>7.71</td><td>3</td></tr><tr><th>4</th><td>9.0</td><td>9.0</td><td>9.0</td><td>8.0</td><td>8.81</td><td>8.77</td><td>7.11</td><td>8.84</td><td>4</td></tr><tr><th>5</th><td>11.0</td><td>11.0</td><td>11.0</td><td>8.0</td><td>8.33</td><td>9.26</td><td>7.81</td><td>8.47</td><td>5</td></tr><tr><th>6</th><td>14.0</td><td>14.0</td><td>14.0</td><td>8.0</td><td>9.96</td><td>8.1</td><td>8.84</td><td>7.04</td><td>6</td></tr><tr><th>7</th><td>6.0</td><td>6.0</td><td>6.0</td><td>8.0</td><td>7.24</td><td>6.13</td><td>6.08</td><td>5.25</td><td>7</td></tr><tr><th>8</th><td>4.0</td><td>4.0</td><td>4.0</td><td>19.0</td><td>4.26</td><td>3.1</td><td>5.39</td><td>12.5</td><td>8</td></tr><tr><th>9</th><td>12.0</td><td>12.0</td><td>12.0</td><td>8.0</td><td>10.84</td><td>9.13</td><td>8.15</td><td>5.56</td><td>9</td></tr><tr><th>10</th><td>7.0</td><td>7.0</td><td>7.0</td><td>8.0</td><td>4.82</td><td>7.26</td><td>6.42</td><td>7.91</td><td>10</td></tr><tr><th>11</th><td>5.0</td><td>5.0</td><td>5.0</td><td>8.0</td><td>5.68</td><td>4.74</td><td>5.73</td><td>6.89</td><td>11</td></tr></tbody></table></div>"
      ],
      "text/latex": [
       "\\begin{tabular}{r|ccccccccc}\n",
       "\t& x1 & x2 & x3 & x4 & y1 & y2 & y3 & y4 & id\\\\\n",
       "\t\\hline\n",
       "\t& Float64 & Float64 & Float64 & Float64 & Float64 & Float64 & Float64 & Float64 & Int64\\\\\n",
       "\t\\hline\n",
       "\t1 & 10.0 & 10.0 & 10.0 & 8.0 & 8.04 & 9.14 & 7.46 & 6.58 & 1 \\\\\n",
       "\t2 & 8.0 & 8.0 & 8.0 & 8.0 & 6.95 & 8.14 & 6.77 & 5.76 & 2 \\\\\n",
       "\t3 & 13.0 & 13.0 & 13.0 & 8.0 & 7.58 & 8.74 & 12.74 & 7.71 & 3 \\\\\n",
       "\t4 & 9.0 & 9.0 & 9.0 & 8.0 & 8.81 & 8.77 & 7.11 & 8.84 & 4 \\\\\n",
       "\t5 & 11.0 & 11.0 & 11.0 & 8.0 & 8.33 & 9.26 & 7.81 & 8.47 & 5 \\\\\n",
       "\t6 & 14.0 & 14.0 & 14.0 & 8.0 & 9.96 & 8.1 & 8.84 & 7.04 & 6 \\\\\n",
       "\t7 & 6.0 & 6.0 & 6.0 & 8.0 & 7.24 & 6.13 & 6.08 & 5.25 & 7 \\\\\n",
       "\t8 & 4.0 & 4.0 & 4.0 & 19.0 & 4.26 & 3.1 & 5.39 & 12.5 & 8 \\\\\n",
       "\t9 & 12.0 & 12.0 & 12.0 & 8.0 & 10.84 & 9.13 & 8.15 & 5.56 & 9 \\\\\n",
       "\t10 & 7.0 & 7.0 & 7.0 & 8.0 & 4.82 & 7.26 & 6.42 & 7.91 & 10 \\\\\n",
       "\t11 & 5.0 & 5.0 & 5.0 & 8.0 & 5.68 & 4.74 & 5.73 & 6.89 & 11 \\\\\n",
       "\\end{tabular}\n"
      ],
      "text/plain": [
       "\u001b[1m11×9 DataFrame\u001b[0m\n",
       "\u001b[1m Row \u001b[0m│\u001b[1m x1      \u001b[0m\u001b[1m x2      \u001b[0m\u001b[1m x3      \u001b[0m\u001b[1m x4      \u001b[0m\u001b[1m y1      \u001b[0m\u001b[1m y2      \u001b[0m\u001b[1m y3      \u001b[0m\u001b[1m y4      \u001b[0m\u001b[1m\u001b[0m ⋯\n",
       "\u001b[1m     \u001b[0m│\u001b[90m Float64 \u001b[0m\u001b[90m Float64 \u001b[0m\u001b[90m Float64 \u001b[0m\u001b[90m Float64 \u001b[0m\u001b[90m Float64 \u001b[0m\u001b[90m Float64 \u001b[0m\u001b[90m Float64 \u001b[0m\u001b[90m Float64 \u001b[0m\u001b[90m\u001b[0m ⋯\n",
       "─────┼──────────────────────────────────────────────────────────────────────────\n",
       "   1 │    10.0     10.0     10.0      8.0     8.04     9.14     7.46     6.58  ⋯\n",
       "   2 │     8.0      8.0      8.0      8.0     6.95     8.14     6.77     5.76\n",
       "   3 │    13.0     13.0     13.0      8.0     7.58     8.74    12.74     7.71\n",
       "   4 │     9.0      9.0      9.0      8.0     8.81     8.77     7.11     8.84\n",
       "   5 │    11.0     11.0     11.0      8.0     8.33     9.26     7.81     8.47  ⋯\n",
       "   6 │    14.0     14.0     14.0      8.0     9.96     8.1      8.84     7.04\n",
       "   7 │     6.0      6.0      6.0      8.0     7.24     6.13     6.08     5.25\n",
       "   8 │     4.0      4.0      4.0     19.0     4.26     3.1      5.39    12.5\n",
       "   9 │    12.0     12.0     12.0      8.0    10.84     9.13     8.15     5.56  ⋯\n",
       "  10 │     7.0      7.0      7.0      8.0     4.82     7.26     6.42     7.91\n",
       "  11 │     5.0      5.0      5.0      8.0     5.68     4.74     5.73     6.89\n",
       "\u001b[36m                                                                1 column omitted\u001b[0m"
      ]
     },
     "execution_count": 22,
     "metadata": {},
     "output_type": "execute_result"
    }
   ],
   "source": [
    "df.id = 1:nrow(df)\n",
    "df"
   ]
  },
  {
   "cell_type": "code",
   "execution_count": 23,
   "id": "0732dd4b",
   "metadata": {},
   "outputs": [
    {
     "data": {
      "text/plain": [
       "9"
      ]
     },
     "execution_count": 23,
     "metadata": {},
     "output_type": "execute_result"
    }
   ],
   "source": [
    "ncol(df)"
   ]
  },
  {
   "cell_type": "code",
   "execution_count": 24,
   "id": "2a91e950",
   "metadata": {},
   "outputs": [
    {
     "data": {
      "text/html": [
       "<div class=\"data-frame\"><p>11 rows × 9 columns</p><table class=\"data-frame\"><thead><tr><th></th><th>id</th><th>x1</th><th>x2</th><th>x3</th><th>x4</th><th>y1</th><th>y2</th><th>y3</th><th>y4</th></tr><tr><th></th><th title=\"Int64\">Int64</th><th title=\"Float64\">Float64</th><th title=\"Float64\">Float64</th><th title=\"Float64\">Float64</th><th title=\"Float64\">Float64</th><th title=\"Float64\">Float64</th><th title=\"Float64\">Float64</th><th title=\"Float64\">Float64</th><th title=\"Float64\">Float64</th></tr></thead><tbody><tr><th>1</th><td>1</td><td>10.0</td><td>10.0</td><td>10.0</td><td>8.0</td><td>8.04</td><td>9.14</td><td>7.46</td><td>6.58</td></tr><tr><th>2</th><td>2</td><td>8.0</td><td>8.0</td><td>8.0</td><td>8.0</td><td>6.95</td><td>8.14</td><td>6.77</td><td>5.76</td></tr><tr><th>3</th><td>3</td><td>13.0</td><td>13.0</td><td>13.0</td><td>8.0</td><td>7.58</td><td>8.74</td><td>12.74</td><td>7.71</td></tr><tr><th>4</th><td>4</td><td>9.0</td><td>9.0</td><td>9.0</td><td>8.0</td><td>8.81</td><td>8.77</td><td>7.11</td><td>8.84</td></tr><tr><th>5</th><td>5</td><td>11.0</td><td>11.0</td><td>11.0</td><td>8.0</td><td>8.33</td><td>9.26</td><td>7.81</td><td>8.47</td></tr><tr><th>6</th><td>6</td><td>14.0</td><td>14.0</td><td>14.0</td><td>8.0</td><td>9.96</td><td>8.1</td><td>8.84</td><td>7.04</td></tr><tr><th>7</th><td>7</td><td>6.0</td><td>6.0</td><td>6.0</td><td>8.0</td><td>7.24</td><td>6.13</td><td>6.08</td><td>5.25</td></tr><tr><th>8</th><td>8</td><td>4.0</td><td>4.0</td><td>4.0</td><td>19.0</td><td>4.26</td><td>3.1</td><td>5.39</td><td>12.5</td></tr><tr><th>9</th><td>9</td><td>12.0</td><td>12.0</td><td>12.0</td><td>8.0</td><td>10.84</td><td>9.13</td><td>8.15</td><td>5.56</td></tr><tr><th>10</th><td>10</td><td>7.0</td><td>7.0</td><td>7.0</td><td>8.0</td><td>4.82</td><td>7.26</td><td>6.42</td><td>7.91</td></tr><tr><th>11</th><td>11</td><td>5.0</td><td>5.0</td><td>5.0</td><td>8.0</td><td>5.68</td><td>4.74</td><td>5.73</td><td>6.89</td></tr></tbody></table></div>"
      ],
      "text/latex": [
       "\\begin{tabular}{r|ccccccccc}\n",
       "\t& id & x1 & x2 & x3 & x4 & y1 & y2 & y3 & y4\\\\\n",
       "\t\\hline\n",
       "\t& Int64 & Float64 & Float64 & Float64 & Float64 & Float64 & Float64 & Float64 & Float64\\\\\n",
       "\t\\hline\n",
       "\t1 & 1 & 10.0 & 10.0 & 10.0 & 8.0 & 8.04 & 9.14 & 7.46 & 6.58 \\\\\n",
       "\t2 & 2 & 8.0 & 8.0 & 8.0 & 8.0 & 6.95 & 8.14 & 6.77 & 5.76 \\\\\n",
       "\t3 & 3 & 13.0 & 13.0 & 13.0 & 8.0 & 7.58 & 8.74 & 12.74 & 7.71 \\\\\n",
       "\t4 & 4 & 9.0 & 9.0 & 9.0 & 8.0 & 8.81 & 8.77 & 7.11 & 8.84 \\\\\n",
       "\t5 & 5 & 11.0 & 11.0 & 11.0 & 8.0 & 8.33 & 9.26 & 7.81 & 8.47 \\\\\n",
       "\t6 & 6 & 14.0 & 14.0 & 14.0 & 8.0 & 9.96 & 8.1 & 8.84 & 7.04 \\\\\n",
       "\t7 & 7 & 6.0 & 6.0 & 6.0 & 8.0 & 7.24 & 6.13 & 6.08 & 5.25 \\\\\n",
       "\t8 & 8 & 4.0 & 4.0 & 4.0 & 19.0 & 4.26 & 3.1 & 5.39 & 12.5 \\\\\n",
       "\t9 & 9 & 12.0 & 12.0 & 12.0 & 8.0 & 10.84 & 9.13 & 8.15 & 5.56 \\\\\n",
       "\t10 & 10 & 7.0 & 7.0 & 7.0 & 8.0 & 4.82 & 7.26 & 6.42 & 7.91 \\\\\n",
       "\t11 & 11 & 5.0 & 5.0 & 5.0 & 8.0 & 5.68 & 4.74 & 5.73 & 6.89 \\\\\n",
       "\\end{tabular}\n"
      ],
      "text/plain": [
       "\u001b[1m11×9 DataFrame\u001b[0m\n",
       "\u001b[1m Row \u001b[0m│\u001b[1m id    \u001b[0m\u001b[1m x1      \u001b[0m\u001b[1m x2      \u001b[0m\u001b[1m x3      \u001b[0m\u001b[1m x4      \u001b[0m\u001b[1m y1      \u001b[0m\u001b[1m y2      \u001b[0m\u001b[1m y3      \u001b[0m\u001b[1m y\u001b[0m ⋯\n",
       "\u001b[1m     \u001b[0m│\u001b[90m Int64 \u001b[0m\u001b[90m Float64 \u001b[0m\u001b[90m Float64 \u001b[0m\u001b[90m Float64 \u001b[0m\u001b[90m Float64 \u001b[0m\u001b[90m Float64 \u001b[0m\u001b[90m Float64 \u001b[0m\u001b[90m Float64 \u001b[0m\u001b[90m F\u001b[0m ⋯\n",
       "─────┼──────────────────────────────────────────────────────────────────────────\n",
       "   1 │     1     10.0     10.0     10.0      8.0     8.04     9.14     7.46    ⋯\n",
       "   2 │     2      8.0      8.0      8.0      8.0     6.95     8.14     6.77\n",
       "   3 │     3     13.0     13.0     13.0      8.0     7.58     8.74    12.74\n",
       "   4 │     4      9.0      9.0      9.0      8.0     8.81     8.77     7.11\n",
       "   5 │     5     11.0     11.0     11.0      8.0     8.33     9.26     7.81    ⋯\n",
       "   6 │     6     14.0     14.0     14.0      8.0     9.96     8.1      8.84\n",
       "   7 │     7      6.0      6.0      6.0      8.0     7.24     6.13     6.08\n",
       "   8 │     8      4.0      4.0      4.0     19.0     4.26     3.1      5.39\n",
       "   9 │     9     12.0     12.0     12.0      8.0    10.84     9.13     8.15    ⋯\n",
       "  10 │    10      7.0      7.0      7.0      8.0     4.82     7.26     6.42\n",
       "  11 │    11      5.0      5.0      5.0      8.0     5.68     4.74     5.73\n",
       "\u001b[36m                                                                1 column omitted\u001b[0m"
      ]
     },
     "execution_count": 24,
     "metadata": {},
     "output_type": "execute_result"
    }
   ],
   "source": [
    "select(df, :id, :)"
   ]
  },
  {
   "cell_type": "code",
   "execution_count": 25,
   "id": "5c493249",
   "metadata": {},
   "outputs": [
    {
     "data": {
      "text/html": [
       "<div class=\"data-frame\"><p>11 rows × 9 columns</p><table class=\"data-frame\"><thead><tr><th></th><th>x1</th><th>x2</th><th>x3</th><th>x4</th><th>y1</th><th>y2</th><th>y3</th><th>y4</th><th>id</th></tr><tr><th></th><th title=\"Float64\">Float64</th><th title=\"Float64\">Float64</th><th title=\"Float64\">Float64</th><th title=\"Float64\">Float64</th><th title=\"Float64\">Float64</th><th title=\"Float64\">Float64</th><th title=\"Float64\">Float64</th><th title=\"Float64\">Float64</th><th title=\"Int64\">Int64</th></tr></thead><tbody><tr><th>1</th><td>10.0</td><td>10.0</td><td>10.0</td><td>8.0</td><td>8.04</td><td>9.14</td><td>7.46</td><td>6.58</td><td>1</td></tr><tr><th>2</th><td>8.0</td><td>8.0</td><td>8.0</td><td>8.0</td><td>6.95</td><td>8.14</td><td>6.77</td><td>5.76</td><td>2</td></tr><tr><th>3</th><td>13.0</td><td>13.0</td><td>13.0</td><td>8.0</td><td>7.58</td><td>8.74</td><td>12.74</td><td>7.71</td><td>3</td></tr><tr><th>4</th><td>9.0</td><td>9.0</td><td>9.0</td><td>8.0</td><td>8.81</td><td>8.77</td><td>7.11</td><td>8.84</td><td>4</td></tr><tr><th>5</th><td>11.0</td><td>11.0</td><td>11.0</td><td>8.0</td><td>8.33</td><td>9.26</td><td>7.81</td><td>8.47</td><td>5</td></tr><tr><th>6</th><td>14.0</td><td>14.0</td><td>14.0</td><td>8.0</td><td>9.96</td><td>8.1</td><td>8.84</td><td>7.04</td><td>6</td></tr><tr><th>7</th><td>6.0</td><td>6.0</td><td>6.0</td><td>8.0</td><td>7.24</td><td>6.13</td><td>6.08</td><td>5.25</td><td>7</td></tr><tr><th>8</th><td>4.0</td><td>4.0</td><td>4.0</td><td>19.0</td><td>4.26</td><td>3.1</td><td>5.39</td><td>12.5</td><td>8</td></tr><tr><th>9</th><td>12.0</td><td>12.0</td><td>12.0</td><td>8.0</td><td>10.84</td><td>9.13</td><td>8.15</td><td>5.56</td><td>9</td></tr><tr><th>10</th><td>7.0</td><td>7.0</td><td>7.0</td><td>8.0</td><td>4.82</td><td>7.26</td><td>6.42</td><td>7.91</td><td>10</td></tr><tr><th>11</th><td>5.0</td><td>5.0</td><td>5.0</td><td>8.0</td><td>5.68</td><td>4.74</td><td>5.73</td><td>6.89</td><td>11</td></tr></tbody></table></div>"
      ],
      "text/latex": [
       "\\begin{tabular}{r|ccccccccc}\n",
       "\t& x1 & x2 & x3 & x4 & y1 & y2 & y3 & y4 & id\\\\\n",
       "\t\\hline\n",
       "\t& Float64 & Float64 & Float64 & Float64 & Float64 & Float64 & Float64 & Float64 & Int64\\\\\n",
       "\t\\hline\n",
       "\t1 & 10.0 & 10.0 & 10.0 & 8.0 & 8.04 & 9.14 & 7.46 & 6.58 & 1 \\\\\n",
       "\t2 & 8.0 & 8.0 & 8.0 & 8.0 & 6.95 & 8.14 & 6.77 & 5.76 & 2 \\\\\n",
       "\t3 & 13.0 & 13.0 & 13.0 & 8.0 & 7.58 & 8.74 & 12.74 & 7.71 & 3 \\\\\n",
       "\t4 & 9.0 & 9.0 & 9.0 & 8.0 & 8.81 & 8.77 & 7.11 & 8.84 & 4 \\\\\n",
       "\t5 & 11.0 & 11.0 & 11.0 & 8.0 & 8.33 & 9.26 & 7.81 & 8.47 & 5 \\\\\n",
       "\t6 & 14.0 & 14.0 & 14.0 & 8.0 & 9.96 & 8.1 & 8.84 & 7.04 & 6 \\\\\n",
       "\t7 & 6.0 & 6.0 & 6.0 & 8.0 & 7.24 & 6.13 & 6.08 & 5.25 & 7 \\\\\n",
       "\t8 & 4.0 & 4.0 & 4.0 & 19.0 & 4.26 & 3.1 & 5.39 & 12.5 & 8 \\\\\n",
       "\t9 & 12.0 & 12.0 & 12.0 & 8.0 & 10.84 & 9.13 & 8.15 & 5.56 & 9 \\\\\n",
       "\t10 & 7.0 & 7.0 & 7.0 & 8.0 & 4.82 & 7.26 & 6.42 & 7.91 & 10 \\\\\n",
       "\t11 & 5.0 & 5.0 & 5.0 & 8.0 & 5.68 & 4.74 & 5.73 & 6.89 & 11 \\\\\n",
       "\\end{tabular}\n"
      ],
      "text/plain": [
       "\u001b[1m11×9 DataFrame\u001b[0m\n",
       "\u001b[1m Row \u001b[0m│\u001b[1m x1      \u001b[0m\u001b[1m x2      \u001b[0m\u001b[1m x3      \u001b[0m\u001b[1m x4      \u001b[0m\u001b[1m y1      \u001b[0m\u001b[1m y2      \u001b[0m\u001b[1m y3      \u001b[0m\u001b[1m y4      \u001b[0m\u001b[1m\u001b[0m ⋯\n",
       "\u001b[1m     \u001b[0m│\u001b[90m Float64 \u001b[0m\u001b[90m Float64 \u001b[0m\u001b[90m Float64 \u001b[0m\u001b[90m Float64 \u001b[0m\u001b[90m Float64 \u001b[0m\u001b[90m Float64 \u001b[0m\u001b[90m Float64 \u001b[0m\u001b[90m Float64 \u001b[0m\u001b[90m\u001b[0m ⋯\n",
       "─────┼──────────────────────────────────────────────────────────────────────────\n",
       "   1 │    10.0     10.0     10.0      8.0     8.04     9.14     7.46     6.58  ⋯\n",
       "   2 │     8.0      8.0      8.0      8.0     6.95     8.14     6.77     5.76\n",
       "   3 │    13.0     13.0     13.0      8.0     7.58     8.74    12.74     7.71\n",
       "   4 │     9.0      9.0      9.0      8.0     8.81     8.77     7.11     8.84\n",
       "   5 │    11.0     11.0     11.0      8.0     8.33     9.26     7.81     8.47  ⋯\n",
       "   6 │    14.0     14.0     14.0      8.0     9.96     8.1      8.84     7.04\n",
       "   7 │     6.0      6.0      6.0      8.0     7.24     6.13     6.08     5.25\n",
       "   8 │     4.0      4.0      4.0     19.0     4.26     3.1      5.39    12.5\n",
       "   9 │    12.0     12.0     12.0      8.0    10.84     9.13     8.15     5.56  ⋯\n",
       "  10 │     7.0      7.0      7.0      8.0     4.82     7.26     6.42     7.91\n",
       "  11 │     5.0      5.0      5.0      8.0     5.68     4.74     5.73     6.89\n",
       "\u001b[36m                                                                1 column omitted\u001b[0m"
      ]
     },
     "execution_count": 25,
     "metadata": {},
     "output_type": "execute_result"
    }
   ],
   "source": [
    "df"
   ]
  },
  {
   "cell_type": "code",
   "execution_count": 26,
   "id": "036328d4",
   "metadata": {},
   "outputs": [
    {
     "data": {
      "text/plain": [
       "11×9 Matrix{Float64}:\n",
       " 10.0  10.0  10.0   8.0   8.04  9.14   7.46   6.58   1.0\n",
       "  8.0   8.0   8.0   8.0   6.95  8.14   6.77   5.76   2.0\n",
       " 13.0  13.0  13.0   8.0   7.58  8.74  12.74   7.71   3.0\n",
       "  9.0   9.0   9.0   8.0   8.81  8.77   7.11   8.84   4.0\n",
       " 11.0  11.0  11.0   8.0   8.33  9.26   7.81   8.47   5.0\n",
       " 14.0  14.0  14.0   8.0   9.96  8.1    8.84   7.04   6.0\n",
       "  6.0   6.0   6.0   8.0   7.24  6.13   6.08   5.25   7.0\n",
       "  4.0   4.0   4.0  19.0   4.26  3.1    5.39  12.5    8.0\n",
       " 12.0  12.0  12.0   8.0  10.84  9.13   8.15   5.56   9.0\n",
       "  7.0   7.0   7.0   8.0   4.82  7.26   6.42   7.91  10.0\n",
       "  5.0   5.0   5.0   8.0   5.68  4.74   5.73   6.89  11.0"
      ]
     },
     "execution_count": 26,
     "metadata": {},
     "output_type": "execute_result"
    }
   ],
   "source": [
    "Matrix(df)"
   ]
  },
  {
   "cell_type": "code",
   "execution_count": 27,
   "id": "32cf25c7",
   "metadata": {},
   "outputs": [
    {
     "data": {
      "text/plain": [
       "2-element Vector{Float64}:\n",
       "  3.0\n",
       " 20.0"
      ]
     },
     "execution_count": 27,
     "metadata": {},
     "output_type": "execute_result"
    }
   ],
   "source": [
    "xlim = collect(extrema(Matrix(select(df, r\"x\"))) .+ (-1, 1))"
   ]
  },
  {
   "cell_type": "code",
   "execution_count": 28,
   "id": "92bef2a1",
   "metadata": {},
   "outputs": [
    {
     "data": {
      "text/plain": [
       "(4.0, 19.0)"
      ]
     },
     "execution_count": 28,
     "metadata": {},
     "output_type": "execute_result"
    }
   ],
   "source": [
    "# R: range(matrix(df[, grepf('x', names(df))]))\n",
    "extrema(Matrix(select(df, r\"x\"))) "
   ]
  },
  {
   "cell_type": "code",
   "execution_count": 29,
   "id": "e7477bff",
   "metadata": {},
   "outputs": [
    {
     "data": {
      "text/plain": [
       "2-element Vector{Float64}:\n",
       "  2.1\n",
       " 13.74"
      ]
     },
     "execution_count": 29,
     "metadata": {},
     "output_type": "execute_result"
    }
   ],
   "source": [
    "ylim = collect(extrema(Matrix(select(df, r\"y\"))) .+ (-1, 1))"
   ]
  },
  {
   "cell_type": "code",
   "execution_count": 30,
   "id": "0996f5f6",
   "metadata": {},
   "outputs": [
    {
     "data": {
      "text/plain": [
       ":x1"
      ]
     },
     "execution_count": 30,
     "metadata": {},
     "output_type": "execute_result"
    }
   ],
   "source": [
    "Symbol(\"x\", 1)"
   ]
  },
  {
   "cell_type": "code",
   "execution_count": 32,
   "id": "0776d1f5",
   "metadata": {},
   "outputs": [
    {
     "data": {
      "image/png": "[encoded data removed]",
      "text/plain": [
       "Figure(PyObject <Figure size 640x480 with 4 Axes>)"
      ]
     },
     "metadata": {},
     "output_type": "display_data"
    }
   ],
   "source": [
    "fig, axs = plt.subplots(2, 2)\n",
    "fig.tight_layout(pad=4.0)\n",
    "\n",
    "for i in 1:4\n",
    "    x = Symbol(\"x\", i)\n",
    "    y = Symbol(\"y\", i)\n",
    "    mod = lm(term(y) ~ term(x), df)\n",
    "    axs[i].plot(\n",
    "        xlim, predict(mod, DataFrame(x => xlim)), color=\"orange\")\n",
    "    axs[i].scatter(df[:, x], df[:, y])\n",
    "    axs[i].set_xlim(xlim)\n",
    "    axs[i].set_ylim(ylim)\n",
    "    axs[i].set_xlabel(\"x$i\")\n",
    "    axs[i].set_ylabel(\"y$i\")\n",
    "    a, b = round.(coef(mod), digits=2)\n",
    "    c = round(100 * r2(mod), digits=2)\n",
    "    axs[i].set_title(string(\"R.sq=$c%, $y=$a+$b$x\"))\n",
    "end"
   ]
  },
  {
   "cell_type": "code",
   "execution_count": 33,
   "id": "b83f22b6",
   "metadata": {},
   "outputs": [
    {
     "data": {
      "text/html": [
       "<div class=\"data-frame\"><p>3 rows × 2 columns</p><table class=\"data-frame\"><thead><tr><th></th><th>var1</th><th>var2</th></tr><tr><th></th><th title=\"Int64\">Int64</th><th title=\"Int64\">Int64</th></tr></thead><tbody><tr><th>1</th><td>1</td><td>4</td></tr><tr><th>2</th><td>2</td><td>5</td></tr><tr><th>3</th><td>3</td><td>6</td></tr></tbody></table></div>"
      ],
      "text/latex": [
       "\\begin{tabular}{r|cc}\n",
       "\t& var1 & var2\\\\\n",
       "\t\\hline\n",
       "\t& Int64 & Int64\\\\\n",
       "\t\\hline\n",
       "\t1 & 1 & 4 \\\\\n",
       "\t2 & 2 & 5 \\\\\n",
       "\t3 & 3 & 6 \\\\\n",
       "\\end{tabular}\n"
      ],
      "text/plain": [
       "\u001b[1m3×2 DataFrame\u001b[0m\n",
       "\u001b[1m Row \u001b[0m│\u001b[1m var1  \u001b[0m\u001b[1m var2  \u001b[0m\n",
       "\u001b[1m     \u001b[0m│\u001b[90m Int64 \u001b[0m\u001b[90m Int64 \u001b[0m\n",
       "─────┼──────────────\n",
       "   1 │     1      4\n",
       "   2 │     2      5\n",
       "   3 │     3      6"
      ]
     },
     "execution_count": 33,
     "metadata": {},
     "output_type": "execute_result"
    }
   ],
   "source": [
    "x = :var1\n",
    "y = :var2\n",
    "xc = 1:3\n",
    "yc = 4:6\n",
    "DataFrame(x => xc, y => yc)"
   ]
  },
  {
   "cell_type": "code",
   "execution_count": 34,
   "id": "bed59a57",
   "metadata": {},
   "outputs": [
    {
     "data": {
      "text/html": [
       "<div class=\"data-frame\"><p>3 rows × 2 columns</p><table class=\"data-frame\"><thead><tr><th></th><th>var1</th><th>var2</th></tr><tr><th></th><th title=\"Int64\">Int64</th><th title=\"Int64\">Int64</th></tr></thead><tbody><tr><th>1</th><td>1</td><td>4</td></tr><tr><th>2</th><td>2</td><td>5</td></tr><tr><th>3</th><td>3</td><td>6</td></tr></tbody></table></div>"
      ],
      "text/latex": [
       "\\begin{tabular}{r|cc}\n",
       "\t& var1 & var2\\\\\n",
       "\t\\hline\n",
       "\t& Int64 & Int64\\\\\n",
       "\t\\hline\n",
       "\t1 & 1 & 4 \\\\\n",
       "\t2 & 2 & 5 \\\\\n",
       "\t3 & 3 & 6 \\\\\n",
       "\\end{tabular}\n"
      ],
      "text/plain": [
       "\u001b[1m3×2 DataFrame\u001b[0m\n",
       "\u001b[1m Row \u001b[0m│\u001b[1m var1  \u001b[0m\u001b[1m var2  \u001b[0m\n",
       "\u001b[1m     \u001b[0m│\u001b[90m Int64 \u001b[0m\u001b[90m Int64 \u001b[0m\n",
       "─────┼──────────────\n",
       "   1 │     1      4\n",
       "   2 │     2      5\n",
       "   3 │     3      6"
      ]
     },
     "execution_count": 34,
     "metadata": {},
     "output_type": "execute_result"
    }
   ],
   "source": [
    "DataFrame(var1=xc, var2=yc)"
   ]
  },
  {
   "cell_type": "code",
   "execution_count": 35,
   "id": "1aeceb19",
   "metadata": {},
   "outputs": [
    {
     "data": {
      "text/plain": [
       "11-element Vector{Float64}:\n",
       " 10.0\n",
       "  8.0\n",
       " 13.0\n",
       "  9.0\n",
       " 11.0\n",
       " 14.0\n",
       "  6.0\n",
       "  4.0\n",
       " 12.0\n",
       "  7.0\n",
       "  5.0"
      ]
     },
     "execution_count": 35,
     "metadata": {},
     "output_type": "execute_result"
    }
   ],
   "source": [
    "# directly access cols in <df>; x1 as literal\n",
    "df.x1 "
   ]
  },
  {
   "cell_type": "code",
   "execution_count": 36,
   "id": "93e8fd8a",
   "metadata": {},
   "outputs": [
    {
     "data": {
      "text/plain": [
       "11-element Vector{Float64}:\n",
       " 10.0\n",
       "  8.0\n",
       " 13.0\n",
       "  9.0\n",
       " 11.0\n",
       " 14.0\n",
       "  6.0\n",
       "  4.0\n",
       " 12.0\n",
       "  7.0\n",
       "  5.0"
      ]
     },
     "execution_count": 36,
     "metadata": {},
     "output_type": "execute_result"
    }
   ],
   "source": [
    "# copy of the col (= copy(df.x1))\n",
    "df[:, :x1]"
   ]
  },
  {
   "cell_type": "code",
   "execution_count": 37,
   "id": "6f2252b4",
   "metadata": {},
   "outputs": [
    {
     "data": {
      "text/plain": [
       ":x1"
      ]
     },
     "execution_count": 37,
     "metadata": {},
     "output_type": "execute_result"
    }
   ],
   "source": [
    "n = :x1"
   ]
  },
  {
   "cell_type": "code",
   "execution_count": 38,
   "id": "09e937f1",
   "metadata": {},
   "outputs": [
    {
     "data": {
      "text/plain": [
       "11-element Vector{Float64}:\n",
       " 10.0\n",
       "  8.0\n",
       " 13.0\n",
       "  9.0\n",
       " 11.0\n",
       " 14.0\n",
       "  6.0\n",
       "  4.0\n",
       " 12.0\n",
       "  7.0\n",
       "  5.0"
      ]
     },
     "execution_count": 38,
     "metadata": {},
     "output_type": "execute_result"
    }
   ],
   "source": [
    "# direct access (not a copy)\n",
    "v = df[!, n]"
   ]
  },
  {
   "cell_type": "code",
   "execution_count": 39,
   "id": "d81adb12",
   "metadata": {},
   "outputs": [
    {
     "data": {
      "text/plain": [
       "true"
      ]
     },
     "execution_count": 39,
     "metadata": {},
     "output_type": "execute_result"
    }
   ],
   "source": [
    "v === df.x1"
   ]
  },
  {
   "cell_type": "code",
   "execution_count": null,
   "id": "38fa4143",
   "metadata": {},
   "outputs": [],
   "source": []
  }
 ],
 "metadata": {
  "kernelspec": {
   "display_name": "Julia 1.6.2",
   "language": "julia",
   "name": "julia-1.6"
  },
  "language_info": {
   "file_extension": ".jl",
   "mimetype": "application/julia",
   "name": "julia",
   "version": "1.6.2"
  }
 },
 "nbformat": 4,
 "nbformat_minor": 5
}
