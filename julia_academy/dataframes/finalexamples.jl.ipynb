{
 "cells": [
  {
   "cell_type": "code",
   "execution_count": 2,
   "id": "normal-mexico",
   "metadata": {},
   "outputs": [
    {
     "name": "stderr",
     "output_type": "stream",
     "text": [
      "┌ Info: Precompiling Unitful [1986cc42-f94f-5a68-af5c-568840ba703d]\n",
      "└ @ Base loading.jl:1278\n"
     ]
    }
   ],
   "source": [
    "using CSV\n",
    "using DataFrames\n",
    "using Dates\n",
    "using Pipe\n",
    "using Unitful"
   ]
  },
  {
   "cell_type": "code",
   "execution_count": 11,
   "id": "spectacular-answer",
   "metadata": {},
   "outputs": [
    {
     "data": {
      "text/plain": [
       "\"../../data\""
      ]
     },
     "execution_count": 11,
     "metadata": {},
     "output_type": "execute_result"
    }
   ],
   "source": [
    "DATA = \"../../data\""
   ]
  },
  {
   "cell_type": "code",
   "execution_count": 13,
   "id": "norman-israel",
   "metadata": {},
   "outputs": [
    {
     "data": {
      "text/html": [
       "<table class=\"data-frame\"><thead><tr><th></th><th>city</th><th>date</th><th>rainfall</th></tr><tr><th></th><th>String</th><th>Date</th><th>Float64</th></tr></thead><tbody><p>10 rows × 3 columns</p><tr><th>1</th><td>Olecko</td><td>2020-11-16</td><td>2.9</td></tr><tr><th>2</th><td>Olecko</td><td>2020-11-17</td><td>4.1</td></tr><tr><th>3</th><td>Olecko</td><td>2020-11-19</td><td>4.3</td></tr><tr><th>4</th><td>Olecko</td><td>2020-11-20</td><td>2.0</td></tr><tr><th>5</th><td>Olecko</td><td>2020-11-21</td><td>0.6</td></tr><tr><th>6</th><td>Olecko</td><td>2020-11-22</td><td>1.0</td></tr><tr><th>7</th><td>Ełk</td><td>2020-11-16</td><td>3.9</td></tr><tr><th>8</th><td>Ełk</td><td>2020-11-19</td><td>1.2</td></tr><tr><th>9</th><td>Ełk</td><td>2020-11-20</td><td>2.0</td></tr><tr><th>10</th><td>Ełk</td><td>2020-11-22</td><td>2.0</td></tr></tbody></table>"
      ],
      "text/latex": [
       "\\begin{tabular}{r|ccc}\n",
       "\t& city & date & rainfall\\\\\n",
       "\t\\hline\n",
       "\t& String & Date & Float64\\\\\n",
       "\t\\hline\n",
       "\t1 & Olecko & 2020-11-16 & 2.9 \\\\\n",
       "\t2 & Olecko & 2020-11-17 & 4.1 \\\\\n",
       "\t3 & Olecko & 2020-11-19 & 4.3 \\\\\n",
       "\t4 & Olecko & 2020-11-20 & 2.0 \\\\\n",
       "\t5 & Olecko & 2020-11-21 & 0.6 \\\\\n",
       "\t6 & Olecko & 2020-11-22 & 1.0 \\\\\n",
       "\t7 & Ełk & 2020-11-16 & 3.9 \\\\\n",
       "\t8 & Ełk & 2020-11-19 & 1.2 \\\\\n",
       "\t9 & Ełk & 2020-11-20 & 2.0 \\\\\n",
       "\t10 & Ełk & 2020-11-22 & 2.0 \\\\\n",
       "\\end{tabular}\n"
      ],
      "text/plain": [
       "\u001b[1m10×3 DataFrame\u001b[0m\n",
       "\u001b[1m Row \u001b[0m│\u001b[1m city   \u001b[0m\u001b[1m date       \u001b[0m\u001b[1m rainfall \u001b[0m\n",
       "\u001b[1m     \u001b[0m│\u001b[90m String \u001b[0m\u001b[90m Date       \u001b[0m\u001b[90m Float64  \u001b[0m\n",
       "─────┼──────────────────────────────\n",
       "   1 │ Olecko  2020-11-16       2.9\n",
       "   2 │ Olecko  2020-11-17       4.1\n",
       "   3 │ Olecko  2020-11-19       4.3\n",
       "   4 │ Olecko  2020-11-20       2.0\n",
       "   5 │ Olecko  2020-11-21       0.6\n",
       "   6 │ Olecko  2020-11-22       1.0\n",
       "   7 │ Ełk     2020-11-16       3.9\n",
       "   8 │ Ełk     2020-11-19       1.2\n",
       "   9 │ Ełk     2020-11-20       2.0\n",
       "  10 │ Ełk     2020-11-22       2.0"
      ]
     },
     "execution_count": 13,
     "metadata": {},
     "output_type": "execute_result"
    }
   ],
   "source": [
    "rainfalllong = CSV.File(\"$DATA/rainfall_forecast.csv\") |> DataFrame"
   ]
  },
  {
   "cell_type": "code",
   "execution_count": 14,
   "id": "extra-integrity",
   "metadata": {},
   "outputs": [
    {
     "data": {
      "text/html": [
       "<table class=\"data-frame\"><thead><tr><th></th><th>city</th><th>date</th><th>rainfall</th></tr><tr><th></th><th>String</th><th>Date</th><th>Quantit…</th></tr></thead><tbody><p>10 rows × 3 columns</p><tr><th>1</th><td>Olecko</td><td>2020-11-16</td><td>2.9 mm</td></tr><tr><th>2</th><td>Olecko</td><td>2020-11-17</td><td>4.1 mm</td></tr><tr><th>3</th><td>Olecko</td><td>2020-11-19</td><td>4.3 mm</td></tr><tr><th>4</th><td>Olecko</td><td>2020-11-20</td><td>2.0 mm</td></tr><tr><th>5</th><td>Olecko</td><td>2020-11-21</td><td>0.6 mm</td></tr><tr><th>6</th><td>Olecko</td><td>2020-11-22</td><td>1.0 mm</td></tr><tr><th>7</th><td>Ełk</td><td>2020-11-16</td><td>3.9 mm</td></tr><tr><th>8</th><td>Ełk</td><td>2020-11-19</td><td>1.2 mm</td></tr><tr><th>9</th><td>Ełk</td><td>2020-11-20</td><td>2.0 mm</td></tr><tr><th>10</th><td>Ełk</td><td>2020-11-22</td><td>2.0 mm</td></tr></tbody></table>"
      ],
      "text/latex": [
       "\\begin{tabular}{r|ccc}\n",
       "\t& city & date & rainfall\\\\\n",
       "\t\\hline\n",
       "\t& String & Date & Quantit…\\\\\n",
       "\t\\hline\n",
       "\t1 & Olecko & 2020-11-16 & 2.9 mm \\\\\n",
       "\t2 & Olecko & 2020-11-17 & 4.1 mm \\\\\n",
       "\t3 & Olecko & 2020-11-19 & 4.3 mm \\\\\n",
       "\t4 & Olecko & 2020-11-20 & 2.0 mm \\\\\n",
       "\t5 & Olecko & 2020-11-21 & 0.6 mm \\\\\n",
       "\t6 & Olecko & 2020-11-22 & 1.0 mm \\\\\n",
       "\t7 & Ełk & 2020-11-16 & 3.9 mm \\\\\n",
       "\t8 & Ełk & 2020-11-19 & 1.2 mm \\\\\n",
       "\t9 & Ełk & 2020-11-20 & 2.0 mm \\\\\n",
       "\t10 & Ełk & 2020-11-22 & 2.0 mm \\\\\n",
       "\\end{tabular}\n"
      ],
      "text/plain": [
       "\u001b[1m10×3 DataFrame\u001b[0m\n",
       "\u001b[1m Row \u001b[0m│\u001b[1m city   \u001b[0m\u001b[1m date       \u001b[0m\u001b[1m rainfall  \u001b[0m\n",
       "\u001b[1m     \u001b[0m│\u001b[90m String \u001b[0m\u001b[90m Date       \u001b[0m\u001b[90m Quantity… \u001b[0m\n",
       "─────┼───────────────────────────────\n",
       "   1 │ Olecko  2020-11-16     2.9 mm\n",
       "   2 │ Olecko  2020-11-17     4.1 mm\n",
       "   3 │ Olecko  2020-11-19     4.3 mm\n",
       "   4 │ Olecko  2020-11-20     2.0 mm\n",
       "   5 │ Olecko  2020-11-21     0.6 mm\n",
       "   6 │ Olecko  2020-11-22     1.0 mm\n",
       "   7 │ Ełk     2020-11-16     3.9 mm\n",
       "   8 │ Ełk     2020-11-19     1.2 mm\n",
       "   9 │ Ełk     2020-11-20     2.0 mm\n",
       "  10 │ Ełk     2020-11-22     2.0 mm"
      ]
     },
     "execution_count": 14,
     "metadata": {},
     "output_type": "execute_result"
    }
   ],
   "source": [
    "transform!(rainfalllong, :rainfall => x -> x.* u\"mm\", renamecols=false)"
   ]
  },
  {
   "cell_type": "code",
   "execution_count": 15,
   "id": "detailed-simpson",
   "metadata": {},
   "outputs": [
    {
     "data": {
      "text/html": [
       "<table class=\"data-frame\"><thead><tr><th></th><th>date</th><th>Olecko</th><th>Ełk</th></tr><tr><th></th><th>Date</th><th>Quantit…?</th><th>Quantit…?</th></tr></thead><tbody><p>6 rows × 3 columns</p><tr><th>1</th><td>2020-11-16</td><td>2.9 mm</td><td>3.9 mm</td></tr><tr><th>2</th><td>2020-11-17</td><td>4.1 mm</td><td><em>missing</em></td></tr><tr><th>3</th><td>2020-11-19</td><td>4.3 mm</td><td>1.2 mm</td></tr><tr><th>4</th><td>2020-11-20</td><td>2.0 mm</td><td>2.0 mm</td></tr><tr><th>5</th><td>2020-11-21</td><td>0.6 mm</td><td><em>missing</em></td></tr><tr><th>6</th><td>2020-11-22</td><td>1.0 mm</td><td>2.0 mm</td></tr></tbody></table>"
      ],
      "text/latex": [
       "\\begin{tabular}{r|ccc}\n",
       "\t& date & Olecko & Ełk\\\\\n",
       "\t\\hline\n",
       "\t& Date & Quantit…? & Quantit…?\\\\\n",
       "\t\\hline\n",
       "\t1 & 2020-11-16 & 2.9 mm & 3.9 mm \\\\\n",
       "\t2 & 2020-11-17 & 4.1 mm & \\emph{missing} \\\\\n",
       "\t3 & 2020-11-19 & 4.3 mm & 1.2 mm \\\\\n",
       "\t4 & 2020-11-20 & 2.0 mm & 2.0 mm \\\\\n",
       "\t5 & 2020-11-21 & 0.6 mm & \\emph{missing} \\\\\n",
       "\t6 & 2020-11-22 & 1.0 mm & 2.0 mm \\\\\n",
       "\\end{tabular}\n"
      ],
      "text/plain": [
       "\u001b[1m6×3 DataFrame\u001b[0m\n",
       "\u001b[1m Row \u001b[0m│\u001b[1m date       \u001b[0m\u001b[1m Olecko     \u001b[0m\u001b[1m Ełk        \u001b[0m\n",
       "\u001b[1m     \u001b[0m│\u001b[90m Date       \u001b[0m\u001b[90m Quantity…? \u001b[0m\u001b[90m Quantity…? \u001b[0m\n",
       "─────┼────────────────────────────────────\n",
       "   1 │ 2020-11-16      2.9 mm      3.9 mm\n",
       "   2 │ 2020-11-17      4.1 mm \u001b[90m    missing \u001b[0m\n",
       "   3 │ 2020-11-19      4.3 mm      1.2 mm\n",
       "   4 │ 2020-11-20      2.0 mm      2.0 mm\n",
       "   5 │ 2020-11-21      0.6 mm \u001b[90m    missing \u001b[0m\n",
       "   6 │ 2020-11-22      1.0 mm      2.0 mm"
      ]
     },
     "execution_count": 15,
     "metadata": {},
     "output_type": "execute_result"
    }
   ],
   "source": [
    "rainfallwide = unstack(rainfalllong, :date, :city, :rainfall)"
   ]
  },
  {
   "cell_type": "code",
   "execution_count": 18,
   "id": "regulation-allocation",
   "metadata": {},
   "outputs": [
    {
     "data": {
      "text/plain": [
       "6-element Array{Union{Missing, Quantity{Float64,𝐋,Unitful.FreeUnits{(mm,),𝐋,nothing}}},1}:\n",
       " 3.9 mm\n",
       "       missing\n",
       " 1.2 mm\n",
       " 2.0 mm\n",
       "       missing\n",
       " 2.0 mm"
      ]
     },
     "execution_count": 18,
     "metadata": {},
     "output_type": "execute_result"
    }
   ],
   "source": [
    "rainfallwide.Ełk"
   ]
  },
  {
   "cell_type": "code",
   "execution_count": 19,
   "id": "american-change",
   "metadata": {},
   "outputs": [
    {
     "data": {
      "text/html": [
       "<table class=\"data-frame\"><thead><tr><th></th><th>date</th></tr><tr><th></th><th>Date</th></tr></thead><tbody><p>7 rows × 1 columns</p><tr><th>1</th><td>2020-11-16</td></tr><tr><th>2</th><td>2020-11-17</td></tr><tr><th>3</th><td>2020-11-18</td></tr><tr><th>4</th><td>2020-11-19</td></tr><tr><th>5</th><td>2020-11-20</td></tr><tr><th>6</th><td>2020-11-21</td></tr><tr><th>7</th><td>2020-11-22</td></tr></tbody></table>"
      ],
      "text/latex": [
       "\\begin{tabular}{r|c}\n",
       "\t& date\\\\\n",
       "\t\\hline\n",
       "\t& Date\\\\\n",
       "\t\\hline\n",
       "\t1 & 2020-11-16 \\\\\n",
       "\t2 & 2020-11-17 \\\\\n",
       "\t3 & 2020-11-18 \\\\\n",
       "\t4 & 2020-11-19 \\\\\n",
       "\t5 & 2020-11-20 \\\\\n",
       "\t6 & 2020-11-21 \\\\\n",
       "\t7 & 2020-11-22 \\\\\n",
       "\\end{tabular}\n"
      ],
      "text/plain": [
       "\u001b[1m7×1 DataFrame\u001b[0m\n",
       "\u001b[1m Row \u001b[0m│\u001b[1m date       \u001b[0m\n",
       "\u001b[1m     \u001b[0m│\u001b[90m Date       \u001b[0m\n",
       "─────┼────────────\n",
       "   1 │ 2020-11-16\n",
       "   2 │ 2020-11-17\n",
       "   3 │ 2020-11-18\n",
       "   4 │ 2020-11-19\n",
       "   5 │ 2020-11-20\n",
       "   6 │ 2020-11-21\n",
       "   7 │ 2020-11-22"
      ]
     },
     "execution_count": 19,
     "metadata": {},
     "output_type": "execute_result"
    }
   ],
   "source": [
    "alldays = DataFrame(date=Date.(2020, 11, 16:22))"
   ]
  },
  {
   "cell_type": "code",
   "execution_count": 23,
   "id": "hispanic-cotton",
   "metadata": {},
   "outputs": [
    {
     "data": {
      "text/html": [
       "<table class=\"data-frame\"><thead><tr><th></th><th>date</th><th>Olecko</th><th>Ełk</th></tr><tr><th></th><th>Date</th><th>Quantit…</th><th>Quantit…</th></tr></thead><tbody><p>7 rows × 3 columns</p><tr><th>1</th><td>2020-11-16</td><td>2.9 mm</td><td>3.9 mm</td></tr><tr><th>2</th><td>2020-11-17</td><td>4.1 mm</td><td>0.0 mm</td></tr><tr><th>3</th><td>2020-11-18</td><td>0.0 mm</td><td>0.0 mm</td></tr><tr><th>4</th><td>2020-11-19</td><td>4.3 mm</td><td>1.2 mm</td></tr><tr><th>5</th><td>2020-11-20</td><td>2.0 mm</td><td>2.0 mm</td></tr><tr><th>6</th><td>2020-11-21</td><td>0.6 mm</td><td>0.0 mm</td></tr><tr><th>7</th><td>2020-11-22</td><td>1.0 mm</td><td>2.0 mm</td></tr></tbody></table>"
      ],
      "text/latex": [
       "\\begin{tabular}{r|ccc}\n",
       "\t& date & Olecko & Ełk\\\\\n",
       "\t\\hline\n",
       "\t& Date & Quantit… & Quantit…\\\\\n",
       "\t\\hline\n",
       "\t1 & 2020-11-16 & 2.9 mm & 3.9 mm \\\\\n",
       "\t2 & 2020-11-17 & 4.1 mm & 0.0 mm \\\\\n",
       "\t3 & 2020-11-18 & 0.0 mm & 0.0 mm \\\\\n",
       "\t4 & 2020-11-19 & 4.3 mm & 1.2 mm \\\\\n",
       "\t5 & 2020-11-20 & 2.0 mm & 2.0 mm \\\\\n",
       "\t6 & 2020-11-21 & 0.6 mm & 0.0 mm \\\\\n",
       "\t7 & 2020-11-22 & 1.0 mm & 2.0 mm \\\\\n",
       "\\end{tabular}\n"
      ],
      "text/plain": [
       "\u001b[1m7×3 DataFrame\u001b[0m\n",
       "\u001b[1m Row \u001b[0m│\u001b[1m date       \u001b[0m\u001b[1m Olecko    \u001b[0m\u001b[1m Ełk       \u001b[0m\n",
       "\u001b[1m     \u001b[0m│\u001b[90m Date       \u001b[0m\u001b[90m Quantity… \u001b[0m\u001b[90m Quantity… \u001b[0m\n",
       "─────┼──────────────────────────────────\n",
       "   1 │ 2020-11-16     2.9 mm     3.9 mm\n",
       "   2 │ 2020-11-17     4.1 mm     0.0 mm\n",
       "   3 │ 2020-11-18     0.0 mm     0.0 mm\n",
       "   4 │ 2020-11-19     4.3 mm     1.2 mm\n",
       "   5 │ 2020-11-20     2.0 mm     2.0 mm\n",
       "   6 │ 2020-11-21     0.6 mm     0.0 mm\n",
       "   7 │ 2020-11-22     1.0 mm     2.0 mm"
      ]
     },
     "execution_count": 23,
     "metadata": {},
     "output_type": "execute_result"
    }
   ],
   "source": [
    "@pipe leftjoin(alldays, rainfallwide, on=:date) |>\n",
    "    coalesce.(_, 0.0u\"mm\")"
   ]
  },
  {
   "cell_type": "code",
   "execution_count": null,
   "id": "involved-flour",
   "metadata": {},
   "outputs": [],
   "source": []
  }
 ],
 "metadata": {
  "kernelspec": {
   "display_name": "Julia 1.5.3",
   "language": "julia",
   "name": "julia-1.5"
  },
  "language_info": {
   "file_extension": ".jl",
   "mimetype": "application/julia",
   "name": "julia",
   "version": "1.5.3"
  }
 },
 "nbformat": 4,
 "nbformat_minor": 5
}
