{
 "cells": [
  {
   "cell_type": "code",
   "execution_count": 1,
   "id": "everyday-carol",
   "metadata": {},
   "outputs": [],
   "source": [
    "using Arrow\n",
    "using CSV\n",
    "using DataFrames\n",
    "using FreqTables\n",
    "using Pipe\n",
    "using Statistics"
   ]
  },
  {
   "cell_type": "code",
   "execution_count": 2,
   "id": "brazilian-location",
   "metadata": {},
   "outputs": [
    {
     "data": {
      "text/plain": [
       "(5, 200)"
      ]
     },
     "execution_count": 2,
     "metadata": {},
     "output_type": "execute_result"
    }
   ],
   "source": [
    "ENV[\"LINES\"], ENV[\"COLUMNS\"] = 5, 200"
   ]
  },
  {
   "cell_type": "code",
   "execution_count": 3,
   "id": "ignored-washington",
   "metadata": {},
   "outputs": [
    {
     "data": {
      "text/html": [
       "<table class=\"data-frame\"><thead><tr><th></th><th>mpg</th><th>cylinders</th><th>displacement</th><th>horsepower</th><th>weight</th><th>acceleration</th><th>year</th><th>origin</th><th>name</th><th>brand</th></tr><tr><th></th><th>Float64</th><th>Float64</th><th>Float64</th><th>Float64</th><th>Float64</th><th>Float64</th><th>Float64</th><th>Float64</th><th>String</th><th>String</th></tr></thead><tbody><p>392 rows × 10 columns</p><tr><th>1</th><td>18.0</td><td>8.0</td><td>307.0</td><td>130.0</td><td>3504.0</td><td>12.0</td><td>70.0</td><td>1.0</td><td>chevrolet chevelle malibu</td><td>chevrolet</td></tr><tr><th>2</th><td>15.0</td><td>8.0</td><td>350.0</td><td>165.0</td><td>3693.0</td><td>11.5</td><td>70.0</td><td>1.0</td><td>buick skylark 320</td><td>buick</td></tr><tr><th>3</th><td>18.0</td><td>8.0</td><td>318.0</td><td>150.0</td><td>3436.0</td><td>11.0</td><td>70.0</td><td>1.0</td><td>plymouth satellite</td><td>plymouth</td></tr><tr><th>4</th><td>16.0</td><td>8.0</td><td>304.0</td><td>150.0</td><td>3433.0</td><td>12.0</td><td>70.0</td><td>1.0</td><td>amc rebel sst</td><td>amc</td></tr><tr><th>5</th><td>17.0</td><td>8.0</td><td>302.0</td><td>140.0</td><td>3449.0</td><td>10.5</td><td>70.0</td><td>1.0</td><td>ford torino</td><td>ford</td></tr><tr><th>&vellip;</th><td>&vellip;</td><td>&vellip;</td><td>&vellip;</td><td>&vellip;</td><td>&vellip;</td><td>&vellip;</td><td>&vellip;</td><td>&vellip;</td><td>&vellip;</td><td>&vellip;</td></tr></tbody></table>"
      ],
      "text/latex": [
       "\\begin{tabular}{r|cccccccccc}\n",
       "\t& mpg & cylinders & displacement & horsepower & weight & acceleration & year & origin & name & brand\\\\\n",
       "\t\\hline\n",
       "\t& Float64 & Float64 & Float64 & Float64 & Float64 & Float64 & Float64 & Float64 & String & String\\\\\n",
       "\t\\hline\n",
       "\t1 & 18.0 & 8.0 & 307.0 & 130.0 & 3504.0 & 12.0 & 70.0 & 1.0 & chevrolet chevelle malibu & chevrolet \\\\\n",
       "\t2 & 15.0 & 8.0 & 350.0 & 165.0 & 3693.0 & 11.5 & 70.0 & 1.0 & buick skylark 320 & buick \\\\\n",
       "\t3 & 18.0 & 8.0 & 318.0 & 150.0 & 3436.0 & 11.0 & 70.0 & 1.0 & plymouth satellite & plymouth \\\\\n",
       "\t4 & 16.0 & 8.0 & 304.0 & 150.0 & 3433.0 & 12.0 & 70.0 & 1.0 & amc rebel sst & amc \\\\\n",
       "\t5 & 17.0 & 8.0 & 302.0 & 140.0 & 3449.0 & 10.5 & 70.0 & 1.0 & ford torino & ford \\\\\n",
       "\t$\\dots$ & $\\dots$ & $\\dots$ & $\\dots$ & $\\dots$ & $\\dots$ & $\\dots$ & $\\dots$ & $\\dots$ & $\\dots$ & $\\dots$ \\\\\n",
       "\\end{tabular}\n"
      ],
      "text/plain": [
       "\u001b[1m392×10 DataFrame\u001b[0m\n",
       "\u001b[1m Row \u001b[0m│\u001b[1m mpg     \u001b[0m\u001b[1m cylinders \u001b[0m\u001b[1m displacement \u001b[0m\u001b[1m horsepower \u001b[0m\u001b[1m weight  \u001b[0m\u001b[1m acceleration \u001b[0m\u001b[1m year    \u001b[0m\u001b[1m origin  \u001b[0m\u001b[1m name                      \u001b[0m\u001b[1m brand     \u001b[0m\n",
       "\u001b[1m     \u001b[0m│\u001b[90m Float64 \u001b[0m\u001b[90m Float64   \u001b[0m\u001b[90m Float64      \u001b[0m\u001b[90m Float64    \u001b[0m\u001b[90m Float64 \u001b[0m\u001b[90m Float64      \u001b[0m\u001b[90m Float64 \u001b[0m\u001b[90m Float64 \u001b[0m\u001b[90m String                    \u001b[0m\u001b[90m String    \u001b[0m\n",
       "─────┼─────────────────────────────────────────────────────────────────────────────────────────────────────────────────────────────\n",
       "  ⋮  │    ⋮         ⋮           ⋮            ⋮          ⋮          ⋮           ⋮        ⋮                 ⋮                  ⋮\n",
       "\u001b[36m                                                                                                                   392 rows omitted\u001b[0m"
      ]
     },
     "execution_count": 3,
     "metadata": {},
     "output_type": "execute_result"
    }
   ],
   "source": [
    "DATA  = \"../../data\"\n",
    "df = CSV.File(\"$DATA/auto2.csv\") |> DataFrame"
   ]
  },
  {
   "cell_type": "code",
   "execution_count": 4,
   "id": "typical-texture",
   "metadata": {},
   "outputs": [
    {
     "data": {
      "text/html": [
       "<table class=\"data-frame\"><thead><tr><th></th><th>mpg</th><th>cylinders</th><th>displacement</th><th>horsepower</th><th>weight</th><th>acceleration</th><th>year</th><th>origin</th><th>name</th><th>brand</th></tr><tr><th></th><th>Float64</th><th>Float64</th><th>Float64</th><th>Float64</th><th>Float64</th><th>Float64</th><th>Float64</th><th>Float64</th><th>String</th><th>String</th></tr></thead><tbody><p>392 rows × 10 columns</p><tr><th>1</th><td>18.0</td><td>8.0</td><td>307.0</td><td>130.0</td><td>3504.0</td><td>12.0</td><td>70.0</td><td>1.0</td><td>chevrolet chevelle malibu</td><td>chevrolet</td></tr><tr><th>2</th><td>15.0</td><td>8.0</td><td>350.0</td><td>165.0</td><td>3693.0</td><td>11.5</td><td>70.0</td><td>1.0</td><td>buick skylark 320</td><td>buick</td></tr><tr><th>3</th><td>18.0</td><td>8.0</td><td>318.0</td><td>150.0</td><td>3436.0</td><td>11.0</td><td>70.0</td><td>1.0</td><td>plymouth satellite</td><td>plymouth</td></tr><tr><th>4</th><td>16.0</td><td>8.0</td><td>304.0</td><td>150.0</td><td>3433.0</td><td>12.0</td><td>70.0</td><td>1.0</td><td>amc rebel sst</td><td>amc</td></tr><tr><th>5</th><td>17.0</td><td>8.0</td><td>302.0</td><td>140.0</td><td>3449.0</td><td>10.5</td><td>70.0</td><td>1.0</td><td>ford torino</td><td>ford</td></tr><tr><th>&vellip;</th><td>&vellip;</td><td>&vellip;</td><td>&vellip;</td><td>&vellip;</td><td>&vellip;</td><td>&vellip;</td><td>&vellip;</td><td>&vellip;</td><td>&vellip;</td><td>&vellip;</td></tr></tbody></table>"
      ],
      "text/latex": [
       "\\begin{tabular}{r|cccccccccc}\n",
       "\t& mpg & cylinders & displacement & horsepower & weight & acceleration & year & origin & name & brand\\\\\n",
       "\t\\hline\n",
       "\t& Float64 & Float64 & Float64 & Float64 & Float64 & Float64 & Float64 & Float64 & String & String\\\\\n",
       "\t\\hline\n",
       "\t1 & 18.0 & 8.0 & 307.0 & 130.0 & 3504.0 & 12.0 & 70.0 & 1.0 & chevrolet chevelle malibu & chevrolet \\\\\n",
       "\t2 & 15.0 & 8.0 & 350.0 & 165.0 & 3693.0 & 11.5 & 70.0 & 1.0 & buick skylark 320 & buick \\\\\n",
       "\t3 & 18.0 & 8.0 & 318.0 & 150.0 & 3436.0 & 11.0 & 70.0 & 1.0 & plymouth satellite & plymouth \\\\\n",
       "\t4 & 16.0 & 8.0 & 304.0 & 150.0 & 3433.0 & 12.0 & 70.0 & 1.0 & amc rebel sst & amc \\\\\n",
       "\t5 & 17.0 & 8.0 & 302.0 & 140.0 & 3449.0 & 10.5 & 70.0 & 1.0 & ford torino & ford \\\\\n",
       "\t$\\dots$ & $\\dots$ & $\\dots$ & $\\dots$ & $\\dots$ & $\\dots$ & $\\dots$ & $\\dots$ & $\\dots$ & $\\dots$ & $\\dots$ \\\\\n",
       "\\end{tabular}\n"
      ],
      "text/plain": [
       "\u001b[1m392×10 DataFrame\u001b[0m\n",
       "\u001b[1m Row \u001b[0m│\u001b[1m mpg     \u001b[0m\u001b[1m cylinders \u001b[0m\u001b[1m displacement \u001b[0m\u001b[1m horsepower \u001b[0m\u001b[1m weight  \u001b[0m\u001b[1m acceleration \u001b[0m\u001b[1m year    \u001b[0m\u001b[1m origin  \u001b[0m\u001b[1m name                      \u001b[0m\u001b[1m brand     \u001b[0m\n",
       "\u001b[1m     \u001b[0m│\u001b[90m Float64 \u001b[0m\u001b[90m Float64   \u001b[0m\u001b[90m Float64      \u001b[0m\u001b[90m Float64    \u001b[0m\u001b[90m Float64 \u001b[0m\u001b[90m Float64      \u001b[0m\u001b[90m Float64 \u001b[0m\u001b[90m Float64 \u001b[0m\u001b[90m String                    \u001b[0m\u001b[90m String    \u001b[0m\n",
       "─────┼─────────────────────────────────────────────────────────────────────────────────────────────────────────────────────────────\n",
       "  ⋮  │    ⋮         ⋮           ⋮            ⋮          ⋮          ⋮           ⋮        ⋮                 ⋮                  ⋮\n",
       "\u001b[36m                                                                                                                   392 rows omitted\u001b[0m"
      ]
     },
     "execution_count": 4,
     "metadata": {},
     "output_type": "execute_result"
    }
   ],
   "source": [
    "df2 = Arrow.Table(\"$DATA/auto2.arrow\") |> DataFrame"
   ]
  },
  {
   "cell_type": "code",
   "execution_count": 5,
   "id": "domestic-belief",
   "metadata": {},
   "outputs": [
    {
     "data": {
      "text/plain": [
       "true"
      ]
     },
     "execution_count": 5,
     "metadata": {},
     "output_type": "execute_result"
    }
   ],
   "source": [
    "df == df2"
   ]
  },
  {
   "cell_type": "code",
   "execution_count": 6,
   "id": "historical-trinity",
   "metadata": {},
   "outputs": [
    {
     "data": {
      "text/plain": [
       "392-element Array{Float64,1}:\n",
       " ⋮"
      ]
     },
     "execution_count": 6,
     "metadata": {},
     "output_type": "execute_result"
    }
   ],
   "source": [
    "df2.mpg"
   ]
  },
  {
   "cell_type": "code",
   "execution_count": 7,
   "id": "connected-programmer",
   "metadata": {},
   "outputs": [
    {
     "data": {
      "text/html": [
       "<table class=\"data-frame\"><thead><tr><th></th><th>mpg</th><th>cylinders</th><th>displacement</th><th>horsepower</th><th>weight</th><th>acceleration</th><th>year</th><th>origin</th><th>name</th><th>brand</th></tr><tr><th></th><th>Float64</th><th>Float64</th><th>Float64</th><th>Float64</th><th>Float64</th><th>Float64</th><th>Float64</th><th>Float64</th><th>String</th><th>String</th></tr></thead><tbody><p>392 rows × 10 columns</p><tr><th>1</th><td>18.0</td><td>8.0</td><td>307.0</td><td>130.0</td><td>3504.0</td><td>12.0</td><td>70.0</td><td>1.0</td><td>chevrolet chevelle malibu</td><td>chevrolet</td></tr><tr><th>2</th><td>15.0</td><td>8.0</td><td>350.0</td><td>165.0</td><td>3693.0</td><td>11.5</td><td>70.0</td><td>1.0</td><td>buick skylark 320</td><td>buick</td></tr><tr><th>3</th><td>18.0</td><td>8.0</td><td>318.0</td><td>150.0</td><td>3436.0</td><td>11.0</td><td>70.0</td><td>1.0</td><td>plymouth satellite</td><td>plymouth</td></tr><tr><th>4</th><td>16.0</td><td>8.0</td><td>304.0</td><td>150.0</td><td>3433.0</td><td>12.0</td><td>70.0</td><td>1.0</td><td>amc rebel sst</td><td>amc</td></tr><tr><th>5</th><td>17.0</td><td>8.0</td><td>302.0</td><td>140.0</td><td>3449.0</td><td>10.5</td><td>70.0</td><td>1.0</td><td>ford torino</td><td>ford</td></tr><tr><th>&vellip;</th><td>&vellip;</td><td>&vellip;</td><td>&vellip;</td><td>&vellip;</td><td>&vellip;</td><td>&vellip;</td><td>&vellip;</td><td>&vellip;</td><td>&vellip;</td><td>&vellip;</td></tr></tbody></table>"
      ],
      "text/latex": [
       "\\begin{tabular}{r|cccccccccc}\n",
       "\t& mpg & cylinders & displacement & horsepower & weight & acceleration & year & origin & name & brand\\\\\n",
       "\t\\hline\n",
       "\t& Float64 & Float64 & Float64 & Float64 & Float64 & Float64 & Float64 & Float64 & String & String\\\\\n",
       "\t\\hline\n",
       "\t1 & 18.0 & 8.0 & 307.0 & 130.0 & 3504.0 & 12.0 & 70.0 & 1.0 & chevrolet chevelle malibu & chevrolet \\\\\n",
       "\t2 & 15.0 & 8.0 & 350.0 & 165.0 & 3693.0 & 11.5 & 70.0 & 1.0 & buick skylark 320 & buick \\\\\n",
       "\t3 & 18.0 & 8.0 & 318.0 & 150.0 & 3436.0 & 11.0 & 70.0 & 1.0 & plymouth satellite & plymouth \\\\\n",
       "\t4 & 16.0 & 8.0 & 304.0 & 150.0 & 3433.0 & 12.0 & 70.0 & 1.0 & amc rebel sst & amc \\\\\n",
       "\t5 & 17.0 & 8.0 & 302.0 & 140.0 & 3449.0 & 10.5 & 70.0 & 1.0 & ford torino & ford \\\\\n",
       "\t$\\dots$ & $\\dots$ & $\\dots$ & $\\dots$ & $\\dots$ & $\\dots$ & $\\dots$ & $\\dots$ & $\\dots$ & $\\dots$ & $\\dots$ \\\\\n",
       "\\end{tabular}\n"
      ],
      "text/plain": [
       "\u001b[1m392×10 DataFrame\u001b[0m\n",
       "\u001b[1m Row \u001b[0m│\u001b[1m mpg     \u001b[0m\u001b[1m cylinders \u001b[0m\u001b[1m displacement \u001b[0m\u001b[1m horsepower \u001b[0m\u001b[1m weight  \u001b[0m\u001b[1m acceleration \u001b[0m\u001b[1m year    \u001b[0m\u001b[1m origin  \u001b[0m\u001b[1m name                      \u001b[0m\u001b[1m brand     \u001b[0m\n",
       "\u001b[1m     \u001b[0m│\u001b[90m Float64 \u001b[0m\u001b[90m Float64   \u001b[0m\u001b[90m Float64      \u001b[0m\u001b[90m Float64    \u001b[0m\u001b[90m Float64 \u001b[0m\u001b[90m Float64      \u001b[0m\u001b[90m Float64 \u001b[0m\u001b[90m Float64 \u001b[0m\u001b[90m String                    \u001b[0m\u001b[90m String    \u001b[0m\n",
       "─────┼─────────────────────────────────────────────────────────────────────────────────────────────────────────────────────────────\n",
       "  ⋮  │    ⋮         ⋮           ⋮            ⋮          ⋮          ⋮           ⋮        ⋮                 ⋮                  ⋮\n",
       "\u001b[36m                                                                                                                   392 rows omitted\u001b[0m"
      ]
     },
     "execution_count": 7,
     "metadata": {},
     "output_type": "execute_result"
    }
   ],
   "source": [
    "df3 = copy(df2)"
   ]
  },
  {
   "cell_type": "code",
   "execution_count": 8,
   "id": "distinguished-quick",
   "metadata": {},
   "outputs": [
    {
     "data": {
      "text/html": [
       "<p><b>GroupedDataFrame with 37 groups based on key: brand</b></p><p><i>First Group (43 rows): brand = \"chevrolet\"</i></p><table class=\"data-frame\"><thead><tr><th></th><th>mpg</th><th>cylinders</th><th>displacement</th><th>horsepower</th><th>weight</th><th>acceleration</th><th>year</th><th>origin</th><th>name</th><th>brand</th></tr><tr><th></th><th>Float64</th><th>Float64</th><th>Float64</th><th>Float64</th><th>Float64</th><th>Float64</th><th>Float64</th><th>Float64</th><th>String</th><th>String</th></tr></thead><tbody><tr><th>1</th><td>18.0</td><td>8.0</td><td>307.0</td><td>130.0</td><td>3504.0</td><td>12.0</td><td>70.0</td><td>1.0</td><td>chevrolet chevelle malibu</td><td>chevrolet</td></tr><tr><th>2</th><td>14.0</td><td>8.0</td><td>454.0</td><td>220.0</td><td>4354.0</td><td>9.0</td><td>70.0</td><td>1.0</td><td>chevrolet impala</td><td>chevrolet</td></tr><tr><th>3</th><td>15.0</td><td>8.0</td><td>400.0</td><td>150.0</td><td>3761.0</td><td>9.5</td><td>70.0</td><td>1.0</td><td>chevrolet monte carlo</td><td>chevrolet</td></tr><tr><th>4</th><td>28.0</td><td>4.0</td><td>140.0</td><td>90.0</td><td>2264.0</td><td>15.5</td><td>71.0</td><td>1.0</td><td>chevrolet vega 2300</td><td>chevrolet</td></tr><tr><th>5</th><td>17.0</td><td>6.0</td><td>250.0</td><td>100.0</td><td>3329.0</td><td>15.5</td><td>71.0</td><td>1.0</td><td>chevrolet chevelle malibu</td><td>chevrolet</td></tr><tr><th>&vellip;</th><td>&vellip;</td><td>&vellip;</td><td>&vellip;</td><td>&vellip;</td><td>&vellip;</td><td>&vellip;</td><td>&vellip;</td><td>&vellip;</td><td>&vellip;</td><td>&vellip;</td></tr></tbody></table><p>&vellip;</p><p><i>Last Group (1 row): brand = \"nissan\"</i></p><table class=\"data-frame\"><thead><tr><th></th><th>mpg</th><th>cylinders</th><th>displacement</th><th>horsepower</th><th>weight</th><th>acceleration</th><th>year</th><th>origin</th><th>name</th><th>brand</th></tr><tr><th></th><th>Float64</th><th>Float64</th><th>Float64</th><th>Float64</th><th>Float64</th><th>Float64</th><th>Float64</th><th>Float64</th><th>String</th><th>String</th></tr></thead><tbody><tr><th>1</th><td>36.0</td><td>4.0</td><td>120.0</td><td>88.0</td><td>2160.0</td><td>14.5</td><td>82.0</td><td>3.0</td><td>nissan stanza xe</td><td>nissan</td></tr></tbody></table>"
      ],
      "text/latex": [
       "GroupedDataFrame with 37 groups based on key: brand\n",
       "\n",
       "First Group (43 rows): brand = \"chevrolet\"\n",
       "\n",
       "\\begin{tabular}{r|cccccccccc}\n",
       "\t& mpg & cylinders & displacement & horsepower & weight & acceleration & year & origin & name & brand\\\\\n",
       "\t\\hline\n",
       "\t& Float64 & Float64 & Float64 & Float64 & Float64 & Float64 & Float64 & Float64 & String & String\\\\\n",
       "\t\\hline\n",
       "\t1 & 18.0 & 8.0 & 307.0 & 130.0 & 3504.0 & 12.0 & 70.0 & 1.0 & chevrolet chevelle malibu & chevrolet \\\\\n",
       "\t2 & 14.0 & 8.0 & 454.0 & 220.0 & 4354.0 & 9.0 & 70.0 & 1.0 & chevrolet impala & chevrolet \\\\\n",
       "\t3 & 15.0 & 8.0 & 400.0 & 150.0 & 3761.0 & 9.5 & 70.0 & 1.0 & chevrolet monte carlo & chevrolet \\\\\n",
       "\t4 & 28.0 & 4.0 & 140.0 & 90.0 & 2264.0 & 15.5 & 71.0 & 1.0 & chevrolet vega 2300 & chevrolet \\\\\n",
       "\t5 & 17.0 & 6.0 & 250.0 & 100.0 & 3329.0 & 15.5 & 71.0 & 1.0 & chevrolet chevelle malibu & chevrolet \\\\\n",
       "\t$\\dots$ & $\\dots$ & $\\dots$ & $\\dots$ & $\\dots$ & $\\dots$ & $\\dots$ & $\\dots$ & $\\dots$ & $\\dots$ & $\\dots$ \\\\\n",
       "\\end{tabular}\n",
       "\n",
       "$\\dots$\n",
       "\n",
       "Last Group (1 row): brand = \"nissan\"\n",
       "\n",
       "\\begin{tabular}{r|cccccccccc}\n",
       "\t& mpg & cylinders & displacement & horsepower & weight & acceleration & year & origin & name & brand\\\\\n",
       "\t\\hline\n",
       "\t& Float64 & Float64 & Float64 & Float64 & Float64 & Float64 & Float64 & Float64 & String & String\\\\\n",
       "\t\\hline\n",
       "\t1 & 36.0 & 4.0 & 120.0 & 88.0 & 2160.0 & 14.5 & 82.0 & 3.0 & nissan stanza xe & nissan \\\\\n",
       "\\end{tabular}\n"
      ],
      "text/plain": [
       "GroupedDataFrame with 37 groups based on key: brand\n",
       "First Group (43 rows): brand = \"chevrolet\"\n",
       "\u001b[1m Row \u001b[0m│\u001b[1m mpg     \u001b[0m\u001b[1m cylinders \u001b[0m\u001b[1m displacement \u001b[0m\u001b[1m horsepower \u001b[0m\u001b[1m weight  \u001b[0m\u001b[1m acceleration \u001b[0m\u001b[1m year    \u001b[0m\u001b[1m origin  \u001b[0m\u001b[1m name                      \u001b[0m\u001b[1m brand     \u001b[0m\n",
       "\u001b[1m     \u001b[0m│\u001b[90m Float64 \u001b[0m\u001b[90m Float64   \u001b[0m\u001b[90m Float64      \u001b[0m\u001b[90m Float64    \u001b[0m\u001b[90m Float64 \u001b[0m\u001b[90m Float64      \u001b[0m\u001b[90m Float64 \u001b[0m\u001b[90m Float64 \u001b[0m\u001b[90m String                    \u001b[0m\u001b[90m String    \u001b[0m\n",
       "─────┼─────────────────────────────────────────────────────────────────────────────────────────────────────────────────────────────\n",
       "  ⋮  │    ⋮         ⋮           ⋮            ⋮          ⋮          ⋮           ⋮        ⋮                 ⋮                  ⋮\n",
       "\u001b[36m                                                                                                                    43 rows omitted\u001b[0m\n",
       "⋮\n",
       "Last Group (1 row): brand = \"nissan\"\n",
       "\u001b[1m Row \u001b[0m│\u001b[1m mpg     \u001b[0m\u001b[1m cylinders \u001b[0m\u001b[1m displacement \u001b[0m\u001b[1m horsepower \u001b[0m\u001b[1m weight  \u001b[0m\u001b[1m acceleration \u001b[0m\u001b[1m year    \u001b[0m\u001b[1m origin  \u001b[0m\u001b[1m name             \u001b[0m\u001b[1m brand  \u001b[0m\n",
       "\u001b[1m     \u001b[0m│\u001b[90m Float64 \u001b[0m\u001b[90m Float64   \u001b[0m\u001b[90m Float64      \u001b[0m\u001b[90m Float64    \u001b[0m\u001b[90m Float64 \u001b[0m\u001b[90m Float64      \u001b[0m\u001b[90m Float64 \u001b[0m\u001b[90m Float64 \u001b[0m\u001b[90m String           \u001b[0m\u001b[90m String \u001b[0m\n",
       "─────┼─────────────────────────────────────────────────────────────────────────────────────────────────────────────────\n",
       "  ⋮  │    ⋮         ⋮           ⋮            ⋮          ⋮          ⋮           ⋮        ⋮            ⋮            ⋮\n",
       "\u001b[36m                                                                                                          1 row omitted\u001b[0m"
      ]
     },
     "execution_count": 8,
     "metadata": {},
     "output_type": "execute_result"
    }
   ],
   "source": [
    "gdf = groupby(df, :brand)"
   ]
  },
  {
   "cell_type": "code",
   "execution_count": 9,
   "id": "micro-evening",
   "metadata": {},
   "outputs": [
    {
     "data": {
      "text/html": [
       "<table class=\"data-frame\"><thead><tr><th></th><th>mpg</th><th>cylinders</th><th>displacement</th><th>horsepower</th><th>weight</th><th>acceleration</th><th>year</th><th>origin</th><th>name</th><th>brand</th></tr><tr><th></th><th>Float64</th><th>Float64</th><th>Float64</th><th>Float64</th><th>Float64</th><th>Float64</th><th>Float64</th><th>Float64</th><th>String</th><th>String</th></tr></thead><tbody><p>48 rows × 10 columns</p><tr><th>1</th><td>17.0</td><td>8.0</td><td>302.0</td><td>140.0</td><td>3449.0</td><td>10.5</td><td>70.0</td><td>1.0</td><td>ford torino</td><td>ford</td></tr><tr><th>2</th><td>15.0</td><td>8.0</td><td>429.0</td><td>198.0</td><td>4341.0</td><td>10.0</td><td>70.0</td><td>1.0</td><td>ford galaxie 500</td><td>ford</td></tr><tr><th>3</th><td>21.0</td><td>6.0</td><td>200.0</td><td>85.0</td><td>2587.0</td><td>16.0</td><td>70.0</td><td>1.0</td><td>ford maverick</td><td>ford</td></tr><tr><th>4</th><td>10.0</td><td>8.0</td><td>360.0</td><td>215.0</td><td>4615.0</td><td>14.0</td><td>70.0</td><td>1.0</td><td>ford f250</td><td>ford</td></tr><tr><th>5</th><td>19.0</td><td>6.0</td><td>250.0</td><td>88.0</td><td>3302.0</td><td>15.5</td><td>71.0</td><td>1.0</td><td>ford torino 500</td><td>ford</td></tr><tr><th>&vellip;</th><td>&vellip;</td><td>&vellip;</td><td>&vellip;</td><td>&vellip;</td><td>&vellip;</td><td>&vellip;</td><td>&vellip;</td><td>&vellip;</td><td>&vellip;</td><td>&vellip;</td></tr></tbody></table>"
      ],
      "text/latex": [
       "\\begin{tabular}{r|cccccccccc}\n",
       "\t& mpg & cylinders & displacement & horsepower & weight & acceleration & year & origin & name & brand\\\\\n",
       "\t\\hline\n",
       "\t& Float64 & Float64 & Float64 & Float64 & Float64 & Float64 & Float64 & Float64 & String & String\\\\\n",
       "\t\\hline\n",
       "\t1 & 17.0 & 8.0 & 302.0 & 140.0 & 3449.0 & 10.5 & 70.0 & 1.0 & ford torino & ford \\\\\n",
       "\t2 & 15.0 & 8.0 & 429.0 & 198.0 & 4341.0 & 10.0 & 70.0 & 1.0 & ford galaxie 500 & ford \\\\\n",
       "\t3 & 21.0 & 6.0 & 200.0 & 85.0 & 2587.0 & 16.0 & 70.0 & 1.0 & ford maverick & ford \\\\\n",
       "\t4 & 10.0 & 8.0 & 360.0 & 215.0 & 4615.0 & 14.0 & 70.0 & 1.0 & ford f250 & ford \\\\\n",
       "\t5 & 19.0 & 6.0 & 250.0 & 88.0 & 3302.0 & 15.5 & 71.0 & 1.0 & ford torino 500 & ford \\\\\n",
       "\t$\\dots$ & $\\dots$ & $\\dots$ & $\\dots$ & $\\dots$ & $\\dots$ & $\\dots$ & $\\dots$ & $\\dots$ & $\\dots$ & $\\dots$ \\\\\n",
       "\\end{tabular}\n"
      ],
      "text/plain": [
       "\u001b[1m48×10 SubDataFrame\u001b[0m\n",
       "\u001b[1m Row \u001b[0m│\u001b[1m mpg     \u001b[0m\u001b[1m cylinders \u001b[0m\u001b[1m displacement \u001b[0m\u001b[1m horsepower \u001b[0m\u001b[1m weight  \u001b[0m\u001b[1m acceleration \u001b[0m\u001b[1m year    \u001b[0m\u001b[1m origin  \u001b[0m\u001b[1m name             \u001b[0m\u001b[1m brand  \u001b[0m\n",
       "\u001b[1m     \u001b[0m│\u001b[90m Float64 \u001b[0m\u001b[90m Float64   \u001b[0m\u001b[90m Float64      \u001b[0m\u001b[90m Float64    \u001b[0m\u001b[90m Float64 \u001b[0m\u001b[90m Float64      \u001b[0m\u001b[90m Float64 \u001b[0m\u001b[90m Float64 \u001b[0m\u001b[90m String           \u001b[0m\u001b[90m String \u001b[0m\n",
       "─────┼─────────────────────────────────────────────────────────────────────────────────────────────────────────────────\n",
       "  ⋮  │    ⋮         ⋮           ⋮            ⋮          ⋮          ⋮           ⋮        ⋮            ⋮            ⋮\n",
       "\u001b[36m                                                                                                        48 rows omitted\u001b[0m"
      ]
     },
     "execution_count": 9,
     "metadata": {},
     "output_type": "execute_result"
    }
   ],
   "source": [
    "gdf[(\"ford\",)]"
   ]
  },
  {
   "cell_type": "code",
   "execution_count": 10,
   "id": "legislative-finnish",
   "metadata": {},
   "outputs": [
    {
     "data": {
      "text/html": [
       "<table class=\"data-frame\"><thead><tr><th></th><th>brand</th><th>mpg_mean</th></tr><tr><th></th><th>String</th><th>Float64</th></tr></thead><tbody><p>37 rows × 2 columns</p><tr><th>1</th><td>chevrolet</td><td>20.4721</td></tr><tr><th>2</th><td>buick</td><td>19.1824</td></tr><tr><th>3</th><td>plymouth</td><td>21.7032</td></tr><tr><th>4</th><td>amc</td><td>18.0704</td></tr><tr><th>5</th><td>ford</td><td>19.475</td></tr><tr><th>&vellip;</th><td>&vellip;</td><td>&vellip;</td></tr></tbody></table>"
      ],
      "text/latex": [
       "\\begin{tabular}{r|cc}\n",
       "\t& brand & mpg\\_mean\\\\\n",
       "\t\\hline\n",
       "\t& String & Float64\\\\\n",
       "\t\\hline\n",
       "\t1 & chevrolet & 20.4721 \\\\\n",
       "\t2 & buick & 19.1824 \\\\\n",
       "\t3 & plymouth & 21.7032 \\\\\n",
       "\t4 & amc & 18.0704 \\\\\n",
       "\t5 & ford & 19.475 \\\\\n",
       "\t$\\dots$ & $\\dots$ & $\\dots$ \\\\\n",
       "\\end{tabular}\n"
      ],
      "text/plain": [
       "\u001b[1m37×2 DataFrame\u001b[0m\n",
       "\u001b[1m Row \u001b[0m│\u001b[1m brand     \u001b[0m\u001b[1m mpg_mean \u001b[0m\n",
       "\u001b[1m     \u001b[0m│\u001b[90m String    \u001b[0m\u001b[90m Float64  \u001b[0m\n",
       "─────┼─────────────────────\n",
       "  ⋮  │     ⋮         ⋮\n",
       "\u001b[36m            37 rows omitted\u001b[0m"
      ]
     },
     "execution_count": 10,
     "metadata": {},
     "output_type": "execute_result"
    }
   ],
   "source": [
    "brand_mpg = combine(gdf, :mpg => mean)"
   ]
  },
  {
   "cell_type": "code",
   "execution_count": 11,
   "id": "proud-korean",
   "metadata": {},
   "outputs": [
    {
     "data": {
      "text/html": [
       "<table class=\"data-frame\"><thead><tr><th></th><th>brand</th><th>mean_mpg</th></tr><tr><th></th><th>String</th><th>Float64</th></tr></thead><tbody><p>37 rows × 2 columns</p><tr><th>1</th><td>chevrolet</td><td>20.4721</td></tr><tr><th>2</th><td>buick</td><td>19.1824</td></tr><tr><th>3</th><td>plymouth</td><td>21.7032</td></tr><tr><th>4</th><td>amc</td><td>18.0704</td></tr><tr><th>5</th><td>ford</td><td>19.475</td></tr><tr><th>&vellip;</th><td>&vellip;</td><td>&vellip;</td></tr></tbody></table>"
      ],
      "text/latex": [
       "\\begin{tabular}{r|cc}\n",
       "\t& brand & mean\\_mpg\\\\\n",
       "\t\\hline\n",
       "\t& String & Float64\\\\\n",
       "\t\\hline\n",
       "\t1 & chevrolet & 20.4721 \\\\\n",
       "\t2 & buick & 19.1824 \\\\\n",
       "\t3 & plymouth & 21.7032 \\\\\n",
       "\t4 & amc & 18.0704 \\\\\n",
       "\t5 & ford & 19.475 \\\\\n",
       "\t$\\dots$ & $\\dots$ & $\\dots$ \\\\\n",
       "\\end{tabular}\n"
      ],
      "text/plain": [
       "\u001b[1m37×2 DataFrame\u001b[0m\n",
       "\u001b[1m Row \u001b[0m│\u001b[1m brand     \u001b[0m\u001b[1m mean_mpg \u001b[0m\n",
       "\u001b[1m     \u001b[0m│\u001b[90m String    \u001b[0m\u001b[90m Float64  \u001b[0m\n",
       "─────┼─────────────────────\n",
       "  ⋮  │     ⋮         ⋮\n",
       "\u001b[36m            37 rows omitted\u001b[0m"
      ]
     },
     "execution_count": 11,
     "metadata": {},
     "output_type": "execute_result"
    }
   ],
   "source": [
    "combine(gdf, :mpg => mean => :mean_mpg)"
   ]
  },
  {
   "cell_type": "code",
   "execution_count": 12,
   "id": "multiple-municipality",
   "metadata": {},
   "outputs": [
    {
     "data": {
      "text/html": [
       "<table class=\"data-frame\"><thead><tr><th></th><th>brand</th><th>mpg_mean</th></tr><tr><th></th><th>String</th><th>Float64</th></tr></thead><tbody><p>37 rows × 2 columns</p><tr><th>1</th><td>vw</td><td>39.0167</td></tr><tr><th>2</th><td>nissan</td><td>36.0</td></tr><tr><th>3</th><td>triumph</td><td>35.0</td></tr><tr><th>4</th><td>honda</td><td>33.7615</td></tr><tr><th>5</th><td>datsun</td><td>31.113</td></tr><tr><th>&vellip;</th><td>&vellip;</td><td>&vellip;</td></tr></tbody></table>"
      ],
      "text/latex": [
       "\\begin{tabular}{r|cc}\n",
       "\t& brand & mpg\\_mean\\\\\n",
       "\t\\hline\n",
       "\t& String & Float64\\\\\n",
       "\t\\hline\n",
       "\t1 & vw & 39.0167 \\\\\n",
       "\t2 & nissan & 36.0 \\\\\n",
       "\t3 & triumph & 35.0 \\\\\n",
       "\t4 & honda & 33.7615 \\\\\n",
       "\t5 & datsun & 31.113 \\\\\n",
       "\t$\\dots$ & $\\dots$ & $\\dots$ \\\\\n",
       "\\end{tabular}\n"
      ],
      "text/plain": [
       "\u001b[1m37×2 DataFrame\u001b[0m\n",
       "\u001b[1m Row \u001b[0m│\u001b[1m brand     \u001b[0m\u001b[1m mpg_mean \u001b[0m\n",
       "\u001b[1m     \u001b[0m│\u001b[90m String    \u001b[0m\u001b[90m Float64  \u001b[0m\n",
       "─────┼─────────────────────\n",
       "  ⋮  │     ⋮         ⋮\n",
       "\u001b[36m            37 rows omitted\u001b[0m"
      ]
     },
     "execution_count": 12,
     "metadata": {},
     "output_type": "execute_result"
    }
   ],
   "source": [
    "sort!(brand_mpg, :mpg_mean, rev=true)"
   ]
  },
  {
   "cell_type": "code",
   "execution_count": 13,
   "id": "rolled-commissioner",
   "metadata": {},
   "outputs": [
    {
     "ename": "ArgumentError",
     "evalue": "\u001b[91mArgumentError: reducing over an empty collection is not allowed\u001b[39m",
     "output_type": "error",
     "traceback": [
      "\u001b[91mArgumentError: reducing over an empty collection is not allowed\u001b[39m",
      "",
      "Stacktrace:",
      " [1] _empty_reduce_error() at ./reduce.jl:299",
      " [2] reduce_empty(::Function, ::Type{Int64}) at ./reduce.jl:309",
      " [3] mapreduce_empty(::typeof(identity), ::Function, ::Type{T} where T) at ./reduce.jl:343",
      " [4] reduce_empty(::Base.MappingRF{typeof(identity),typeof(max)}, ::Type{Int64}) at ./reduce.jl:329",
      " [5] reduce_empty_iter at ./reduce.jl:355 [inlined]",
      " [6] mapreduce_empty_iter(::Function, ::Function, ::Array{Int64,2}, ::Base.HasEltype) at ./reduce.jl:351",
      " [7] _mapreduce(::typeof(identity), ::typeof(max), ::IndexLinear, ::Array{Int64,2}) at ./reduce.jl:400",
      " [8] _mapreduce_dim at ./reducedim.jl:318 [inlined]",
      " [9] #mapreduce#620 at ./reducedim.jl:310 [inlined]",
      " [10] mapreduce at ./reducedim.jl:310 [inlined]",
      " [11] _maximum at ./reducedim.jl:727 [inlined]",
      " [12] _maximum at ./reducedim.jl:726 [inlined]",
      " [13] #maximum#631 at ./reducedim.jl:722 [inlined]",
      " [14] maximum at ./reducedim.jl:722 [inlined]",
      " [15] show(::IOContext{Base.GenericIOBuffer{Array{UInt8,1}}}, ::NamedArrays.NamedArray{Int64,2,Array{Int64,2},Tuple{OrderedCollections.OrderedDict{String,Int64},OrderedCollections.OrderedDict{Float64,Int64}}}, ::Int64) at /Users/dsatterthwaite/.julia/packages/NamedArrays/TV2JR/src/show.jl:113",
      " [16] show(::IOContext{Base.GenericIOBuffer{Array{UInt8,1}}}, ::NamedArrays.NamedArray{Int64,2,Array{Int64,2},Tuple{OrderedCollections.OrderedDict{String,Int64},OrderedCollections.OrderedDict{Float64,Int64}}}) at /Users/dsatterthwaite/.julia/packages/NamedArrays/TV2JR/src/show.jl:38",
      " [17] show at /Users/dsatterthwaite/.julia/packages/NamedArrays/TV2JR/src/show.jl:24 [inlined]",
      " [18] limitstringmime(::MIME{Symbol(\"text/plain\")}, ::NamedArrays.NamedArray{Int64,2,Array{Int64,2},Tuple{OrderedCollections.OrderedDict{String,Int64},OrderedCollections.OrderedDict{Float64,Int64}}}) at /Users/dsatterthwaite/.julia/packages/IJulia/e8kqU/src/inline.jl:43",
      " [19] display_mimestring at /Users/dsatterthwaite/.julia/packages/IJulia/e8kqU/src/display.jl:71 [inlined]",
      " [20] display_dict(::NamedArrays.NamedArray{Int64,2,Array{Int64,2},Tuple{OrderedCollections.OrderedDict{String,Int64},OrderedCollections.OrderedDict{Float64,Int64}}}) at /Users/dsatterthwaite/.julia/packages/IJulia/e8kqU/src/display.jl:102",
      " [21] #invokelatest#1 at ./essentials.jl:710 [inlined]",
      " [22] invokelatest at ./essentials.jl:709 [inlined]",
      " [23] execute_request(::ZMQ.Socket, ::IJulia.Msg) at /Users/dsatterthwaite/.julia/packages/IJulia/e8kqU/src/execute_request.jl:112",
      " [24] #invokelatest#1 at ./essentials.jl:710 [inlined]",
      " [25] invokelatest at ./essentials.jl:709 [inlined]",
      " [26] eventloop(::ZMQ.Socket) at /Users/dsatterthwaite/.julia/packages/IJulia/e8kqU/src/eventloop.jl:8",
      " [27] (::IJulia.var\"#15#18\")() at ./task.jl:356"
     ]
    }
   ],
   "source": [
    "freqtable(df, :brand, :origin)"
   ]
  },
  {
   "cell_type": "code",
   "execution_count": 14,
   "id": "painful-agenda",
   "metadata": {},
   "outputs": [
    {
     "data": {
      "text/html": [
       "<table class=\"data-frame\"><thead><tr><th></th><th>brand</th><th>origin_function</th></tr><tr><th></th><th>String</th><th>Int64</th></tr></thead><tbody><p>37 rows × 2 columns</p><tr><th>1</th><td>chevrolet</td><td>1</td></tr><tr><th>2</th><td>buick</td><td>1</td></tr><tr><th>3</th><td>plymouth</td><td>1</td></tr><tr><th>4</th><td>amc</td><td>1</td></tr><tr><th>5</th><td>ford</td><td>1</td></tr><tr><th>&vellip;</th><td>&vellip;</td><td>&vellip;</td></tr></tbody></table>"
      ],
      "text/latex": [
       "\\begin{tabular}{r|cc}\n",
       "\t& brand & origin\\_function\\\\\n",
       "\t\\hline\n",
       "\t& String & Int64\\\\\n",
       "\t\\hline\n",
       "\t1 & chevrolet & 1 \\\\\n",
       "\t2 & buick & 1 \\\\\n",
       "\t3 & plymouth & 1 \\\\\n",
       "\t4 & amc & 1 \\\\\n",
       "\t5 & ford & 1 \\\\\n",
       "\t$\\dots$ & $\\dots$ & $\\dots$ \\\\\n",
       "\\end{tabular}\n"
      ],
      "text/plain": [
       "\u001b[1m37×2 DataFrame\u001b[0m\n",
       "\u001b[1m Row \u001b[0m│\u001b[1m brand     \u001b[0m\u001b[1m origin_function \u001b[0m\n",
       "\u001b[1m     \u001b[0m│\u001b[90m String    \u001b[0m\u001b[90m Int64           \u001b[0m\n",
       "─────┼────────────────────────────\n",
       "  ⋮  │     ⋮             ⋮\n",
       "\u001b[36m                   37 rows omitted\u001b[0m"
      ]
     },
     "execution_count": 14,
     "metadata": {},
     "output_type": "execute_result"
    }
   ],
   "source": [
    "origbrand = @pipe df |>\n",
    "    groupby(_, :brand) |>\n",
    "    combine(_, :origin => x -> length(unique(x)))"
   ]
  },
  {
   "cell_type": "code",
   "execution_count": 15,
   "id": "compact-delivery",
   "metadata": {},
   "outputs": [
    {
     "data": {
      "text/plain": [
       "(1, 1)"
      ]
     },
     "execution_count": 15,
     "metadata": {},
     "output_type": "execute_result"
    }
   ],
   "source": [
    "extrema(origbrand.origin_function)"
   ]
  },
  {
   "cell_type": "code",
   "execution_count": 16,
   "id": "second-pendant",
   "metadata": {},
   "outputs": [
    {
     "data": {
      "text/html": [
       "<table class=\"data-frame\"><thead><tr><th></th><th>origin</th><th>brand</th><th>nrow</th></tr><tr><th></th><th>Float64</th><th>String</th><th>Int64</th></tr></thead><tbody><p>37 rows × 3 columns</p><tr><th>1</th><td>1.0</td><td>chevrolet</td><td>43</td></tr><tr><th>2</th><td>1.0</td><td>buick</td><td>17</td></tr><tr><th>3</th><td>1.0</td><td>plymouth</td><td>31</td></tr><tr><th>4</th><td>1.0</td><td>amc</td><td>27</td></tr><tr><th>5</th><td>1.0</td><td>ford</td><td>48</td></tr><tr><th>&vellip;</th><td>&vellip;</td><td>&vellip;</td><td>&vellip;</td></tr></tbody></table>"
      ],
      "text/latex": [
       "\\begin{tabular}{r|ccc}\n",
       "\t& origin & brand & nrow\\\\\n",
       "\t\\hline\n",
       "\t& Float64 & String & Int64\\\\\n",
       "\t\\hline\n",
       "\t1 & 1.0 & chevrolet & 43 \\\\\n",
       "\t2 & 1.0 & buick & 17 \\\\\n",
       "\t3 & 1.0 & plymouth & 31 \\\\\n",
       "\t4 & 1.0 & amc & 27 \\\\\n",
       "\t5 & 1.0 & ford & 48 \\\\\n",
       "\t$\\dots$ & $\\dots$ & $\\dots$ & $\\dots$ \\\\\n",
       "\\end{tabular}\n"
      ],
      "text/plain": [
       "\u001b[1m37×3 DataFrame\u001b[0m\n",
       "\u001b[1m Row \u001b[0m│\u001b[1m origin  \u001b[0m\u001b[1m brand     \u001b[0m\u001b[1m nrow  \u001b[0m\n",
       "\u001b[1m     \u001b[0m│\u001b[90m Float64 \u001b[0m\u001b[90m String    \u001b[0m\u001b[90m Int64 \u001b[0m\n",
       "─────┼───────────────────────────\n",
       "  ⋮  │    ⋮         ⋮        ⋮\n",
       "\u001b[36m                  37 rows omitted\u001b[0m"
      ]
     },
     "execution_count": 16,
     "metadata": {},
     "output_type": "execute_result"
    }
   ],
   "source": [
    "origbrand2 = @pipe df |>\n",
    "    groupby(_, [:origin, :brand]) |>\n",
    "    combine(_, nrow)"
   ]
  },
  {
   "cell_type": "code",
   "execution_count": 17,
   "id": "outdoor-character",
   "metadata": {},
   "outputs": [
    {
     "data": {
      "text/html": [
       "<table class=\"data-frame\"><thead><tr><th></th><th>brand</th><th>1.0</th><th>3.0</th><th>2.0</th></tr><tr><th></th><th>String</th><th>Int64?</th><th>Int64?</th><th>Int64?</th></tr></thead><tbody><p>37 rows × 4 columns</p><tr><th>1</th><td>chevrolet</td><td>43</td><td><em>missing</em></td><td><em>missing</em></td></tr><tr><th>2</th><td>buick</td><td>17</td><td><em>missing</em></td><td><em>missing</em></td></tr><tr><th>3</th><td>plymouth</td><td>31</td><td><em>missing</em></td><td><em>missing</em></td></tr><tr><th>4</th><td>amc</td><td>27</td><td><em>missing</em></td><td><em>missing</em></td></tr><tr><th>5</th><td>ford</td><td>48</td><td><em>missing</em></td><td><em>missing</em></td></tr><tr><th>&vellip;</th><td>&vellip;</td><td>&vellip;</td><td>&vellip;</td><td>&vellip;</td></tr></tbody></table>"
      ],
      "text/latex": [
       "\\begin{tabular}{r|cccc}\n",
       "\t& brand & 1.0 & 3.0 & 2.0\\\\\n",
       "\t\\hline\n",
       "\t& String & Int64? & Int64? & Int64?\\\\\n",
       "\t\\hline\n",
       "\t1 & chevrolet & 43 & \\emph{missing} & \\emph{missing} \\\\\n",
       "\t2 & buick & 17 & \\emph{missing} & \\emph{missing} \\\\\n",
       "\t3 & plymouth & 31 & \\emph{missing} & \\emph{missing} \\\\\n",
       "\t4 & amc & 27 & \\emph{missing} & \\emph{missing} \\\\\n",
       "\t5 & ford & 48 & \\emph{missing} & \\emph{missing} \\\\\n",
       "\t$\\dots$ & $\\dots$ & $\\dots$ & $\\dots$ & $\\dots$ \\\\\n",
       "\\end{tabular}\n"
      ],
      "text/plain": [
       "\u001b[1m37×4 DataFrame\u001b[0m\n",
       "\u001b[1m Row \u001b[0m│\u001b[1m brand     \u001b[0m\u001b[1m 1.0     \u001b[0m\u001b[1m 3.0     \u001b[0m\u001b[1m 2.0     \u001b[0m\n",
       "\u001b[1m     \u001b[0m│\u001b[90m String    \u001b[0m\u001b[90m Int64?  \u001b[0m\u001b[90m Int64?  \u001b[0m\u001b[90m Int64?  \u001b[0m\n",
       "─────┼──────────────────────────────────────\n",
       "  ⋮  │     ⋮         ⋮        ⋮        ⋮\n",
       "\u001b[36m                             37 rows omitted\u001b[0m"
      ]
     },
     "execution_count": 17,
     "metadata": {},
     "output_type": "execute_result"
    }
   ],
   "source": [
    "originvbrand = unstack(origbrand2, :brand, :origin, :nrow)"
   ]
  },
  {
   "cell_type": "code",
   "execution_count": 18,
   "id": "neutral-parent",
   "metadata": {},
   "outputs": [
    {
     "data": {
      "text/html": [
       "<table class=\"data-frame\"><thead><tr><th></th><th>brand</th><th>1.0</th><th>3.0</th><th>2.0</th></tr><tr><th></th><th>String</th><th>Int64</th><th>Int64</th><th>Int64</th></tr></thead><tbody><p>37 rows × 4 columns</p><tr><th>1</th><td>chevrolet</td><td>43</td><td>0</td><td>0</td></tr><tr><th>2</th><td>buick</td><td>17</td><td>0</td><td>0</td></tr><tr><th>3</th><td>plymouth</td><td>31</td><td>0</td><td>0</td></tr><tr><th>4</th><td>amc</td><td>27</td><td>0</td><td>0</td></tr><tr><th>5</th><td>ford</td><td>48</td><td>0</td><td>0</td></tr><tr><th>&vellip;</th><td>&vellip;</td><td>&vellip;</td><td>&vellip;</td><td>&vellip;</td></tr></tbody></table>"
      ],
      "text/latex": [
       "\\begin{tabular}{r|cccc}\n",
       "\t& brand & 1.0 & 3.0 & 2.0\\\\\n",
       "\t\\hline\n",
       "\t& String & Int64 & Int64 & Int64\\\\\n",
       "\t\\hline\n",
       "\t1 & chevrolet & 43 & 0 & 0 \\\\\n",
       "\t2 & buick & 17 & 0 & 0 \\\\\n",
       "\t3 & plymouth & 31 & 0 & 0 \\\\\n",
       "\t4 & amc & 27 & 0 & 0 \\\\\n",
       "\t5 & ford & 48 & 0 & 0 \\\\\n",
       "\t$\\dots$ & $\\dots$ & $\\dots$ & $\\dots$ & $\\dots$ \\\\\n",
       "\\end{tabular}\n"
      ],
      "text/plain": [
       "\u001b[1m37×4 DataFrame\u001b[0m\n",
       "\u001b[1m Row \u001b[0m│\u001b[1m brand     \u001b[0m\u001b[1m 1.0   \u001b[0m\u001b[1m 3.0   \u001b[0m\u001b[1m 2.0   \u001b[0m\n",
       "\u001b[1m     \u001b[0m│\u001b[90m String    \u001b[0m\u001b[90m Int64 \u001b[0m\u001b[90m Int64 \u001b[0m\u001b[90m Int64 \u001b[0m\n",
       "─────┼────────────────────────────────\n",
       "  ⋮  │     ⋮        ⋮      ⋮      ⋮\n",
       "\u001b[36m                       37 rows omitted\u001b[0m"
      ]
     },
     "execution_count": 18,
     "metadata": {},
     "output_type": "execute_result"
    }
   ],
   "source": [
    "coalesce.(originvbrand, 0)"
   ]
  },
  {
   "cell_type": "code",
   "execution_count": 21,
   "id": "religious-court",
   "metadata": {},
   "outputs": [
    {
     "name": "stdout",
     "output_type": "stream",
     "text": [
      "[\"brand\", \"1.0\", \"3.0\", \"2.0\"]"
     ]
    }
   ],
   "source": [
    "print(names(originvbrand))"
   ]
  },
  {
   "cell_type": "code",
   "execution_count": 22,
   "id": "alleged-buying",
   "metadata": {},
   "outputs": [
    {
     "name": "stdout",
     "output_type": "stream",
     "text": [
      "[:brand, Symbol(\"1.0\"), Symbol(\"3.0\"), Symbol(\"2.0\")]"
     ]
    }
   ],
   "source": [
    "print(propertynames(originvbrand))"
   ]
  },
  {
   "cell_type": "code",
   "execution_count": 23,
   "id": "regulation-onion",
   "metadata": {},
   "outputs": [
    {
     "data": {
      "text/plain": [
       "37-element Array{Union{Missing, Int64},1}:\n",
       " ⋮"
      ]
     },
     "execution_count": 23,
     "metadata": {},
     "output_type": "execute_result"
    }
   ],
   "source": [
    "originvbrand.\"1.0\""
   ]
  },
  {
   "cell_type": "code",
   "execution_count": 24,
   "id": "imported-ottawa",
   "metadata": {},
   "outputs": [
    {
     "data": {
      "text/html": [
       "<table class=\"data-frame\"><thead><tr><th></th><th>origin</th><th>brand_function</th></tr><tr><th></th><th>Float64</th><th>Array…</th></tr></thead><tbody><p>3 rows × 2 columns</p><tr><th>1</th><td>1.0</td><td>[\"chevrolet\", \"buick\", \"plymouth\", \"amc\", \"ford\", \"pontiac\", \"dodge\", \"chevy\", \"hi\", \"mercury\", \"oldsmobile\", \"chrysler\", \"chevroelt\", \"capri\", \"cadillac\"]</td></tr><tr><th>2</th><td>3.0</td><td>[\"toyota\", \"datsun\", \"mazda\", \"toyouta\", \"maxda\", \"honda\", \"subaru\", \"nissan\"]</td></tr><tr><th>3</th><td>2.0</td><td>[\"volkswagen\", \"peugeot\", \"audi\", \"saab\", \"bmw\", \"opel\", \"fiat\", \"volvo\", \"renault\", \"vw\", \"mercedes-benz\", \"mercedes\", \"vokswagen\", \"triumph\"]</td></tr></tbody></table>"
      ],
      "text/latex": [
       "\\begin{tabular}{r|cc}\n",
       "\t& origin & brand\\_function\\\\\n",
       "\t\\hline\n",
       "\t& Float64 & Array…\\\\\n",
       "\t\\hline\n",
       "\t1 & 1.0 & [\"chevrolet\", \"buick\", \"plymouth\", \"amc\", \"ford\", \"pontiac\", \"dodge\", \"chevy\", \"hi\", \"mercury\", \"oldsmobile\", \"chrysler\", \"chevroelt\", \"capri\", \"cadillac\"] \\\\\n",
       "\t2 & 3.0 & [\"toyota\", \"datsun\", \"mazda\", \"toyouta\", \"maxda\", \"honda\", \"subaru\", \"nissan\"] \\\\\n",
       "\t3 & 2.0 & [\"volkswagen\", \"peugeot\", \"audi\", \"saab\", \"bmw\", \"opel\", \"fiat\", \"volvo\", \"renault\", \"vw\", \"mercedes-benz\", \"mercedes\", \"vokswagen\", \"triumph\"] \\\\\n",
       "\\end{tabular}\n"
      ],
      "text/plain": [
       "\u001b[1m3×2 DataFrame\u001b[0m\n",
       "\u001b[1m Row \u001b[0m│\u001b[1m origin  \u001b[0m\u001b[1m brand_function                    \u001b[0m\n",
       "\u001b[1m     \u001b[0m│\u001b[90m Float64 \u001b[0m\u001b[90m Array…                            \u001b[0m\n",
       "─────┼────────────────────────────────────────────\n",
       "  ⋮  │    ⋮                     ⋮\n",
       "\u001b[36m                                    3 rows omitted\u001b[0m"
      ]
     },
     "execution_count": 24,
     "metadata": {},
     "output_type": "execute_result"
    }
   ],
   "source": [
    "origbrand3 = @pipe df |>\n",
    "    groupby(_, :origin) |>\n",
    "    combine(_, :brand => x -> Ref(unique(x)))"
   ]
  },
  {
   "cell_type": "code",
   "execution_count": 25,
   "id": "stable-wages",
   "metadata": {},
   "outputs": [
    {
     "data": {
      "text/html": [
       "<table class=\"data-frame\"><thead><tr><th></th><th>origin</th><th>brand_unique</th></tr><tr><th></th><th>Float64</th><th>String</th></tr></thead><tbody><p>37 rows × 2 columns</p><tr><th>1</th><td>1.0</td><td>chevrolet</td></tr><tr><th>2</th><td>1.0</td><td>buick</td></tr><tr><th>3</th><td>1.0</td><td>plymouth</td></tr><tr><th>4</th><td>1.0</td><td>amc</td></tr><tr><th>5</th><td>1.0</td><td>ford</td></tr><tr><th>&vellip;</th><td>&vellip;</td><td>&vellip;</td></tr></tbody></table>"
      ],
      "text/latex": [
       "\\begin{tabular}{r|cc}\n",
       "\t& origin & brand\\_unique\\\\\n",
       "\t\\hline\n",
       "\t& Float64 & String\\\\\n",
       "\t\\hline\n",
       "\t1 & 1.0 & chevrolet \\\\\n",
       "\t2 & 1.0 & buick \\\\\n",
       "\t3 & 1.0 & plymouth \\\\\n",
       "\t4 & 1.0 & amc \\\\\n",
       "\t5 & 1.0 & ford \\\\\n",
       "\t$\\dots$ & $\\dots$ & $\\dots$ \\\\\n",
       "\\end{tabular}\n"
      ],
      "text/plain": [
       "\u001b[1m37×2 DataFrame\u001b[0m\n",
       "\u001b[1m Row \u001b[0m│\u001b[1m origin  \u001b[0m\u001b[1m brand_unique \u001b[0m\n",
       "\u001b[1m     \u001b[0m│\u001b[90m Float64 \u001b[0m\u001b[90m String       \u001b[0m\n",
       "─────┼───────────────────────\n",
       "  ⋮  │    ⋮          ⋮\n",
       "\u001b[36m              37 rows omitted\u001b[0m"
      ]
     },
     "execution_count": 25,
     "metadata": {},
     "output_type": "execute_result"
    }
   ],
   "source": [
    "@pipe df |> groupby(_, :origin) |> combine(_, :brand => unique)"
   ]
  },
  {
   "cell_type": "code",
   "execution_count": 27,
   "id": "posted-think",
   "metadata": {},
   "outputs": [
    {
     "name": "stdout",
     "output_type": "stream",
     "text": [
      "1 v 2 => String[]\n",
      "1 v 3 => String[]\n",
      "2 v 3 => String[]\n"
     ]
    }
   ],
   "source": [
    "for i in axes(origbrand3, 1)\n",
    "    for j in i + 1:nrow(origbrand3)\n",
    "        println(\"$i v $j => \", \n",
    "                intersect(origbrand3.brand_function[[i, j]]...))\n",
    "    end\n",
    "end"
   ]
  },
  {
   "cell_type": "code",
   "execution_count": 28,
   "id": "maritime-child",
   "metadata": {},
   "outputs": [
    {
     "data": {
      "text/html": [
       "<table class=\"data-frame\"><thead><tr><th></th><th>origin</th><th>brand_function</th></tr><tr><th></th><th>Float64</th><th>String</th></tr></thead><tbody><p>37 rows × 2 columns</p><tr><th>1</th><td>1.0</td><td>chevrolet</td></tr><tr><th>2</th><td>1.0</td><td>buick</td></tr><tr><th>3</th><td>1.0</td><td>plymouth</td></tr><tr><th>4</th><td>1.0</td><td>amc</td></tr><tr><th>5</th><td>1.0</td><td>ford</td></tr><tr><th>&vellip;</th><td>&vellip;</td><td>&vellip;</td></tr></tbody></table>"
      ],
      "text/latex": [
       "\\begin{tabular}{r|cc}\n",
       "\t& origin & brand\\_function\\\\\n",
       "\t\\hline\n",
       "\t& Float64 & String\\\\\n",
       "\t\\hline\n",
       "\t1 & 1.0 & chevrolet \\\\\n",
       "\t2 & 1.0 & buick \\\\\n",
       "\t3 & 1.0 & plymouth \\\\\n",
       "\t4 & 1.0 & amc \\\\\n",
       "\t5 & 1.0 & ford \\\\\n",
       "\t$\\dots$ & $\\dots$ & $\\dots$ \\\\\n",
       "\\end{tabular}\n"
      ],
      "text/plain": [
       "\u001b[1m37×2 DataFrame\u001b[0m\n",
       "\u001b[1m Row \u001b[0m│\u001b[1m origin  \u001b[0m\u001b[1m brand_function \u001b[0m\n",
       "\u001b[1m     \u001b[0m│\u001b[90m Float64 \u001b[0m\u001b[90m String         \u001b[0m\n",
       "─────┼─────────────────────────\n",
       "  ⋮  │    ⋮           ⋮\n",
       "\u001b[36m                37 rows omitted\u001b[0m"
      ]
     },
     "execution_count": 28,
     "metadata": {},
     "output_type": "execute_result"
    }
   ],
   "source": [
    "flatten(origbrand3, :brand_function)"
   ]
  },
  {
   "cell_type": "code",
   "execution_count": null,
   "id": "compliant-medline",
   "metadata": {},
   "outputs": [],
   "source": []
  }
 ],
 "metadata": {
  "kernelspec": {
   "display_name": "Julia 1.5.3",
   "language": "julia",
   "name": "julia-1.5"
  },
  "language_info": {
   "file_extension": ".jl",
   "mimetype": "application/julia",
   "name": "julia",
   "version": "1.5.3"
  }
 },
 "nbformat": 4,
 "nbformat_minor": 5
}
