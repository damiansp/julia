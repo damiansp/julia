{
 "cells": [
  {
   "cell_type": "code",
   "execution_count": 1,
   "id": "1fce9771",
   "metadata": {},
   "outputs": [],
   "source": [
    "using Arrow\n",
    "using CSV\n",
    "using DataFrames\n",
    "using Statistics"
   ]
  },
  {
   "cell_type": "code",
   "execution_count": 2,
   "id": "3de19e75",
   "metadata": {},
   "outputs": [
    {
     "data": {
      "text/plain": [
       "406-element Vector{String}:\n",
       " \"18.0   8.   307.0      130.0      3504.      12.0   70.  1.\\t\\\"chevrolet chevelle malibu\\\"\"\n",
       " \"15.0   8.   350.0      165.0      3693.      11.5   70.  1.\\t\\\"buick skylark 320\\\"\"\n",
       " \"18.0   8.   318.0      150.0      3436.      11.0   70.  1.\\t\\\"plymouth satellite\\\"\"\n",
       " \"16.0   8.   304.0      150.0      3433.      12.0   70.  1.\\t\\\"amc rebel sst\\\"\"\n",
       " \"17.0   8.   302.0      140.0      3449.      10.5   70.  1.\\t\\\"ford torino\\\"\"\n",
       " \"15.0   8.   429.0      198.0      4341.      10.0   70.  1.\\t\\\"ford galaxie 500\\\"\"\n",
       " \"14.0   8.   454.0      220.0      4354.       9.0   70.  1.\\t\\\"chevrolet impala\\\"\"\n",
       " \"14.0   8.   440.0      215.0      4312.       8.5   70.  1.\\t\\\"plymouth fury iii\\\"\"\n",
       " \"14.0   8.   455.0      225.0      4425.      10.0   70.  1.\\t\\\"pontiac catalina\\\"\"\n",
       " \"15.0   8.   390.0      190.0      3850.       8.5   70.  1.\\t\\\"amc ambassador dpl\\\"\"\n",
       " \"NA     4.   133.0      115.0      3090.      17.5   70.  2.\\t\\\"citroen ds-21 pallas\\\"\"\n",
       " \"NA     8.   350.0      165.0      4142.      11.5   70.  1.\\t\\\"chevrolet chevelle concours (sw)\\\"\"\n",
       " \"NA     8.   351.0      153.0      4034.      11.0   70.  1.\\t\\\"ford torino (sw)\\\"\"\n",
       " ⋮\n",
       " \"25.0   6.   181.0      110.0      2945.      16.4   82.  1.\\t\\\"buick century limited\\\"\"\n",
       " \"38.0   6.   262.0      85.00      3015.      17.0   82.  1.\\t\\\"oldsmobile cutlass ciera (diesel)\\\"\"\n",
       " \"26.0   4.   156.0      92.00      2585.      14.5   82.  1.\\t\\\"chrysler lebaron medallion\\\"\"\n",
       " \"22.0   6.   232.0      112.0      2835       14.7   82.  1.\\t\\\"ford granada l\\\"\"\n",
       " \"32.0   4.   144.0      96.00      2665.      13.9   82.  3.\\t\\\"toyota celica gt\\\"\"\n",
       " \"36.0   4.   135.0      84.00      2370.      13.0   82.  1.\\t\\\"dodge charger 2.2\\\"\"\n",
       " \"27.0   4.   151.0      90.00      2950.      17.3   82.  1.\\t\\\"chevrolet camaro\\\"\"\n",
       " \"27.0   4.   140.0      86.00      2790.      15.6   82.  1.\\t\\\"ford mustang gl\\\"\"\n",
       " \"44.0   4.   97.00      52.00      2130.      24.6   82.  2.\\t\\\"vw pickup\\\"\"\n",
       " \"32.0   4.   135.0      84.00      2295.      11.6   82.  1.\\t\\\"dodge rampage\\\"\"\n",
       " \"28.0   4.   120.0      79.00      2625.      18.6   82.  1.\\t\\\"ford ranger\\\"\"\n",
       " \"31.0   4.   119.0      82.00      2720.      19.4   82.  1.\\t\\\"chevy s-10\\\"\""
      ]
     },
     "execution_count": 2,
     "metadata": {},
     "output_type": "execute_result"
    }
   ],
   "source": [
    "url = (\"https://archive.ics.uci.edu/ml/machine-learning-databases/\"\n",
    "       * \"auto-mpg/auto-mpg.data-original\")\n",
    "download(url, \"auto.txt\")\n",
    "readlines(\"auto.txt\")"
   ]
  },
  {
   "cell_type": "code",
   "execution_count": 3,
   "id": "1b60a681",
   "metadata": {
    "scrolled": false
   },
   "outputs": [
    {
     "data": {
      "text/plain": [
       "IOBuffer(data=UInt8[...], readable=true, writable=false, seekable=true, append=false, size=32149, maxsize=Inf, ptr=1, mark=-1)"
      ]
     },
     "execution_count": 3,
     "metadata": {},
     "output_type": "execute_result"
    }
   ],
   "source": [
    "rawstr = read(\"auto.txt\", String);\n",
    "strnotab = replace(rawstr, '\\t' => ' ')\n",
    "io = IOBuffer(strnotab)"
   ]
  },
  {
   "cell_type": "code",
   "execution_count": 10,
   "id": "80bc850b",
   "metadata": {},
   "outputs": [
    {
     "data": {
      "text/html": [
       "<div class=\"data-frame\"><p>406 rows × 9 columns</p><table class=\"data-frame\"><thead><tr><th></th><th>mpg</th><th>cylinders</th><th>displacement</th><th>horsepower</th><th>weight</th><th>acceleration</th><th>year</th><th>origin</th><th>name</th></tr><tr><th></th><th title=\"Union{Missing, Float64}\">Float64?</th><th title=\"Float64\">Float64</th><th title=\"Float64\">Float64</th><th title=\"Union{Missing, Float64}\">Float64?</th><th title=\"Float64\">Float64</th><th title=\"Float64\">Float64</th><th title=\"Float64\">Float64</th><th title=\"Float64\">Float64</th><th title=\"String\">String</th></tr></thead><tbody><tr><th>1</th><td>18.0</td><td>8.0</td><td>307.0</td><td>130.0</td><td>3504.0</td><td>12.0</td><td>70.0</td><td>1.0</td><td>chevrolet chevelle malibu</td></tr><tr><th>2</th><td>15.0</td><td>8.0</td><td>350.0</td><td>165.0</td><td>3693.0</td><td>11.5</td><td>70.0</td><td>1.0</td><td>buick skylark 320</td></tr><tr><th>3</th><td>18.0</td><td>8.0</td><td>318.0</td><td>150.0</td><td>3436.0</td><td>11.0</td><td>70.0</td><td>1.0</td><td>plymouth satellite</td></tr><tr><th>4</th><td>16.0</td><td>8.0</td><td>304.0</td><td>150.0</td><td>3433.0</td><td>12.0</td><td>70.0</td><td>1.0</td><td>amc rebel sst</td></tr><tr><th>5</th><td>17.0</td><td>8.0</td><td>302.0</td><td>140.0</td><td>3449.0</td><td>10.5</td><td>70.0</td><td>1.0</td><td>ford torino</td></tr><tr><th>6</th><td>15.0</td><td>8.0</td><td>429.0</td><td>198.0</td><td>4341.0</td><td>10.0</td><td>70.0</td><td>1.0</td><td>ford galaxie 500</td></tr><tr><th>7</th><td>14.0</td><td>8.0</td><td>454.0</td><td>220.0</td><td>4354.0</td><td>9.0</td><td>70.0</td><td>1.0</td><td>chevrolet impala</td></tr><tr><th>8</th><td>14.0</td><td>8.0</td><td>440.0</td><td>215.0</td><td>4312.0</td><td>8.5</td><td>70.0</td><td>1.0</td><td>plymouth fury iii</td></tr><tr><th>9</th><td>14.0</td><td>8.0</td><td>455.0</td><td>225.0</td><td>4425.0</td><td>10.0</td><td>70.0</td><td>1.0</td><td>pontiac catalina</td></tr><tr><th>10</th><td>15.0</td><td>8.0</td><td>390.0</td><td>190.0</td><td>3850.0</td><td>8.5</td><td>70.0</td><td>1.0</td><td>amc ambassador dpl</td></tr><tr><th>&vellip;</th><td>&vellip;</td><td>&vellip;</td><td>&vellip;</td><td>&vellip;</td><td>&vellip;</td><td>&vellip;</td><td>&vellip;</td><td>&vellip;</td><td>&vellip;</td></tr></tbody></table></div>"
      ],
      "text/latex": [
       "\\begin{tabular}{r|ccccccccc}\n",
       "\t& mpg & cylinders & displacement & horsepower & weight & acceleration & year & origin & name\\\\\n",
       "\t\\hline\n",
       "\t& Float64? & Float64 & Float64 & Float64? & Float64 & Float64 & Float64 & Float64 & String\\\\\n",
       "\t\\hline\n",
       "\t1 & 18.0 & 8.0 & 307.0 & 130.0 & 3504.0 & 12.0 & 70.0 & 1.0 & chevrolet chevelle malibu \\\\\n",
       "\t2 & 15.0 & 8.0 & 350.0 & 165.0 & 3693.0 & 11.5 & 70.0 & 1.0 & buick skylark 320 \\\\\n",
       "\t3 & 18.0 & 8.0 & 318.0 & 150.0 & 3436.0 & 11.0 & 70.0 & 1.0 & plymouth satellite \\\\\n",
       "\t4 & 16.0 & 8.0 & 304.0 & 150.0 & 3433.0 & 12.0 & 70.0 & 1.0 & amc rebel sst \\\\\n",
       "\t5 & 17.0 & 8.0 & 302.0 & 140.0 & 3449.0 & 10.5 & 70.0 & 1.0 & ford torino \\\\\n",
       "\t6 & 15.0 & 8.0 & 429.0 & 198.0 & 4341.0 & 10.0 & 70.0 & 1.0 & ford galaxie 500 \\\\\n",
       "\t7 & 14.0 & 8.0 & 454.0 & 220.0 & 4354.0 & 9.0 & 70.0 & 1.0 & chevrolet impala \\\\\n",
       "\t8 & 14.0 & 8.0 & 440.0 & 215.0 & 4312.0 & 8.5 & 70.0 & 1.0 & plymouth fury iii \\\\\n",
       "\t9 & 14.0 & 8.0 & 455.0 & 225.0 & 4425.0 & 10.0 & 70.0 & 1.0 & pontiac catalina \\\\\n",
       "\t10 & 15.0 & 8.0 & 390.0 & 190.0 & 3850.0 & 8.5 & 70.0 & 1.0 & amc ambassador dpl \\\\\n",
       "\t$\\dots$ & $\\dots$ & $\\dots$ & $\\dots$ & $\\dots$ & $\\dots$ & $\\dots$ & $\\dots$ & $\\dots$ & $\\dots$ \\\\\n",
       "\\end{tabular}\n"
      ],
      "text/plain": [
       "\u001b[1m406×9 DataFrame\u001b[0m\n",
       "\u001b[1m Row \u001b[0m│\u001b[1m mpg      \u001b[0m\u001b[1m cylinders \u001b[0m\u001b[1m displacement \u001b[0m\u001b[1m horsepower \u001b[0m\u001b[1m weight  \u001b[0m\u001b[1m acceleration \u001b[0m\u001b[1m year    \u001b[0m\u001b[1m origin  \u001b[0m\u001b[1m name                      \u001b[0m\n",
       "\u001b[1m     \u001b[0m│\u001b[90m Float64? \u001b[0m\u001b[90m Float64   \u001b[0m\u001b[90m Float64      \u001b[0m\u001b[90m Float64?   \u001b[0m\u001b[90m Float64 \u001b[0m\u001b[90m Float64      \u001b[0m\u001b[90m Float64 \u001b[0m\u001b[90m Float64 \u001b[0m\u001b[90m String                    \u001b[0m\n",
       "─────┼───────────────────────────────────────────────────────────────────────────────────────────────────────────────────\n",
       "   1 │     18.0        8.0         307.0       130.0   3504.0          12.0     70.0      1.0  chevrolet chevelle malibu\n",
       "  ⋮  │    ⋮          ⋮           ⋮            ⋮          ⋮          ⋮           ⋮        ⋮                 ⋮\n",
       "\u001b[36m                                                                                                         405 rows omitted\u001b[0m"
      ]
     },
     "execution_count": 10,
     "metadata": {},
     "output_type": "execute_result"
    }
   ],
   "source": [
    "fields = [:mpg, :cylinders, :displacement, :horsepower, :weight, \n",
    "          :acceleration, :year, :origin, :name]\n",
    "df1 = CSV.File(\n",
    "    io,\n",
    "    delim=' ',\n",
    "    ignorerepeated=true,\n",
    "    header=fields,\n",
    "    missingstring=\"NA\"\n",
    ") |> DataFrame"
   ]
  },
  {
   "cell_type": "code",
   "execution_count": 7,
   "id": "49751116",
   "metadata": {},
   "outputs": [
    {
     "data": {
      "text/html": [
       "<div class=\"data-frame\"><p>406 rows × 9 columns</p><table class=\"data-frame\"><thead><tr><th></th><th>mpg</th><th>cylinders</th><th>displacement</th><th>horsepower</th><th>weight</th><th>acceleration</th><th>year</th><th>origin</th><th>name</th></tr><tr><th></th><th title=\"Union{Missing, Float64}\">Float64?</th><th title=\"Float64\">Float64</th><th title=\"Float64\">Float64</th><th title=\"Union{Missing, Float64}\">Float64?</th><th title=\"Float64\">Float64</th><th title=\"Float64\">Float64</th><th title=\"Float64\">Float64</th><th title=\"Float64\">Float64</th><th title=\"String\">String</th></tr></thead><tbody><tr><th>1</th><td>18.0</td><td>8.0</td><td>307.0</td><td>130.0</td><td>3504.0</td><td>12.0</td><td>70.0</td><td>1.0</td><td>chevrolet chevelle malibu</td></tr><tr><th>2</th><td>15.0</td><td>8.0</td><td>350.0</td><td>165.0</td><td>3693.0</td><td>11.5</td><td>70.0</td><td>1.0</td><td>buick skylark 320</td></tr><tr><th>3</th><td>18.0</td><td>8.0</td><td>318.0</td><td>150.0</td><td>3436.0</td><td>11.0</td><td>70.0</td><td>1.0</td><td>plymouth satellite</td></tr><tr><th>4</th><td>16.0</td><td>8.0</td><td>304.0</td><td>150.0</td><td>3433.0</td><td>12.0</td><td>70.0</td><td>1.0</td><td>amc rebel sst</td></tr><tr><th>5</th><td>17.0</td><td>8.0</td><td>302.0</td><td>140.0</td><td>3449.0</td><td>10.5</td><td>70.0</td><td>1.0</td><td>ford torino</td></tr><tr><th>6</th><td>15.0</td><td>8.0</td><td>429.0</td><td>198.0</td><td>4341.0</td><td>10.0</td><td>70.0</td><td>1.0</td><td>ford galaxie 500</td></tr><tr><th>7</th><td>14.0</td><td>8.0</td><td>454.0</td><td>220.0</td><td>4354.0</td><td>9.0</td><td>70.0</td><td>1.0</td><td>chevrolet impala</td></tr><tr><th>8</th><td>14.0</td><td>8.0</td><td>440.0</td><td>215.0</td><td>4312.0</td><td>8.5</td><td>70.0</td><td>1.0</td><td>plymouth fury iii</td></tr><tr><th>9</th><td>14.0</td><td>8.0</td><td>455.0</td><td>225.0</td><td>4425.0</td><td>10.0</td><td>70.0</td><td>1.0</td><td>pontiac catalina</td></tr><tr><th>10</th><td>15.0</td><td>8.0</td><td>390.0</td><td>190.0</td><td>3850.0</td><td>8.5</td><td>70.0</td><td>1.0</td><td>amc ambassador dpl</td></tr><tr><th>&vellip;</th><td>&vellip;</td><td>&vellip;</td><td>&vellip;</td><td>&vellip;</td><td>&vellip;</td><td>&vellip;</td><td>&vellip;</td><td>&vellip;</td><td>&vellip;</td></tr></tbody></table></div>"
      ],
      "text/latex": [
       "\\begin{tabular}{r|ccccccccc}\n",
       "\t& mpg & cylinders & displacement & horsepower & weight & acceleration & year & origin & name\\\\\n",
       "\t\\hline\n",
       "\t& Float64? & Float64 & Float64 & Float64? & Float64 & Float64 & Float64 & Float64 & String\\\\\n",
       "\t\\hline\n",
       "\t1 & 18.0 & 8.0 & 307.0 & 130.0 & 3504.0 & 12.0 & 70.0 & 1.0 & chevrolet chevelle malibu \\\\\n",
       "\t2 & 15.0 & 8.0 & 350.0 & 165.0 & 3693.0 & 11.5 & 70.0 & 1.0 & buick skylark 320 \\\\\n",
       "\t3 & 18.0 & 8.0 & 318.0 & 150.0 & 3436.0 & 11.0 & 70.0 & 1.0 & plymouth satellite \\\\\n",
       "\t4 & 16.0 & 8.0 & 304.0 & 150.0 & 3433.0 & 12.0 & 70.0 & 1.0 & amc rebel sst \\\\\n",
       "\t5 & 17.0 & 8.0 & 302.0 & 140.0 & 3449.0 & 10.5 & 70.0 & 1.0 & ford torino \\\\\n",
       "\t6 & 15.0 & 8.0 & 429.0 & 198.0 & 4341.0 & 10.0 & 70.0 & 1.0 & ford galaxie 500 \\\\\n",
       "\t7 & 14.0 & 8.0 & 454.0 & 220.0 & 4354.0 & 9.0 & 70.0 & 1.0 & chevrolet impala \\\\\n",
       "\t8 & 14.0 & 8.0 & 440.0 & 215.0 & 4312.0 & 8.5 & 70.0 & 1.0 & plymouth fury iii \\\\\n",
       "\t9 & 14.0 & 8.0 & 455.0 & 225.0 & 4425.0 & 10.0 & 70.0 & 1.0 & pontiac catalina \\\\\n",
       "\t10 & 15.0 & 8.0 & 390.0 & 190.0 & 3850.0 & 8.5 & 70.0 & 1.0 & amc ambassador dpl \\\\\n",
       "\t$\\dots$ & $\\dots$ & $\\dots$ & $\\dots$ & $\\dots$ & $\\dots$ & $\\dots$ & $\\dots$ & $\\dots$ & $\\dots$ \\\\\n",
       "\\end{tabular}\n"
      ],
      "text/plain": [
       "\u001b[1m406×9 DataFrame\u001b[0m\n",
       "\u001b[1m Row \u001b[0m│\u001b[1m mpg      \u001b[0m\u001b[1m cylinders \u001b[0m\u001b[1m displacement \u001b[0m\u001b[1m horsepower \u001b[0m\u001b[1m weight  \u001b[0m\u001b[1m acceleration \u001b[0m\u001b[1m year    \u001b[0m\u001b[1m origin  \u001b[0m\u001b[1m name                      \u001b[0m\n",
       "\u001b[1m     \u001b[0m│\u001b[90m Float64? \u001b[0m\u001b[90m Float64   \u001b[0m\u001b[90m Float64      \u001b[0m\u001b[90m Float64?   \u001b[0m\u001b[90m Float64 \u001b[0m\u001b[90m Float64      \u001b[0m\u001b[90m Float64 \u001b[0m\u001b[90m Float64 \u001b[0m\u001b[90m String                    \u001b[0m\n",
       "─────┼───────────────────────────────────────────────────────────────────────────────────────────────────────────────────\n",
       "   1 │     18.0        8.0         307.0       130.0   3504.0          12.0     70.0      1.0  chevrolet chevelle malibu\n",
       "  ⋮  │    ⋮          ⋮           ⋮            ⋮          ⋮          ⋮           ⋮        ⋮                 ⋮\n",
       "\u001b[36m                                                                                                         405 rows omitted\u001b[0m"
      ]
     },
     "execution_count": 7,
     "metadata": {},
     "output_type": "execute_result"
    }
   ],
   "source": [
    "ENV[\"COLUMNS\"], ENV[\"LINES\"] = 200, 10\n",
    "df1"
   ]
  },
  {
   "cell_type": "code",
   "execution_count": 8,
   "id": "8b80aaff",
   "metadata": {},
   "outputs": [
    {
     "data": {
      "text/html": [
       "<div class=\"data-frame\"><p>406 rows × 2 columns</p><table class=\"data-frame\"><thead><tr><th></th><th>metrics</th><th>name</th></tr><tr><th></th><th title=\"String\">String</th><th title=\"String\">String</th></tr></thead><tbody><tr><th>1</th><td>18.0   8.   307.0      130.0      3504.      12.0   70.  1.</td><td>chevrolet chevelle malibu</td></tr><tr><th>2</th><td>15.0   8.   350.0      165.0      3693.      11.5   70.  1.</td><td>buick skylark 320</td></tr><tr><th>3</th><td>18.0   8.   318.0      150.0      3436.      11.0   70.  1.</td><td>plymouth satellite</td></tr><tr><th>4</th><td>16.0   8.   304.0      150.0      3433.      12.0   70.  1.</td><td>amc rebel sst</td></tr><tr><th>5</th><td>17.0   8.   302.0      140.0      3449.      10.5   70.  1.</td><td>ford torino</td></tr><tr><th>6</th><td>15.0   8.   429.0      198.0      4341.      10.0   70.  1.</td><td>ford galaxie 500</td></tr><tr><th>7</th><td>14.0   8.   454.0      220.0      4354.       9.0   70.  1.</td><td>chevrolet impala</td></tr><tr><th>8</th><td>14.0   8.   440.0      215.0      4312.       8.5   70.  1.</td><td>plymouth fury iii</td></tr><tr><th>9</th><td>14.0   8.   455.0      225.0      4425.      10.0   70.  1.</td><td>pontiac catalina</td></tr><tr><th>10</th><td>15.0   8.   390.0      190.0      3850.       8.5   70.  1.</td><td>amc ambassador dpl</td></tr><tr><th>&vellip;</th><td>&vellip;</td><td>&vellip;</td></tr></tbody></table></div>"
      ],
      "text/latex": [
       "\\begin{tabular}{r|cc}\n",
       "\t& metrics & name\\\\\n",
       "\t\\hline\n",
       "\t& String & String\\\\\n",
       "\t\\hline\n",
       "\t1 & 18.0   8.   307.0      130.0      3504.      12.0   70.  1. & chevrolet chevelle malibu \\\\\n",
       "\t2 & 15.0   8.   350.0      165.0      3693.      11.5   70.  1. & buick skylark 320 \\\\\n",
       "\t3 & 18.0   8.   318.0      150.0      3436.      11.0   70.  1. & plymouth satellite \\\\\n",
       "\t4 & 16.0   8.   304.0      150.0      3433.      12.0   70.  1. & amc rebel sst \\\\\n",
       "\t5 & 17.0   8.   302.0      140.0      3449.      10.5   70.  1. & ford torino \\\\\n",
       "\t6 & 15.0   8.   429.0      198.0      4341.      10.0   70.  1. & ford galaxie 500 \\\\\n",
       "\t7 & 14.0   8.   454.0      220.0      4354.       9.0   70.  1. & chevrolet impala \\\\\n",
       "\t8 & 14.0   8.   440.0      215.0      4312.       8.5   70.  1. & plymouth fury iii \\\\\n",
       "\t9 & 14.0   8.   455.0      225.0      4425.      10.0   70.  1. & pontiac catalina \\\\\n",
       "\t10 & 15.0   8.   390.0      190.0      3850.       8.5   70.  1. & amc ambassador dpl \\\\\n",
       "\t$\\dots$ & $\\dots$ & $\\dots$ \\\\\n",
       "\\end{tabular}\n"
      ],
      "text/plain": [
       "\u001b[1m406×2 DataFrame\u001b[0m\n",
       "\u001b[1m Row \u001b[0m│\u001b[1m metrics                           \u001b[0m\u001b[1m name                      \u001b[0m\n",
       "\u001b[1m     \u001b[0m│\u001b[90m String                            \u001b[0m\u001b[90m String                    \u001b[0m\n",
       "─────┼──────────────────────────────────────────────────────────────\n",
       "   1 │ 18.0   8.   307.0      130.0    …  chevrolet chevelle malibu\n",
       "  ⋮  │                 ⋮                              ⋮\n",
       "\u001b[36m                                                    405 rows omitted\u001b[0m"
      ]
     },
     "execution_count": 8,
     "metadata": {},
     "output_type": "execute_result"
    }
   ],
   "source": [
    "dfraw = CSV.File(\"auto.txt\", header=[:metrics, :name]) |> DataFrame"
   ]
  },
  {
   "cell_type": "code",
   "execution_count": 9,
   "id": "58467faf",
   "metadata": {},
   "outputs": [
    {
     "data": {
      "text/plain": [
       "406-element Vector{Vector{SubString{String}}}:\n",
       " [\"18.0\", \"8.\", \"307.0\", \"130.0\", \"3504.\", \"12.0\", \"70.\", \"1.\"]\n",
       " [\"15.0\", \"8.\", \"350.0\", \"165.0\", \"3693.\", \"11.5\", \"70.\", \"1.\"]\n",
       " [\"18.0\", \"8.\", \"318.0\", \"150.0\", \"3436.\", \"11.0\", \"70.\", \"1.\"]\n",
       " ⋮\n",
       " [\"28.0\", \"4.\", \"120.0\", \"79.00\", \"2625.\", \"18.6\", \"82.\", \"1.\"]\n",
       " [\"31.0\", \"4.\", \"119.0\", \"82.00\", \"2720.\", \"19.4\", \"82.\", \"1.\"]"
      ]
     },
     "execution_count": 9,
     "metadata": {},
     "output_type": "execute_result"
    }
   ],
   "source": [
    "strmetrics = split.(dfraw.metrics)"
   ]
  },
  {
   "cell_type": "code",
   "execution_count": 16,
   "id": "288939a1",
   "metadata": {},
   "outputs": [
    {
     "data": {
      "text/html": [
       "<div class=\"data-frame\"><p>0 rows × 8 columns</p><table class=\"data-frame\"><thead><tr><th></th><th>mpg</th><th>cylinders</th><th>displacement</th><th>horsepower</th><th>weight</th><th>acceleration</th><th>year</th><th>origin</th></tr><tr><th></th><th title=\"Float64\">Float64</th><th title=\"Float64\">Float64</th><th title=\"Float64\">Float64</th><th title=\"Float64\">Float64</th><th title=\"Float64\">Float64</th><th title=\"Float64\">Float64</th><th title=\"Float64\">Float64</th><th title=\"Float64\">Float64</th></tr></thead><tbody></tbody></table></div>"
      ],
      "text/latex": [
       "\\begin{tabular}{r|cccccccc}\n",
       "\t& mpg & cylinders & displacement & horsepower & weight & acceleration & year & origin\\\\\n",
       "\t\\hline\n",
       "\t& Float64 & Float64 & Float64 & Float64 & Float64 & Float64 & Float64 & Float64\\\\\n",
       "\t\\hline\n",
       "\\end{tabular}\n"
      ],
      "text/plain": [
       "\u001b[1m0×8 DataFrame\u001b[0m"
      ]
     },
     "execution_count": 16,
     "metadata": {},
     "output_type": "execute_result"
    }
   ],
   "source": [
    "df12 = DataFrame([col => Float64[] for col in fields[1:(end - 1)]])"
   ]
  },
  {
   "cell_type": "code",
   "execution_count": 17,
   "id": "63515147",
   "metadata": {},
   "outputs": [
    {
     "data": {
      "text/html": [
       "<div class=\"data-frame\"><p>0 rows × 8 columns</p><table class=\"data-frame\"><thead><tr><th></th><th>mpg</th><th>cylinders</th><th>displacement</th><th>horsepower</th><th>weight</th><th>acceleration</th><th>year</th><th>origin</th></tr><tr><th></th><th title=\"Union{Missing, Float64}\">Float64?</th><th title=\"Float64\">Float64</th><th title=\"Float64\">Float64</th><th title=\"Union{Missing, Float64}\">Float64?</th><th title=\"Float64\">Float64</th><th title=\"Float64\">Float64</th><th title=\"Float64\">Float64</th><th title=\"Float64\">Float64</th></tr></thead><tbody></tbody></table></div>"
      ],
      "text/latex": [
       "\\begin{tabular}{r|cccccccc}\n",
       "\t& mpg & cylinders & displacement & horsepower & weight & acceleration & year & origin\\\\\n",
       "\t\\hline\n",
       "\t& Float64? & Float64 & Float64 & Float64? & Float64 & Float64 & Float64 & Float64\\\\\n",
       "\t\\hline\n",
       "\\end{tabular}\n"
      ],
      "text/plain": [
       "\u001b[1m0×8 DataFrame\u001b[0m"
      ]
     },
     "execution_count": 17,
     "metadata": {},
     "output_type": "execute_result"
    }
   ],
   "source": [
    "allowmissing!(df12, [:mpg, :horsepower])"
   ]
  },
  {
   "cell_type": "code",
   "execution_count": 18,
   "id": "6ba29765",
   "metadata": {},
   "outputs": [],
   "source": [
    "for row in strmetrics\n",
    "    push!(df12, [v == \"NA\" ? missing : parse(Float64, v) for v in row])\n",
    "end"
   ]
  },
  {
   "cell_type": "code",
   "execution_count": 19,
   "id": "9db02ddb",
   "metadata": {},
   "outputs": [
    {
     "data": {
      "text/html": [
       "<div class=\"data-frame\"><p>406 rows × 8 columns</p><table class=\"data-frame\"><thead><tr><th></th><th>mpg</th><th>cylinders</th><th>displacement</th><th>horsepower</th><th>weight</th><th>acceleration</th><th>year</th><th>origin</th></tr><tr><th></th><th title=\"Union{Missing, Float64}\">Float64?</th><th title=\"Float64\">Float64</th><th title=\"Float64\">Float64</th><th title=\"Union{Missing, Float64}\">Float64?</th><th title=\"Float64\">Float64</th><th title=\"Float64\">Float64</th><th title=\"Float64\">Float64</th><th title=\"Float64\">Float64</th></tr></thead><tbody><tr><th>1</th><td>18.0</td><td>8.0</td><td>307.0</td><td>130.0</td><td>3504.0</td><td>12.0</td><td>70.0</td><td>1.0</td></tr><tr><th>2</th><td>15.0</td><td>8.0</td><td>350.0</td><td>165.0</td><td>3693.0</td><td>11.5</td><td>70.0</td><td>1.0</td></tr><tr><th>3</th><td>18.0</td><td>8.0</td><td>318.0</td><td>150.0</td><td>3436.0</td><td>11.0</td><td>70.0</td><td>1.0</td></tr><tr><th>4</th><td>16.0</td><td>8.0</td><td>304.0</td><td>150.0</td><td>3433.0</td><td>12.0</td><td>70.0</td><td>1.0</td></tr><tr><th>5</th><td>17.0</td><td>8.0</td><td>302.0</td><td>140.0</td><td>3449.0</td><td>10.5</td><td>70.0</td><td>1.0</td></tr><tr><th>6</th><td>15.0</td><td>8.0</td><td>429.0</td><td>198.0</td><td>4341.0</td><td>10.0</td><td>70.0</td><td>1.0</td></tr><tr><th>7</th><td>14.0</td><td>8.0</td><td>454.0</td><td>220.0</td><td>4354.0</td><td>9.0</td><td>70.0</td><td>1.0</td></tr><tr><th>8</th><td>14.0</td><td>8.0</td><td>440.0</td><td>215.0</td><td>4312.0</td><td>8.5</td><td>70.0</td><td>1.0</td></tr><tr><th>9</th><td>14.0</td><td>8.0</td><td>455.0</td><td>225.0</td><td>4425.0</td><td>10.0</td><td>70.0</td><td>1.0</td></tr><tr><th>10</th><td>15.0</td><td>8.0</td><td>390.0</td><td>190.0</td><td>3850.0</td><td>8.5</td><td>70.0</td><td>1.0</td></tr><tr><th>&vellip;</th><td>&vellip;</td><td>&vellip;</td><td>&vellip;</td><td>&vellip;</td><td>&vellip;</td><td>&vellip;</td><td>&vellip;</td><td>&vellip;</td></tr></tbody></table></div>"
      ],
      "text/latex": [
       "\\begin{tabular}{r|cccccccc}\n",
       "\t& mpg & cylinders & displacement & horsepower & weight & acceleration & year & origin\\\\\n",
       "\t\\hline\n",
       "\t& Float64? & Float64 & Float64 & Float64? & Float64 & Float64 & Float64 & Float64\\\\\n",
       "\t\\hline\n",
       "\t1 & 18.0 & 8.0 & 307.0 & 130.0 & 3504.0 & 12.0 & 70.0 & 1.0 \\\\\n",
       "\t2 & 15.0 & 8.0 & 350.0 & 165.0 & 3693.0 & 11.5 & 70.0 & 1.0 \\\\\n",
       "\t3 & 18.0 & 8.0 & 318.0 & 150.0 & 3436.0 & 11.0 & 70.0 & 1.0 \\\\\n",
       "\t4 & 16.0 & 8.0 & 304.0 & 150.0 & 3433.0 & 12.0 & 70.0 & 1.0 \\\\\n",
       "\t5 & 17.0 & 8.0 & 302.0 & 140.0 & 3449.0 & 10.5 & 70.0 & 1.0 \\\\\n",
       "\t6 & 15.0 & 8.0 & 429.0 & 198.0 & 4341.0 & 10.0 & 70.0 & 1.0 \\\\\n",
       "\t7 & 14.0 & 8.0 & 454.0 & 220.0 & 4354.0 & 9.0 & 70.0 & 1.0 \\\\\n",
       "\t8 & 14.0 & 8.0 & 440.0 & 215.0 & 4312.0 & 8.5 & 70.0 & 1.0 \\\\\n",
       "\t9 & 14.0 & 8.0 & 455.0 & 225.0 & 4425.0 & 10.0 & 70.0 & 1.0 \\\\\n",
       "\t10 & 15.0 & 8.0 & 390.0 & 190.0 & 3850.0 & 8.5 & 70.0 & 1.0 \\\\\n",
       "\t$\\dots$ & $\\dots$ & $\\dots$ & $\\dots$ & $\\dots$ & $\\dots$ & $\\dots$ & $\\dots$ & $\\dots$ \\\\\n",
       "\\end{tabular}\n"
      ],
      "text/plain": [
       "\u001b[1m406×8 DataFrame\u001b[0m\n",
       "\u001b[1m Row \u001b[0m│\u001b[1m mpg      \u001b[0m\u001b[1m cylinders \u001b[0m\u001b[1m displacement \u001b[0m\u001b[1m horsepower \u001b[0m\u001b[1m weight  \u001b[0m\u001b[1m acceleration \u001b[0m\u001b[1m year    \u001b[0m\u001b[1m origin  \u001b[0m\n",
       "\u001b[1m     \u001b[0m│\u001b[90m Float64? \u001b[0m\u001b[90m Float64   \u001b[0m\u001b[90m Float64      \u001b[0m\u001b[90m Float64?   \u001b[0m\u001b[90m Float64 \u001b[0m\u001b[90m Float64      \u001b[0m\u001b[90m Float64 \u001b[0m\u001b[90m Float64 \u001b[0m\n",
       "─────┼────────────────────────────────────────────────────────────────────────────────────────\n",
       "   1 │     18.0        8.0         307.0       130.0   3504.0          12.0     70.0      1.0\n",
       "  ⋮  │    ⋮          ⋮           ⋮            ⋮          ⋮          ⋮           ⋮        ⋮\n",
       "\u001b[36m                                                                              405 rows omitted\u001b[0m"
      ]
     },
     "execution_count": 19,
     "metadata": {},
     "output_type": "execute_result"
    }
   ],
   "source": [
    "df12"
   ]
  },
  {
   "cell_type": "code",
   "execution_count": 21,
   "id": "d7e6ce71",
   "metadata": {},
   "outputs": [
    {
     "data": {
      "text/html": [
       "<div class=\"data-frame\"><p>406 rows × 9 columns</p><table class=\"data-frame\"><thead><tr><th></th><th>mpg</th><th>cylinders</th><th>displacement</th><th>horsepower</th><th>weight</th><th>acceleration</th><th>year</th><th>origin</th><th>name</th></tr><tr><th></th><th title=\"Union{Missing, Float64}\">Float64?</th><th title=\"Float64\">Float64</th><th title=\"Float64\">Float64</th><th title=\"Union{Missing, Float64}\">Float64?</th><th title=\"Float64\">Float64</th><th title=\"Float64\">Float64</th><th title=\"Float64\">Float64</th><th title=\"Float64\">Float64</th><th title=\"String\">String</th></tr></thead><tbody><tr><th>1</th><td>18.0</td><td>8.0</td><td>307.0</td><td>130.0</td><td>3504.0</td><td>12.0</td><td>70.0</td><td>1.0</td><td>chevrolet chevelle malibu</td></tr><tr><th>2</th><td>15.0</td><td>8.0</td><td>350.0</td><td>165.0</td><td>3693.0</td><td>11.5</td><td>70.0</td><td>1.0</td><td>buick skylark 320</td></tr><tr><th>3</th><td>18.0</td><td>8.0</td><td>318.0</td><td>150.0</td><td>3436.0</td><td>11.0</td><td>70.0</td><td>1.0</td><td>plymouth satellite</td></tr><tr><th>4</th><td>16.0</td><td>8.0</td><td>304.0</td><td>150.0</td><td>3433.0</td><td>12.0</td><td>70.0</td><td>1.0</td><td>amc rebel sst</td></tr><tr><th>5</th><td>17.0</td><td>8.0</td><td>302.0</td><td>140.0</td><td>3449.0</td><td>10.5</td><td>70.0</td><td>1.0</td><td>ford torino</td></tr><tr><th>6</th><td>15.0</td><td>8.0</td><td>429.0</td><td>198.0</td><td>4341.0</td><td>10.0</td><td>70.0</td><td>1.0</td><td>ford galaxie 500</td></tr><tr><th>7</th><td>14.0</td><td>8.0</td><td>454.0</td><td>220.0</td><td>4354.0</td><td>9.0</td><td>70.0</td><td>1.0</td><td>chevrolet impala</td></tr><tr><th>8</th><td>14.0</td><td>8.0</td><td>440.0</td><td>215.0</td><td>4312.0</td><td>8.5</td><td>70.0</td><td>1.0</td><td>plymouth fury iii</td></tr><tr><th>9</th><td>14.0</td><td>8.0</td><td>455.0</td><td>225.0</td><td>4425.0</td><td>10.0</td><td>70.0</td><td>1.0</td><td>pontiac catalina</td></tr><tr><th>10</th><td>15.0</td><td>8.0</td><td>390.0</td><td>190.0</td><td>3850.0</td><td>8.5</td><td>70.0</td><td>1.0</td><td>amc ambassador dpl</td></tr><tr><th>&vellip;</th><td>&vellip;</td><td>&vellip;</td><td>&vellip;</td><td>&vellip;</td><td>&vellip;</td><td>&vellip;</td><td>&vellip;</td><td>&vellip;</td><td>&vellip;</td></tr></tbody></table></div>"
      ],
      "text/latex": [
       "\\begin{tabular}{r|ccccccccc}\n",
       "\t& mpg & cylinders & displacement & horsepower & weight & acceleration & year & origin & name\\\\\n",
       "\t\\hline\n",
       "\t& Float64? & Float64 & Float64 & Float64? & Float64 & Float64 & Float64 & Float64 & String\\\\\n",
       "\t\\hline\n",
       "\t1 & 18.0 & 8.0 & 307.0 & 130.0 & 3504.0 & 12.0 & 70.0 & 1.0 & chevrolet chevelle malibu \\\\\n",
       "\t2 & 15.0 & 8.0 & 350.0 & 165.0 & 3693.0 & 11.5 & 70.0 & 1.0 & buick skylark 320 \\\\\n",
       "\t3 & 18.0 & 8.0 & 318.0 & 150.0 & 3436.0 & 11.0 & 70.0 & 1.0 & plymouth satellite \\\\\n",
       "\t4 & 16.0 & 8.0 & 304.0 & 150.0 & 3433.0 & 12.0 & 70.0 & 1.0 & amc rebel sst \\\\\n",
       "\t5 & 17.0 & 8.0 & 302.0 & 140.0 & 3449.0 & 10.5 & 70.0 & 1.0 & ford torino \\\\\n",
       "\t6 & 15.0 & 8.0 & 429.0 & 198.0 & 4341.0 & 10.0 & 70.0 & 1.0 & ford galaxie 500 \\\\\n",
       "\t7 & 14.0 & 8.0 & 454.0 & 220.0 & 4354.0 & 9.0 & 70.0 & 1.0 & chevrolet impala \\\\\n",
       "\t8 & 14.0 & 8.0 & 440.0 & 215.0 & 4312.0 & 8.5 & 70.0 & 1.0 & plymouth fury iii \\\\\n",
       "\t9 & 14.0 & 8.0 & 455.0 & 225.0 & 4425.0 & 10.0 & 70.0 & 1.0 & pontiac catalina \\\\\n",
       "\t10 & 15.0 & 8.0 & 390.0 & 190.0 & 3850.0 & 8.5 & 70.0 & 1.0 & amc ambassador dpl \\\\\n",
       "\t$\\dots$ & $\\dots$ & $\\dots$ & $\\dots$ & $\\dots$ & $\\dots$ & $\\dots$ & $\\dots$ & $\\dots$ & $\\dots$ \\\\\n",
       "\\end{tabular}\n"
      ],
      "text/plain": [
       "\u001b[1m406×9 DataFrame\u001b[0m\n",
       "\u001b[1m Row \u001b[0m│\u001b[1m mpg      \u001b[0m\u001b[1m cylinders \u001b[0m\u001b[1m displacement \u001b[0m\u001b[1m horsepower \u001b[0m\u001b[1m weight  \u001b[0m\u001b[1m acceleration \u001b[0m\u001b[1m year    \u001b[0m\u001b[1m origin  \u001b[0m\u001b[1m name                      \u001b[0m\n",
       "\u001b[1m     \u001b[0m│\u001b[90m Float64? \u001b[0m\u001b[90m Float64   \u001b[0m\u001b[90m Float64      \u001b[0m\u001b[90m Float64?   \u001b[0m\u001b[90m Float64 \u001b[0m\u001b[90m Float64      \u001b[0m\u001b[90m Float64 \u001b[0m\u001b[90m Float64 \u001b[0m\u001b[90m String                    \u001b[0m\n",
       "─────┼───────────────────────────────────────────────────────────────────────────────────────────────────────────────────\n",
       "   1 │     18.0        8.0         307.0       130.0   3504.0          12.0     70.0      1.0  chevrolet chevelle malibu\n",
       "  ⋮  │    ⋮          ⋮           ⋮            ⋮          ⋮          ⋮           ⋮        ⋮                 ⋮\n",
       "\u001b[36m                                                                                                         405 rows omitted\u001b[0m"
      ]
     },
     "execution_count": 21,
     "metadata": {},
     "output_type": "execute_result"
    }
   ],
   "source": [
    "df12.name = dfraw.name\n",
    "df12"
   ]
  },
  {
   "cell_type": "code",
   "execution_count": 22,
   "id": "34576ea8",
   "metadata": {},
   "outputs": [
    {
     "data": {
      "text/plain": [
       "true"
      ]
     },
     "execution_count": 22,
     "metadata": {},
     "output_type": "execute_result"
    }
   ],
   "source": [
    "df12.name === dfraw.name #!"
   ]
  },
  {
   "cell_type": "code",
   "execution_count": null,
   "id": "850ad434",
   "metadata": {},
   "outputs": [],
   "source": []
  }
 ],
 "metadata": {
  "kernelspec": {
   "display_name": "Julia 1.6.2",
   "language": "julia",
   "name": "julia-1.6"
  },
  "language_info": {
   "file_extension": ".jl",
   "mimetype": "application/julia",
   "name": "julia",
   "version": "1.6.2"
  }
 },
 "nbformat": 4,
 "nbformat_minor": 5
}
