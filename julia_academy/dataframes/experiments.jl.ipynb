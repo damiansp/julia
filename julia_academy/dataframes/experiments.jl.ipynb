{
 "cells": [
  {
   "cell_type": "code",
   "execution_count": 1,
   "id": "demanding-botswana",
   "metadata": {},
   "outputs": [
    {
     "name": "stderr",
     "output_type": "stream",
     "text": [
      "┌ Warning: PyPlot is using tkagg backend, which is known to cause crashes on MacOS (#410); use the MPLBACKEND environment variable to request a different backend.\n",
      "└ @ PyPlot /Users/dsatterthwaite/.julia/packages/PyPlot/XaELc/src/init.jl:198\n"
     ]
    }
   ],
   "source": [
    "using DataFrames\n",
    "using Pipe\n",
    "using PyPlot\n",
    "using Random\n",
    "using Statistics"
   ]
  },
  {
   "cell_type": "code",
   "execution_count": 2,
   "id": "worse-apparel",
   "metadata": {},
   "outputs": [
    {
     "data": {
      "text/plain": [
       "sim_e (generic function with 1 method)"
      ]
     },
     "execution_count": 2,
     "metadata": {},
     "output_type": "execute_result"
    }
   ],
   "source": [
    "function sim_e()\n",
    "    draw = Float64[]\n",
    "    while true\n",
    "        push!(draw, rand())\n",
    "        sum(draw) > 1.0 && return draw\n",
    "    end\n",
    "end"
   ]
  },
  {
   "cell_type": "code",
   "execution_count": 3,
   "id": "initial-lotus",
   "metadata": {},
   "outputs": [],
   "source": [
    "Random.seed!(4321);"
   ]
  },
  {
   "cell_type": "code",
   "execution_count": 4,
   "id": "dramatic-essay",
   "metadata": {},
   "outputs": [
    {
     "data": {
      "text/plain": [
       "5-element Array{Array{Float64,1},1}:\n",
       " [0.1619496289112512, 0.1385032717390522, 0.6355055732000539, 0.36326986232801595]\n",
       " [0.3700559311804976, 0.8332539255123794]\n",
       " [0.6910169607353331, 0.08205602210008567, 0.6441883306325207]\n",
       " [0.8730445160270877, 0.7056394561629349]\n",
       " [0.5280168598206405, 0.41389471780482423, 0.49228887505845575]"
      ]
     },
     "execution_count": 4,
     "metadata": {},
     "output_type": "execute_result"
    }
   ],
   "source": [
    "res = [sim_e() for _ in 1:5]"
   ]
  },
  {
   "cell_type": "code",
   "execution_count": 5,
   "id": "recent-compound",
   "metadata": {},
   "outputs": [
    {
     "data": {
      "text/plain": [
       "5-element Array{Float64,1}:\n",
       " 1.2992283361783732\n",
       " 1.203309856692877\n",
       " 1.4172613134679395\n",
       " 1.5786839721900225\n",
       " 1.4342004526839205"
      ]
     },
     "execution_count": 5,
     "metadata": {},
     "output_type": "execute_result"
    }
   ],
   "source": [
    "sum.(res)"
   ]
  },
  {
   "cell_type": "code",
   "execution_count": 6,
   "id": "pacific-eating",
   "metadata": {},
   "outputs": [
    {
     "data": {
      "text/plain": [
       "5-element Array{Float64,1}:\n",
       " 0.9359584738503572\n",
       " 0.3700559311804976\n",
       " 0.7730729828354188\n",
       " 0.8730445160270877\n",
       " 0.9419115776254647"
      ]
     },
     "execution_count": 6,
     "metadata": {},
     "output_type": "execute_result"
    }
   ],
   "source": [
    "@. sum(res) - last(res)"
   ]
  },
  {
   "cell_type": "code",
   "execution_count": 7,
   "id": "deluxe-marking",
   "metadata": {},
   "outputs": [
    {
     "name": "stdout",
     "output_type": "stream",
     "text": [
      "  8.378827 seconds (131.34 M allocations: 4.442 GiB, 30.85% gc time)\n"
     ]
    }
   ],
   "source": [
    "df = DataFrame()\n",
    "@time for i in 1:10^7\n",
    "    push!(df, (id=i, pos=sim_e()))\n",
    "end"
   ]
  },
  {
   "cell_type": "code",
   "execution_count": 8,
   "id": "arabic-scale",
   "metadata": {},
   "outputs": [
    {
     "data": {
      "text/html": [
       "<table class=\"data-frame\"><thead><tr><th></th><th>id</th><th>pos</th></tr><tr><th></th><th>Int64</th><th>Array…</th></tr></thead><tbody><p>5 rows × 2 columns</p><tr><th>1</th><td>1</td><td>[0.24885, 0.0578154, 0.914811]</td></tr><tr><th>2</th><td>2</td><td>[0.917523, 0.55376]</td></tr><tr><th>3</th><td>3</td><td>[0.544223, 0.478742]</td></tr><tr><th>4</th><td>4</td><td>[0.192376, 0.557935, 0.0327349, 0.729883]</td></tr><tr><th>5</th><td>5</td><td>[0.564001, 0.192151, 0.714871]</td></tr></tbody></table>"
      ],
      "text/latex": [
       "\\begin{tabular}{r|cc}\n",
       "\t& id & pos\\\\\n",
       "\t\\hline\n",
       "\t& Int64 & Array…\\\\\n",
       "\t\\hline\n",
       "\t1 & 1 & [0.24885, 0.0578154, 0.914811] \\\\\n",
       "\t2 & 2 & [0.917523, 0.55376] \\\\\n",
       "\t3 & 3 & [0.544223, 0.478742] \\\\\n",
       "\t4 & 4 & [0.192376, 0.557935, 0.0327349, 0.729883] \\\\\n",
       "\t5 & 5 & [0.564001, 0.192151, 0.714871] \\\\\n",
       "\\end{tabular}\n"
      ],
      "text/plain": [
       "\u001b[1m5×2 DataFrame\u001b[0m\n",
       "\u001b[1m Row \u001b[0m│\u001b[1m id    \u001b[0m\u001b[1m pos                               \u001b[0m\n",
       "\u001b[1m     \u001b[0m│\u001b[90m Int64 \u001b[0m\u001b[90m Array…                            \u001b[0m\n",
       "─────┼──────────────────────────────────────────\n",
       "   1 │     1  [0.24885, 0.0578154, 0.914811]\n",
       "   2 │     2  [0.917523, 0.55376]\n",
       "   3 │     3  [0.544223, 0.478742]\n",
       "   4 │     4  [0.192376, 0.557935, 0.0327349, …\n",
       "   5 │     5  [0.564001, 0.192151, 0.714871]"
      ]
     },
     "execution_count": 8,
     "metadata": {},
     "output_type": "execute_result"
    }
   ],
   "source": [
    "first(df, 5)"
   ]
  },
  {
   "cell_type": "code",
   "execution_count": 9,
   "id": "average-fantasy",
   "metadata": {},
   "outputs": [
    {
     "data": {
      "text/html": [
       "<table class=\"data-frame\"><thead><tr><th></th><th>id</th><th>pos</th><th>nsamples</th></tr><tr><th></th><th>Int64</th><th>Array…</th><th>Int64</th></tr></thead><tbody><p>10,000,000 rows × 3 columns</p><tr><th>1</th><td>1</td><td>[0.24885, 0.0578154, 0.914811]</td><td>3</td></tr><tr><th>2</th><td>2</td><td>[0.917523, 0.55376]</td><td>2</td></tr><tr><th>3</th><td>3</td><td>[0.544223, 0.478742]</td><td>2</td></tr><tr><th>4</th><td>4</td><td>[0.192376, 0.557935, 0.0327349, 0.729883]</td><td>4</td></tr><tr><th>5</th><td>5</td><td>[0.564001, 0.192151, 0.714871]</td><td>3</td></tr><tr><th>6</th><td>6</td><td>[0.551949, 0.286209, 0.698777]</td><td>3</td></tr><tr><th>7</th><td>7</td><td>[0.729513, 0.891781]</td><td>2</td></tr><tr><th>8</th><td>8</td><td>[0.310581, 0.192523, 0.728135]</td><td>3</td></tr><tr><th>9</th><td>9</td><td>[0.684975, 0.738706]</td><td>2</td></tr><tr><th>10</th><td>10</td><td>[0.825292, 0.270735]</td><td>2</td></tr><tr><th>11</th><td>11</td><td>[0.254653, 0.15559, 0.913396]</td><td>3</td></tr><tr><th>12</th><td>12</td><td>[0.175322, 0.589592, 0.514368]</td><td>3</td></tr><tr><th>13</th><td>13</td><td>[0.845696, 0.565246]</td><td>2</td></tr><tr><th>14</th><td>14</td><td>[0.556832, 0.40809, 0.501823]</td><td>3</td></tr><tr><th>15</th><td>15</td><td>[0.899959, 0.202069]</td><td>2</td></tr><tr><th>16</th><td>16</td><td>[0.96831, 0.32969]</td><td>2</td></tr><tr><th>17</th><td>17</td><td>[0.173653, 0.58117, 0.652935]</td><td>3</td></tr><tr><th>18</th><td>18</td><td>[0.121834, 0.630226, 0.549716]</td><td>3</td></tr><tr><th>19</th><td>19</td><td>[0.0426898, 0.620252, 0.82616]</td><td>3</td></tr><tr><th>20</th><td>20</td><td>[0.546046, 0.750671]</td><td>2</td></tr><tr><th>21</th><td>21</td><td>[0.261337, 0.833268]</td><td>2</td></tr><tr><th>22</th><td>22</td><td>[0.549755, 0.973709]</td><td>2</td></tr><tr><th>23</th><td>23</td><td>[0.755146, 0.6529]</td><td>2</td></tr><tr><th>24</th><td>24</td><td>[0.412333, 0.636599]</td><td>2</td></tr><tr><th>25</th><td>25</td><td>[0.127727, 0.535935, 0.951027]</td><td>3</td></tr><tr><th>26</th><td>26</td><td>[0.648284, 0.287785, 0.509594]</td><td>3</td></tr><tr><th>27</th><td>27</td><td>[0.537212, 0.919141]</td><td>2</td></tr><tr><th>28</th><td>28</td><td>[0.930161, 0.905996]</td><td>2</td></tr><tr><th>29</th><td>29</td><td>[0.289867, 0.599836, 0.743117]</td><td>3</td></tr><tr><th>30</th><td>30</td><td>[0.403762, 0.656007]</td><td>2</td></tr><tr><th>&vellip;</th><td>&vellip;</td><td>&vellip;</td><td>&vellip;</td></tr></tbody></table>"
      ],
      "text/latex": [
       "\\begin{tabular}{r|ccc}\n",
       "\t& id & pos & nsamples\\\\\n",
       "\t\\hline\n",
       "\t& Int64 & Array… & Int64\\\\\n",
       "\t\\hline\n",
       "\t1 & 1 & [0.24885, 0.0578154, 0.914811] & 3 \\\\\n",
       "\t2 & 2 & [0.917523, 0.55376] & 2 \\\\\n",
       "\t3 & 3 & [0.544223, 0.478742] & 2 \\\\\n",
       "\t4 & 4 & [0.192376, 0.557935, 0.0327349, 0.729883] & 4 \\\\\n",
       "\t5 & 5 & [0.564001, 0.192151, 0.714871] & 3 \\\\\n",
       "\t6 & 6 & [0.551949, 0.286209, 0.698777] & 3 \\\\\n",
       "\t7 & 7 & [0.729513, 0.891781] & 2 \\\\\n",
       "\t8 & 8 & [0.310581, 0.192523, 0.728135] & 3 \\\\\n",
       "\t9 & 9 & [0.684975, 0.738706] & 2 \\\\\n",
       "\t10 & 10 & [0.825292, 0.270735] & 2 \\\\\n",
       "\t11 & 11 & [0.254653, 0.15559, 0.913396] & 3 \\\\\n",
       "\t12 & 12 & [0.175322, 0.589592, 0.514368] & 3 \\\\\n",
       "\t13 & 13 & [0.845696, 0.565246] & 2 \\\\\n",
       "\t14 & 14 & [0.556832, 0.40809, 0.501823] & 3 \\\\\n",
       "\t15 & 15 & [0.899959, 0.202069] & 2 \\\\\n",
       "\t16 & 16 & [0.96831, 0.32969] & 2 \\\\\n",
       "\t17 & 17 & [0.173653, 0.58117, 0.652935] & 3 \\\\\n",
       "\t18 & 18 & [0.121834, 0.630226, 0.549716] & 3 \\\\\n",
       "\t19 & 19 & [0.0426898, 0.620252, 0.82616] & 3 \\\\\n",
       "\t20 & 20 & [0.546046, 0.750671] & 2 \\\\\n",
       "\t21 & 21 & [0.261337, 0.833268] & 2 \\\\\n",
       "\t22 & 22 & [0.549755, 0.973709] & 2 \\\\\n",
       "\t23 & 23 & [0.755146, 0.6529] & 2 \\\\\n",
       "\t24 & 24 & [0.412333, 0.636599] & 2 \\\\\n",
       "\t25 & 25 & [0.127727, 0.535935, 0.951027] & 3 \\\\\n",
       "\t26 & 26 & [0.648284, 0.287785, 0.509594] & 3 \\\\\n",
       "\t27 & 27 & [0.537212, 0.919141] & 2 \\\\\n",
       "\t28 & 28 & [0.930161, 0.905996] & 2 \\\\\n",
       "\t29 & 29 & [0.289867, 0.599836, 0.743117] & 3 \\\\\n",
       "\t30 & 30 & [0.403762, 0.656007] & 2 \\\\\n",
       "\t$\\dots$ & $\\dots$ & $\\dots$ & $\\dots$ \\\\\n",
       "\\end{tabular}\n"
      ],
      "text/plain": [
       "\u001b[1m10000000×3 DataFrame\u001b[0m\n",
       "\u001b[1m      Row \u001b[0m│\u001b[1m id       \u001b[0m\u001b[1m pos                               \u001b[0m\u001b[1m nsamples \u001b[0m\n",
       "\u001b[1m          \u001b[0m│\u001b[90m Int64    \u001b[0m\u001b[90m Array…                            \u001b[0m\u001b[90m Int64    \u001b[0m\n",
       "──────────┼───────────────────────────────────────────────────────\n",
       "        1 │        1  [0.24885, 0.0578154, 0.914811]            3\n",
       "        2 │        2  [0.917523, 0.55376]                       2\n",
       "        3 │        3  [0.544223, 0.478742]                      2\n",
       "        4 │        4  [0.192376, 0.557935, 0.0327349, …         4\n",
       "        5 │        5  [0.564001, 0.192151, 0.714871]            3\n",
       "        6 │        6  [0.551949, 0.286209, 0.698777]            3\n",
       "        7 │        7  [0.729513, 0.891781]                      2\n",
       "        8 │        8  [0.310581, 0.192523, 0.728135]            3\n",
       "        9 │        9  [0.684975, 0.738706]                      2\n",
       "       10 │       10  [0.825292, 0.270735]                      2\n",
       "       11 │       11  [0.254653, 0.15559, 0.913396]             3\n",
       "    ⋮     │    ⋮                      ⋮                     ⋮\n",
       "  9999991 │  9999991  [0.263496, 0.264259, 0.586187]            3\n",
       "  9999992 │  9999992  [0.783459, 0.334621]                      2\n",
       "  9999993 │  9999993  [0.0626447, 0.310107, 0.819895]           3\n",
       "  9999994 │  9999994  [0.717179, 0.911324]                      2\n",
       "  9999995 │  9999995  [0.173543, 0.39254, 0.599373]             3\n",
       "  9999996 │  9999996  [0.765513, 0.493261]                      2\n",
       "  9999997 │  9999997  [0.199601, 0.817005]                      2\n",
       "  9999998 │  9999998  [0.00243461, 0.956012, 0.862296]          3\n",
       "  9999999 │  9999999  [0.391084, 0.876322]                      2\n",
       " 10000000 │ 10000000  [0.574666, 0.404513, 0.346067]            3\n",
       "\u001b[36m                                              9999979 rows omitted\u001b[0m"
      ]
     },
     "execution_count": 9,
     "metadata": {},
     "output_type": "execute_result"
    }
   ],
   "source": [
    "transform!(df, :pos => ByRow(length) => :nsamples)"
   ]
  },
  {
   "cell_type": "code",
   "execution_count": 10,
   "id": "musical-vegetation",
   "metadata": {},
   "outputs": [
    {
     "data": {
      "text/plain": [
       "2.7181168"
      ]
     },
     "execution_count": 10,
     "metadata": {},
     "output_type": "execute_result"
    }
   ],
   "source": [
    "mean(df.nsamples)"
   ]
  },
  {
   "cell_type": "code",
   "execution_count": 11,
   "id": "super-break",
   "metadata": {},
   "outputs": [
    {
     "data": {
      "text/html": [
       "<table class=\"data-frame\"><thead><tr><th></th><th>nsamples_mean</th></tr><tr><th></th><th>Float64</th></tr></thead><tbody><p>1 rows × 1 columns</p><tr><th>1</th><td>2.71812</td></tr></tbody></table>"
      ],
      "text/latex": [
       "\\begin{tabular}{r|c}\n",
       "\t& nsamples\\_mean\\\\\n",
       "\t\\hline\n",
       "\t& Float64\\\\\n",
       "\t\\hline\n",
       "\t1 & 2.71812 \\\\\n",
       "\\end{tabular}\n"
      ],
      "text/plain": [
       "\u001b[1m1×1 DataFrame\u001b[0m\n",
       "\u001b[1m Row \u001b[0m│\u001b[1m nsamples_mean \u001b[0m\n",
       "\u001b[1m     \u001b[0m│\u001b[90m Float64       \u001b[0m\n",
       "─────┼───────────────\n",
       "   1 │       2.71812"
      ]
     },
     "execution_count": 11,
     "metadata": {},
     "output_type": "execute_result"
    }
   ],
   "source": [
    "combine(df, :nsamples => mean)"
   ]
  },
  {
   "cell_type": "code",
   "execution_count": 12,
   "id": "encouraging-separation",
   "metadata": {},
   "outputs": [
    {
     "data": {
      "text/plain": [
       "ℯ = 2.7182818284590..."
      ]
     },
     "execution_count": 12,
     "metadata": {},
     "output_type": "execute_result"
    }
   ],
   "source": [
    "MathConstants.e"
   ]
  },
  {
   "cell_type": "code",
   "execution_count": 13,
   "id": "derived-press",
   "metadata": {},
   "outputs": [
    {
     "data": {
      "text/html": [
       "<table class=\"data-frame\"><thead><tr><th></th><th>nsamples</th><th>nsamples_length</th></tr><tr><th></th><th>Int64</th><th>Int64</th></tr></thead><tbody><p>10 rows × 2 columns</p><tr><th>1</th><td>2</td><td>5001303</td></tr><tr><th>2</th><td>3</td><td>3333296</td></tr><tr><th>3</th><td>4</td><td>1248393</td></tr><tr><th>4</th><td>5</td><td>333226</td></tr><tr><th>5</th><td>6</td><td>69749</td></tr><tr><th>6</th><td>7</td><td>12047</td></tr><tr><th>7</th><td>8</td><td>1753</td></tr><tr><th>8</th><td>9</td><td>207</td></tr><tr><th>9</th><td>10</td><td>24</td></tr><tr><th>10</th><td>11</td><td>2</td></tr></tbody></table>"
      ],
      "text/latex": [
       "\\begin{tabular}{r|cc}\n",
       "\t& nsamples & nsamples\\_length\\\\\n",
       "\t\\hline\n",
       "\t& Int64 & Int64\\\\\n",
       "\t\\hline\n",
       "\t1 & 2 & 5001303 \\\\\n",
       "\t2 & 3 & 3333296 \\\\\n",
       "\t3 & 4 & 1248393 \\\\\n",
       "\t4 & 5 & 333226 \\\\\n",
       "\t5 & 6 & 69749 \\\\\n",
       "\t6 & 7 & 12047 \\\\\n",
       "\t7 & 8 & 1753 \\\\\n",
       "\t8 & 9 & 207 \\\\\n",
       "\t9 & 10 & 24 \\\\\n",
       "\t10 & 11 & 2 \\\\\n",
       "\\end{tabular}\n"
      ],
      "text/plain": [
       "\u001b[1m10×2 DataFrame\u001b[0m\n",
       "\u001b[1m Row \u001b[0m│\u001b[1m nsamples \u001b[0m\u001b[1m nsamples_length \u001b[0m\n",
       "\u001b[1m     \u001b[0m│\u001b[90m Int64    \u001b[0m\u001b[90m Int64           \u001b[0m\n",
       "─────┼───────────────────────────\n",
       "   1 │        2          5001303\n",
       "   2 │        3          3333296\n",
       "   3 │        4          1248393\n",
       "   4 │        5           333226\n",
       "   5 │        6            69749\n",
       "   6 │        7            12047\n",
       "   7 │        8             1753\n",
       "   8 │        9              207\n",
       "   9 │       10               24\n",
       "  10 │       11                2"
      ]
     },
     "execution_count": 13,
     "metadata": {},
     "output_type": "execute_result"
    }
   ],
   "source": [
    "samps_agg = @pipe df |>\n",
    "    groupby(_, :nsamples, sort=true) |>\n",
    "    combine(_, :nsamples => length)"
   ]
  },
  {
   "cell_type": "code",
   "execution_count": 16,
   "id": "major-faith",
   "metadata": {},
   "outputs": [
    {
     "data": {
      "text/html": [
       "<table class=\"data-frame\"><thead><tr><th></th><th>nsamples</th><th>nsamples_length</th><th>simulation</th><th>theory</th></tr><tr><th></th><th>Int64</th><th>Int64</th><th>Float64</th><th>Float64</th></tr></thead><tbody><p>10 rows × 4 columns</p><tr><th>1</th><td>2</td><td>5001303</td><td>0.50013</td><td>0.5</td></tr><tr><th>2</th><td>3</td><td>3333296</td><td>0.33333</td><td>0.333333</td></tr><tr><th>3</th><td>4</td><td>1248393</td><td>0.124839</td><td>0.125</td></tr><tr><th>4</th><td>5</td><td>333226</td><td>0.0333226</td><td>0.0333333</td></tr><tr><th>5</th><td>6</td><td>69749</td><td>0.0069749</td><td>0.00694444</td></tr><tr><th>6</th><td>7</td><td>12047</td><td>0.0012047</td><td>0.00119048</td></tr><tr><th>7</th><td>8</td><td>1753</td><td>0.0001753</td><td>0.000173611</td></tr><tr><th>8</th><td>9</td><td>207</td><td>2.07e-5</td><td>2.20459e-5</td></tr><tr><th>9</th><td>10</td><td>24</td><td>2.4e-6</td><td>2.48016e-6</td></tr><tr><th>10</th><td>11</td><td>2</td><td>2.0e-7</td><td>2.50521e-7</td></tr></tbody></table>"
      ],
      "text/latex": [
       "\\begin{tabular}{r|cccc}\n",
       "\t& nsamples & nsamples\\_length & simulation & theory\\\\\n",
       "\t\\hline\n",
       "\t& Int64 & Int64 & Float64 & Float64\\\\\n",
       "\t\\hline\n",
       "\t1 & 2 & 5001303 & 0.50013 & 0.5 \\\\\n",
       "\t2 & 3 & 3333296 & 0.33333 & 0.333333 \\\\\n",
       "\t3 & 4 & 1248393 & 0.124839 & 0.125 \\\\\n",
       "\t4 & 5 & 333226 & 0.0333226 & 0.0333333 \\\\\n",
       "\t5 & 6 & 69749 & 0.0069749 & 0.00694444 \\\\\n",
       "\t6 & 7 & 12047 & 0.0012047 & 0.00119048 \\\\\n",
       "\t7 & 8 & 1753 & 0.0001753 & 0.000173611 \\\\\n",
       "\t8 & 9 & 207 & 2.07e-5 & 2.20459e-5 \\\\\n",
       "\t9 & 10 & 24 & 2.4e-6 & 2.48016e-6 \\\\\n",
       "\t10 & 11 & 2 & 2.0e-7 & 2.50521e-7 \\\\\n",
       "\\end{tabular}\n"
      ],
      "text/plain": [
       "\u001b[1m10×4 DataFrame\u001b[0m\n",
       "\u001b[1m Row \u001b[0m│\u001b[1m nsamples \u001b[0m\u001b[1m nsamples_length \u001b[0m\u001b[1m simulation \u001b[0m\u001b[1m theory      \u001b[0m\n",
       "\u001b[1m     \u001b[0m│\u001b[90m Int64    \u001b[0m\u001b[90m Int64           \u001b[0m\u001b[90m Float64    \u001b[0m\u001b[90m Float64     \u001b[0m\n",
       "─────┼────────────────────────────────────────────────────\n",
       "   1 │        2          5001303   0.50013    0.5\n",
       "   2 │        3          3333296   0.33333    0.333333\n",
       "   3 │        4          1248393   0.124839   0.125\n",
       "   4 │        5           333226   0.0333226  0.0333333\n",
       "   5 │        6            69749   0.0069749  0.00694444\n",
       "   6 │        7            12047   0.0012047  0.00119048\n",
       "   7 │        8             1753   0.0001753  0.000173611\n",
       "   8 │        9              207   2.07e-5    2.20459e-5\n",
       "   9 │       10               24   2.4e-6     2.48016e-6\n",
       "  10 │       11                2   2.0e-7     2.50521e-7"
      ]
     },
     "execution_count": 16,
     "metadata": {},
     "output_type": "execute_result"
    }
   ],
   "source": [
    "transform!(samps_agg,\n",
    "           :nsamples_length => (x -> x ./ sum(x)) => :simulation,\n",
    "           :nsamples => ByRow(x -> (x - 1) / factorial(x)) => :theory)"
   ]
  },
  {
   "cell_type": "code",
   "execution_count": 17,
   "id": "muslim-platinum",
   "metadata": {},
   "outputs": [
    {
     "data": {
      "text/html": [
       "<table class=\"data-frame\"><thead><tr><th></th><th>id</th><th>pos</th><th>nsamples</th></tr><tr><th></th><th>Int64</th><th>Array…</th><th>Int64</th></tr></thead><tbody><p>5 rows × 3 columns</p><tr><th>1</th><td>1</td><td>[0.24885, 0.0578154, 0.914811]</td><td>3</td></tr><tr><th>2</th><td>2</td><td>[0.917523, 0.55376]</td><td>2</td></tr><tr><th>3</th><td>3</td><td>[0.544223, 0.478742]</td><td>2</td></tr><tr><th>4</th><td>4</td><td>[0.192376, 0.557935, 0.0327349, 0.729883]</td><td>4</td></tr><tr><th>5</th><td>5</td><td>[0.564001, 0.192151, 0.714871]</td><td>3</td></tr></tbody></table>"
      ],
      "text/latex": [
       "\\begin{tabular}{r|ccc}\n",
       "\t& id & pos & nsamples\\\\\n",
       "\t\\hline\n",
       "\t& Int64 & Array… & Int64\\\\\n",
       "\t\\hline\n",
       "\t1 & 1 & [0.24885, 0.0578154, 0.914811] & 3 \\\\\n",
       "\t2 & 2 & [0.917523, 0.55376] & 2 \\\\\n",
       "\t3 & 3 & [0.544223, 0.478742] & 2 \\\\\n",
       "\t4 & 4 & [0.192376, 0.557935, 0.0327349, 0.729883] & 4 \\\\\n",
       "\t5 & 5 & [0.564001, 0.192151, 0.714871] & 3 \\\\\n",
       "\\end{tabular}\n"
      ],
      "text/plain": [
       "\u001b[1m5×3 DataFrame\u001b[0m\n",
       "\u001b[1m Row \u001b[0m│\u001b[1m id    \u001b[0m\u001b[1m pos                               \u001b[0m\u001b[1m nsamples \u001b[0m\n",
       "\u001b[1m     \u001b[0m│\u001b[90m Int64 \u001b[0m\u001b[90m Array…                            \u001b[0m\u001b[90m Int64    \u001b[0m\n",
       "─────┼────────────────────────────────────────────────────\n",
       "   1 │     1  [0.24885, 0.0578154, 0.914811]            3\n",
       "   2 │     2  [0.917523, 0.55376]                       2\n",
       "   3 │     3  [0.544223, 0.478742]                      2\n",
       "   4 │     4  [0.192376, 0.557935, 0.0327349, …         4\n",
       "   5 │     5  [0.564001, 0.192151, 0.714871]            3"
      ]
     },
     "execution_count": 17,
     "metadata": {},
     "output_type": "execute_result"
    }
   ],
   "source": [
    "first(df, 5)"
   ]
  },
  {
   "cell_type": "code",
   "execution_count": 18,
   "id": "differential-newcastle",
   "metadata": {},
   "outputs": [
    {
     "data": {
      "text/html": [
       "<table class=\"data-frame\"><thead><tr><th></th><th>first</th><th>last</th></tr><tr><th></th><th>Float64</th><th>Float64</th></tr></thead><tbody><p>10,000,000 rows × 2 columns</p><tr><th>1</th><td>0.24885</td><td>0.914811</td></tr><tr><th>2</th><td>0.917523</td><td>0.55376</td></tr><tr><th>3</th><td>0.544223</td><td>0.478742</td></tr><tr><th>4</th><td>0.192376</td><td>0.729883</td></tr><tr><th>5</th><td>0.564001</td><td>0.714871</td></tr><tr><th>6</th><td>0.551949</td><td>0.698777</td></tr><tr><th>7</th><td>0.729513</td><td>0.891781</td></tr><tr><th>8</th><td>0.310581</td><td>0.728135</td></tr><tr><th>9</th><td>0.684975</td><td>0.738706</td></tr><tr><th>10</th><td>0.825292</td><td>0.270735</td></tr><tr><th>11</th><td>0.254653</td><td>0.913396</td></tr><tr><th>12</th><td>0.175322</td><td>0.514368</td></tr><tr><th>13</th><td>0.845696</td><td>0.565246</td></tr><tr><th>14</th><td>0.556832</td><td>0.501823</td></tr><tr><th>15</th><td>0.899959</td><td>0.202069</td></tr><tr><th>16</th><td>0.96831</td><td>0.32969</td></tr><tr><th>17</th><td>0.173653</td><td>0.652935</td></tr><tr><th>18</th><td>0.121834</td><td>0.549716</td></tr><tr><th>19</th><td>0.0426898</td><td>0.82616</td></tr><tr><th>20</th><td>0.546046</td><td>0.750671</td></tr><tr><th>21</th><td>0.261337</td><td>0.833268</td></tr><tr><th>22</th><td>0.549755</td><td>0.973709</td></tr><tr><th>23</th><td>0.755146</td><td>0.6529</td></tr><tr><th>24</th><td>0.412333</td><td>0.636599</td></tr><tr><th>25</th><td>0.127727</td><td>0.951027</td></tr><tr><th>26</th><td>0.648284</td><td>0.509594</td></tr><tr><th>27</th><td>0.537212</td><td>0.919141</td></tr><tr><th>28</th><td>0.930161</td><td>0.905996</td></tr><tr><th>29</th><td>0.289867</td><td>0.743117</td></tr><tr><th>30</th><td>0.403762</td><td>0.656007</td></tr><tr><th>&vellip;</th><td>&vellip;</td><td>&vellip;</td></tr></tbody></table>"
      ],
      "text/latex": [
       "\\begin{tabular}{r|cc}\n",
       "\t& first & last\\\\\n",
       "\t\\hline\n",
       "\t& Float64 & Float64\\\\\n",
       "\t\\hline\n",
       "\t1 & 0.24885 & 0.914811 \\\\\n",
       "\t2 & 0.917523 & 0.55376 \\\\\n",
       "\t3 & 0.544223 & 0.478742 \\\\\n",
       "\t4 & 0.192376 & 0.729883 \\\\\n",
       "\t5 & 0.564001 & 0.714871 \\\\\n",
       "\t6 & 0.551949 & 0.698777 \\\\\n",
       "\t7 & 0.729513 & 0.891781 \\\\\n",
       "\t8 & 0.310581 & 0.728135 \\\\\n",
       "\t9 & 0.684975 & 0.738706 \\\\\n",
       "\t10 & 0.825292 & 0.270735 \\\\\n",
       "\t11 & 0.254653 & 0.913396 \\\\\n",
       "\t12 & 0.175322 & 0.514368 \\\\\n",
       "\t13 & 0.845696 & 0.565246 \\\\\n",
       "\t14 & 0.556832 & 0.501823 \\\\\n",
       "\t15 & 0.899959 & 0.202069 \\\\\n",
       "\t16 & 0.96831 & 0.32969 \\\\\n",
       "\t17 & 0.173653 & 0.652935 \\\\\n",
       "\t18 & 0.121834 & 0.549716 \\\\\n",
       "\t19 & 0.0426898 & 0.82616 \\\\\n",
       "\t20 & 0.546046 & 0.750671 \\\\\n",
       "\t21 & 0.261337 & 0.833268 \\\\\n",
       "\t22 & 0.549755 & 0.973709 \\\\\n",
       "\t23 & 0.755146 & 0.6529 \\\\\n",
       "\t24 & 0.412333 & 0.636599 \\\\\n",
       "\t25 & 0.127727 & 0.951027 \\\\\n",
       "\t26 & 0.648284 & 0.509594 \\\\\n",
       "\t27 & 0.537212 & 0.919141 \\\\\n",
       "\t28 & 0.930161 & 0.905996 \\\\\n",
       "\t29 & 0.289867 & 0.743117 \\\\\n",
       "\t30 & 0.403762 & 0.656007 \\\\\n",
       "\t$\\dots$ & $\\dots$ & $\\dots$ \\\\\n",
       "\\end{tabular}\n"
      ],
      "text/plain": [
       "\u001b[1m10000000×2 DataFrame\u001b[0m\n",
       "\u001b[1m      Row \u001b[0m│\u001b[1m first      \u001b[0m\u001b[1m last     \u001b[0m\n",
       "\u001b[1m          \u001b[0m│\u001b[90m Float64    \u001b[0m\u001b[90m Float64  \u001b[0m\n",
       "──────────┼──────────────────────\n",
       "        1 │ 0.24885     0.914811\n",
       "        2 │ 0.917523    0.55376\n",
       "        3 │ 0.544223    0.478742\n",
       "        4 │ 0.192376    0.729883\n",
       "        5 │ 0.564001    0.714871\n",
       "        6 │ 0.551949    0.698777\n",
       "        7 │ 0.729513    0.891781\n",
       "        8 │ 0.310581    0.728135\n",
       "        9 │ 0.684975    0.738706\n",
       "       10 │ 0.825292    0.270735\n",
       "       11 │ 0.254653    0.913396\n",
       "    ⋮     │     ⋮          ⋮\n",
       "  9999991 │ 0.263496    0.586187\n",
       "  9999992 │ 0.783459    0.334621\n",
       "  9999993 │ 0.0626447   0.819895\n",
       "  9999994 │ 0.717179    0.911324\n",
       "  9999995 │ 0.173543    0.599373\n",
       "  9999996 │ 0.765513    0.493261\n",
       "  9999997 │ 0.199601    0.817005\n",
       "  9999998 │ 0.00243461  0.862296\n",
       "  9999999 │ 0.391084    0.876322\n",
       " 10000000 │ 0.574666    0.346067\n",
       "\u001b[36m             9999979 rows omitted\u001b[0m"
      ]
     },
     "execution_count": 18,
     "metadata": {},
     "output_type": "execute_result"
    }
   ],
   "source": [
    "dftest = select(\n",
    "    df, :pos => ByRow(first) => :first, :pos => ByRow(last) => :last)"
   ]
  },
  {
   "cell_type": "code",
   "execution_count": 19,
   "id": "protected-senegal",
   "metadata": {},
   "outputs": [
    {
     "data": {
      "image/png": "[encoded data removed]",
      "text/plain": [
       "Figure(PyObject <Figure size 640x480 with 1 Axes>)"
      ]
     },
     "metadata": {},
     "output_type": "display_data"
    }
   ],
   "source": [
    "hist(dftest.first, 100);"
   ]
  },
  {
   "cell_type": "code",
   "execution_count": 21,
   "id": "large-stone",
   "metadata": {},
   "outputs": [
    {
     "data": {
      "image/png": "[encoded data removed]",
      "text/plain": [
       "Figure(PyObject <Figure size 640x480 with 1 Axes>)"
      ]
     },
     "metadata": {},
     "output_type": "display_data"
    }
   ],
   "source": [
    "hist(dftest.last, 100);"
   ]
  },
  {
   "cell_type": "code",
   "execution_count": null,
   "id": "saved-investor",
   "metadata": {},
   "outputs": [],
   "source": []
  }
 ],
 "metadata": {
  "kernelspec": {
   "display_name": "Julia 1.5.3",
   "language": "julia",
   "name": "julia-1.5"
  },
  "language_info": {
   "file_extension": ".jl",
   "mimetype": "application/julia",
   "name": "julia",
   "version": "1.5.3"
  }
 },
 "nbformat": 4,
 "nbformat_minor": 5
}
