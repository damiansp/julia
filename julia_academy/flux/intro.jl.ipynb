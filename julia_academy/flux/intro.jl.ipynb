{
 "cells": [
  {
   "cell_type": "code",
   "execution_count": 11,
   "id": "organized-universal",
   "metadata": {},
   "outputs": [
    {
     "name": "stderr",
     "output_type": "stream",
     "text": [
      "┌ Info: Precompiling CSV [336ed68f-0bac-5ca0-87d4-7b16caf5d00b]\n",
      "└ @ Base loading.jl:1278\n",
      "┌ Info: Precompiling DataFrames [a93c6f00-e57d-5684-b7b6-d8193f3e46c0]\n",
      "└ @ Base loading.jl:1278\n"
     ]
    }
   ],
   "source": [
    "using CSV\n",
    "using DataFrames\n",
    "using Flux\n",
    "using Plots"
   ]
  },
  {
   "cell_type": "code",
   "execution_count": 3,
   "id": "speaking-college",
   "metadata": {},
   "outputs": [
    {
     "data": {
      "image/svg+xml": [
       "<?xml version=\"1.0\" encoding=\"utf-8\"?>\n",
       "<svg xmlns=\"http://www.w3.org/2000/svg\" xmlns:xlink=\"http://www.w3.org/1999/xlink\" width=\"600\" height=\"400\" viewBox=\"0 0 2400 1600\">\n",
       "<defs>\n",
       "  <clipPath id=\"clip930\">\n",
       "    <rect x=\"0\" y=\"0\" width=\"2400\" height=\"1600\"/>\n",
       "  </clipPath>\n",
       "</defs>\n",
       "<path clip-path=\"url(#clip930)\" d=\"\n",
       "M0 1600 L2400 1600 L2400 0 L0 0  Z\n",
       "  \" fill=\"#ffffff\" fill-rule=\"evenodd\" fill-opacity=\"1\"/>\n",
       "<defs>\n",
       "  <clipPath id=\"clip931\">\n",
       "    <rect x=\"480\" y=\"0\" width=\"1681\" height=\"1600\"/>\n",
       "  </clipPath>\n",
       "</defs>\n",
       "<path clip-path=\"url(#clip930)\" d=\"\n",
       "M247.958 1423.18 L2352.76 1423.18 L2352.76 47.2441 L247.958 47.2441  Z\n",
       "  \" fill=\"#ffffff\" fill-rule=\"evenodd\" fill-opacity=\"1\"/>\n",
       "<defs>\n",
       "  <clipPath id=\"clip932\">\n",
       "    <rect x=\"247\" y=\"47\" width=\"2106\" height=\"1377\"/>\n",
       "  </clipPath>\n",
       "</defs>\n",
       "<polyline clip-path=\"url(#clip932)\" style=\"stroke:#000000; stroke-linecap:butt; stroke-linejoin:round; stroke-width:2; stroke-opacity:0.1; fill:none\" points=\"\n",
       "  506.094,1423.18 506.094,47.2441 \n",
       "  \"/>\n",
       "<polyline clip-path=\"url(#clip932)\" style=\"stroke:#000000; stroke-linecap:butt; stroke-linejoin:round; stroke-width:2; stroke-opacity:0.1; fill:none\" points=\"\n",
       "  903.225,1423.18 903.225,47.2441 \n",
       "  \"/>\n",
       "<polyline clip-path=\"url(#clip932)\" style=\"stroke:#000000; stroke-linecap:butt; stroke-linejoin:round; stroke-width:2; stroke-opacity:0.1; fill:none\" points=\"\n",
       "  1300.36,1423.18 1300.36,47.2441 \n",
       "  \"/>\n",
       "<polyline clip-path=\"url(#clip932)\" style=\"stroke:#000000; stroke-linecap:butt; stroke-linejoin:round; stroke-width:2; stroke-opacity:0.1; fill:none\" points=\"\n",
       "  1697.49,1423.18 1697.49,47.2441 \n",
       "  \"/>\n",
       "<polyline clip-path=\"url(#clip932)\" style=\"stroke:#000000; stroke-linecap:butt; stroke-linejoin:round; stroke-width:2; stroke-opacity:0.1; fill:none\" points=\"\n",
       "  2094.62,1423.18 2094.62,47.2441 \n",
       "  \"/>\n",
       "<polyline clip-path=\"url(#clip930)\" style=\"stroke:#000000; stroke-linecap:butt; stroke-linejoin:round; stroke-width:4; stroke-opacity:1; fill:none\" points=\"\n",
       "  247.958,1423.18 2352.76,1423.18 \n",
       "  \"/>\n",
       "<polyline clip-path=\"url(#clip930)\" style=\"stroke:#000000; stroke-linecap:butt; stroke-linejoin:round; stroke-width:4; stroke-opacity:1; fill:none\" points=\"\n",
       "  506.094,1423.18 506.094,1406.67 \n",
       "  \"/>\n",
       "<polyline clip-path=\"url(#clip930)\" style=\"stroke:#000000; stroke-linecap:butt; stroke-linejoin:round; stroke-width:4; stroke-opacity:1; fill:none\" points=\"\n",
       "  903.225,1423.18 903.225,1406.67 \n",
       "  \"/>\n",
       "<polyline clip-path=\"url(#clip930)\" style=\"stroke:#000000; stroke-linecap:butt; stroke-linejoin:round; stroke-width:4; stroke-opacity:1; fill:none\" points=\"\n",
       "  1300.36,1423.18 1300.36,1406.67 \n",
       "  \"/>\n",
       "<polyline clip-path=\"url(#clip930)\" style=\"stroke:#000000; stroke-linecap:butt; stroke-linejoin:round; stroke-width:4; stroke-opacity:1; fill:none\" points=\"\n",
       "  1697.49,1423.18 1697.49,1406.67 \n",
       "  \"/>\n",
       "<polyline clip-path=\"url(#clip930)\" style=\"stroke:#000000; stroke-linecap:butt; stroke-linejoin:round; stroke-width:4; stroke-opacity:1; fill:none\" points=\"\n",
       "  2094.62,1423.18 2094.62,1406.67 \n",
       "  \"/>\n",
       "<path clip-path=\"url(#clip930)\" d=\"M474.994 1467.02 L504.67 1467.02 L504.67 1470.96 L474.994 1470.96 L474.994 1467.02 Z\" fill=\"#000000\" fill-rule=\"evenodd\" fill-opacity=\"1\" /><path clip-path=\"url(#clip930)\" d=\"M527.61 1453.37 L515.804 1471.81 L527.61 1471.81 L527.61 1453.37 M526.383 1449.29 L532.262 1449.29 L532.262 1471.81 L537.193 1471.81 L537.193 1475.7 L532.262 1475.7 L532.262 1483.85 L527.61 1483.85 L527.61 1475.7 L512.008 1475.7 L512.008 1471.19 L526.383 1449.29 Z\" fill=\"#000000\" fill-rule=\"evenodd\" fill-opacity=\"1\" /><path clip-path=\"url(#clip930)\" d=\"M873.168 1467.02 L902.843 1467.02 L902.843 1470.96 L873.168 1470.96 L873.168 1467.02 Z\" fill=\"#000000\" fill-rule=\"evenodd\" fill-opacity=\"1\" /><path clip-path=\"url(#clip930)\" d=\"M916.964 1479.92 L933.283 1479.92 L933.283 1483.85 L911.339 1483.85 L911.339 1479.92 Q914.001 1477.16 918.584 1472.53 Q923.19 1467.88 924.371 1466.54 Q926.616 1464.01 927.496 1462.28 Q928.399 1460.52 928.399 1458.83 Q928.399 1456.07 926.454 1454.34 Q924.533 1452.6 921.431 1452.6 Q919.232 1452.6 916.778 1453.37 Q914.348 1454.13 911.57 1455.68 L911.57 1450.96 Q914.394 1449.82 916.848 1449.25 Q919.302 1448.67 921.339 1448.67 Q926.709 1448.67 929.903 1451.35 Q933.098 1454.04 933.098 1458.53 Q933.098 1460.66 932.288 1462.58 Q931.501 1464.48 929.394 1467.07 Q928.815 1467.74 925.714 1470.96 Q922.612 1474.15 916.964 1479.92 Z\" fill=\"#000000\" fill-rule=\"evenodd\" fill-opacity=\"1\" /><path clip-path=\"url(#clip930)\" d=\"M1300.36 1452.37 Q1296.75 1452.37 1294.92 1455.94 Q1293.11 1459.48 1293.11 1466.61 Q1293.11 1473.71 1294.92 1477.28 Q1296.75 1480.82 1300.36 1480.82 Q1303.99 1480.82 1305.8 1477.28 Q1307.63 1473.71 1307.63 1466.61 Q1307.63 1459.48 1305.8 1455.94 Q1303.99 1452.37 1300.36 1452.37 M1300.36 1448.67 Q1306.17 1448.67 1309.22 1453.27 Q1312.3 1457.86 1312.3 1466.61 Q1312.3 1475.33 1309.22 1479.94 Q1306.17 1484.52 1300.36 1484.52 Q1294.55 1484.52 1291.47 1479.94 Q1288.41 1475.33 1288.41 1466.61 Q1288.41 1457.86 1291.47 1453.27 Q1294.55 1448.67 1300.36 1448.67 Z\" fill=\"#000000\" fill-rule=\"evenodd\" fill-opacity=\"1\" /><path clip-path=\"url(#clip930)\" d=\"M1692.14 1479.92 L1708.46 1479.92 L1708.46 1483.85 L1686.52 1483.85 L1686.52 1479.92 Q1689.18 1477.16 1693.76 1472.53 Q1698.37 1467.88 1699.55 1466.54 Q1701.79 1464.01 1702.67 1462.28 Q1703.58 1460.52 1703.58 1458.83 Q1703.58 1456.07 1701.63 1454.34 Q1699.71 1452.6 1696.61 1452.6 Q1694.41 1452.6 1691.96 1453.37 Q1689.53 1454.13 1686.75 1455.68 L1686.75 1450.96 Q1689.57 1449.82 1692.03 1449.25 Q1694.48 1448.67 1696.52 1448.67 Q1701.89 1448.67 1705.08 1451.35 Q1708.28 1454.04 1708.28 1458.53 Q1708.28 1460.66 1707.47 1462.58 Q1706.68 1464.48 1704.57 1467.07 Q1703.99 1467.74 1700.89 1470.96 Q1697.79 1474.15 1692.14 1479.92 Z\" fill=\"#000000\" fill-rule=\"evenodd\" fill-opacity=\"1\" /><path clip-path=\"url(#clip930)\" d=\"M2097.63 1453.37 L2085.82 1471.81 L2097.63 1471.81 L2097.63 1453.37 M2096.4 1449.29 L2102.28 1449.29 L2102.28 1471.81 L2107.21 1471.81 L2107.21 1475.7 L2102.28 1475.7 L2102.28 1483.85 L2097.63 1483.85 L2097.63 1475.7 L2082.03 1475.7 L2082.03 1471.19 L2096.4 1449.29 Z\" fill=\"#000000\" fill-rule=\"evenodd\" fill-opacity=\"1\" /><path clip-path=\"url(#clip930)\" d=\"M1316.97 1532.4 L1304.08 1549.74 L1317.64 1568.04 L1310.73 1568.04 L1300.36 1554.04 L1289.98 1568.04 L1283.07 1568.04 L1296.92 1549.39 L1284.25 1532.4 L1291.16 1532.4 L1300.61 1545.1 L1310.06 1532.4 L1316.97 1532.4 Z\" fill=\"#000000\" fill-rule=\"evenodd\" fill-opacity=\"1\" /><polyline clip-path=\"url(#clip932)\" style=\"stroke:#000000; stroke-linecap:butt; stroke-linejoin:round; stroke-width:2; stroke-opacity:0.1; fill:none\" points=\"\n",
       "  247.958,1393.04 2352.76,1393.04 \n",
       "  \"/>\n",
       "<polyline clip-path=\"url(#clip932)\" style=\"stroke:#000000; stroke-linecap:butt; stroke-linejoin:round; stroke-width:2; stroke-opacity:0.1; fill:none\" points=\"\n",
       "  247.958,1064.13 2352.76,1064.13 \n",
       "  \"/>\n",
       "<polyline clip-path=\"url(#clip932)\" style=\"stroke:#000000; stroke-linecap:butt; stroke-linejoin:round; stroke-width:2; stroke-opacity:0.1; fill:none\" points=\"\n",
       "  247.958,735.212 2352.76,735.212 \n",
       "  \"/>\n",
       "<polyline clip-path=\"url(#clip932)\" style=\"stroke:#000000; stroke-linecap:butt; stroke-linejoin:round; stroke-width:2; stroke-opacity:0.1; fill:none\" points=\"\n",
       "  247.958,406.296 2352.76,406.296 \n",
       "  \"/>\n",
       "<polyline clip-path=\"url(#clip932)\" style=\"stroke:#000000; stroke-linecap:butt; stroke-linejoin:round; stroke-width:2; stroke-opacity:0.1; fill:none\" points=\"\n",
       "  247.958,77.3801 2352.76,77.3801 \n",
       "  \"/>\n",
       "<polyline clip-path=\"url(#clip930)\" style=\"stroke:#000000; stroke-linecap:butt; stroke-linejoin:round; stroke-width:4; stroke-opacity:1; fill:none\" points=\"\n",
       "  247.958,1423.18 247.958,47.2441 \n",
       "  \"/>\n",
       "<polyline clip-path=\"url(#clip930)\" style=\"stroke:#000000; stroke-linecap:butt; stroke-linejoin:round; stroke-width:4; stroke-opacity:1; fill:none\" points=\"\n",
       "  247.958,1393.04 273.216,1393.04 \n",
       "  \"/>\n",
       "<polyline clip-path=\"url(#clip930)\" style=\"stroke:#000000; stroke-linecap:butt; stroke-linejoin:round; stroke-width:4; stroke-opacity:1; fill:none\" points=\"\n",
       "  247.958,1064.13 273.216,1064.13 \n",
       "  \"/>\n",
       "<polyline clip-path=\"url(#clip930)\" style=\"stroke:#000000; stroke-linecap:butt; stroke-linejoin:round; stroke-width:4; stroke-opacity:1; fill:none\" points=\"\n",
       "  247.958,735.212 273.216,735.212 \n",
       "  \"/>\n",
       "<polyline clip-path=\"url(#clip930)\" style=\"stroke:#000000; stroke-linecap:butt; stroke-linejoin:round; stroke-width:4; stroke-opacity:1; fill:none\" points=\"\n",
       "  247.958,406.296 273.216,406.296 \n",
       "  \"/>\n",
       "<polyline clip-path=\"url(#clip930)\" style=\"stroke:#000000; stroke-linecap:butt; stroke-linejoin:round; stroke-width:4; stroke-opacity:1; fill:none\" points=\"\n",
       "  247.958,77.3801 273.216,77.3801 \n",
       "  \"/>\n",
       "<path clip-path=\"url(#clip930)\" d=\"M124.621 1378.84 Q121.009 1378.84 119.181 1382.41 Q117.375 1385.95 117.375 1393.08 Q117.375 1400.18 119.181 1403.75 Q121.009 1407.29 124.621 1407.29 Q128.255 1407.29 130.06 1403.75 Q131.889 1400.18 131.889 1393.08 Q131.889 1385.95 130.06 1382.41 Q128.255 1378.84 124.621 1378.84 M124.621 1375.14 Q130.431 1375.14 133.486 1379.75 Q136.565 1384.33 136.565 1393.08 Q136.565 1401.81 133.486 1406.41 Q130.431 1411 124.621 1411 Q118.81 1411 115.732 1406.41 Q112.676 1401.81 112.676 1393.08 Q112.676 1384.33 115.732 1379.75 Q118.81 1375.14 124.621 1375.14 Z\" fill=\"#000000\" fill-rule=\"evenodd\" fill-opacity=\"1\" /><path clip-path=\"url(#clip930)\" d=\"M144.782 1404.44 L149.667 1404.44 L149.667 1410.32 L144.782 1410.32 L144.782 1404.44 Z\" fill=\"#000000\" fill-rule=\"evenodd\" fill-opacity=\"1\" /><path clip-path=\"url(#clip930)\" d=\"M169.852 1378.84 Q166.241 1378.84 164.412 1382.41 Q162.606 1385.95 162.606 1393.08 Q162.606 1400.18 164.412 1403.75 Q166.241 1407.29 169.852 1407.29 Q173.486 1407.29 175.292 1403.75 Q177.12 1400.18 177.12 1393.08 Q177.12 1385.95 175.292 1382.41 Q173.486 1378.84 169.852 1378.84 M169.852 1375.14 Q175.662 1375.14 178.717 1379.75 Q181.796 1384.33 181.796 1393.08 Q181.796 1401.81 178.717 1406.41 Q175.662 1411 169.852 1411 Q164.042 1411 160.963 1406.41 Q157.907 1401.81 157.907 1393.08 Q157.907 1384.33 160.963 1379.75 Q164.042 1375.14 169.852 1375.14 Z\" fill=\"#000000\" fill-rule=\"evenodd\" fill-opacity=\"1\" /><path clip-path=\"url(#clip930)\" d=\"M200.014 1378.84 Q196.403 1378.84 194.574 1382.41 Q192.768 1385.95 192.768 1393.08 Q192.768 1400.18 194.574 1403.75 Q196.403 1407.29 200.014 1407.29 Q203.648 1407.29 205.453 1403.75 Q207.282 1400.18 207.282 1393.08 Q207.282 1385.95 205.453 1382.41 Q203.648 1378.84 200.014 1378.84 M200.014 1375.14 Q205.824 1375.14 208.879 1379.75 Q211.958 1384.33 211.958 1393.08 Q211.958 1401.81 208.879 1406.41 Q205.824 1411 200.014 1411 Q194.203 1411 191.125 1406.41 Q188.069 1401.81 188.069 1393.08 Q188.069 1384.33 191.125 1379.75 Q194.203 1375.14 200.014 1375.14 Z\" fill=\"#000000\" fill-rule=\"evenodd\" fill-opacity=\"1\" /><path clip-path=\"url(#clip930)\" d=\"M125.616 1049.93 Q122.005 1049.93 120.176 1053.49 Q118.371 1057.03 118.371 1064.16 Q118.371 1071.27 120.176 1074.83 Q122.005 1078.38 125.616 1078.38 Q129.25 1078.38 131.056 1074.83 Q132.884 1071.27 132.884 1064.16 Q132.884 1057.03 131.056 1053.49 Q129.25 1049.93 125.616 1049.93 M125.616 1046.22 Q131.426 1046.22 134.482 1050.83 Q137.56 1055.41 137.56 1064.16 Q137.56 1072.89 134.482 1077.5 Q131.426 1082.08 125.616 1082.08 Q119.806 1082.08 116.727 1077.5 Q113.672 1072.89 113.672 1064.16 Q113.672 1055.41 116.727 1050.83 Q119.806 1046.22 125.616 1046.22 Z\" fill=\"#000000\" fill-rule=\"evenodd\" fill-opacity=\"1\" /><path clip-path=\"url(#clip930)\" d=\"M145.778 1075.53 L150.662 1075.53 L150.662 1081.41 L145.778 1081.41 L145.778 1075.53 Z\" fill=\"#000000\" fill-rule=\"evenodd\" fill-opacity=\"1\" /><path clip-path=\"url(#clip930)\" d=\"M164.875 1077.47 L181.194 1077.47 L181.194 1081.41 L159.25 1081.41 L159.25 1077.47 Q161.912 1074.72 166.495 1070.09 Q171.102 1065.44 172.282 1064.09 Q174.528 1061.57 175.407 1059.83 Q176.31 1058.07 176.31 1056.38 Q176.31 1053.63 174.366 1051.89 Q172.444 1050.16 169.343 1050.16 Q167.143 1050.16 164.69 1050.92 Q162.259 1051.69 159.481 1053.24 L159.481 1048.51 Q162.306 1047.38 164.759 1046.8 Q167.213 1046.22 169.25 1046.22 Q174.62 1046.22 177.815 1048.91 Q181.009 1051.59 181.009 1056.08 Q181.009 1058.21 180.199 1060.13 Q179.412 1062.03 177.305 1064.63 Q176.727 1065.3 173.625 1068.51 Q170.523 1071.71 164.875 1077.47 Z\" fill=\"#000000\" fill-rule=\"evenodd\" fill-opacity=\"1\" /><path clip-path=\"url(#clip930)\" d=\"M191.055 1046.85 L209.412 1046.85 L209.412 1050.78 L195.338 1050.78 L195.338 1059.26 Q196.356 1058.91 197.375 1058.75 Q198.393 1058.56 199.412 1058.56 Q205.199 1058.56 208.578 1061.73 Q211.958 1064.9 211.958 1070.32 Q211.958 1075.9 208.486 1079 Q205.014 1082.08 198.694 1082.08 Q196.518 1082.08 194.25 1081.71 Q192.004 1081.34 189.597 1080.6 L189.597 1075.9 Q191.68 1077.03 193.903 1077.59 Q196.125 1078.14 198.602 1078.14 Q202.606 1078.14 204.944 1076.04 Q207.282 1073.93 207.282 1070.32 Q207.282 1066.71 204.944 1064.6 Q202.606 1062.5 198.602 1062.5 Q196.727 1062.5 194.852 1062.91 Q193 1063.33 191.055 1064.21 L191.055 1046.85 Z\" fill=\"#000000\" fill-rule=\"evenodd\" fill-opacity=\"1\" /><path clip-path=\"url(#clip930)\" d=\"M124.621 721.011 Q121.009 721.011 119.181 724.575 Q117.375 728.117 117.375 735.247 Q117.375 742.353 119.181 745.918 Q121.009 749.46 124.621 749.46 Q128.255 749.46 130.06 745.918 Q131.889 742.353 131.889 735.247 Q131.889 728.117 130.06 724.575 Q128.255 721.011 124.621 721.011 M124.621 717.307 Q130.431 717.307 133.486 721.913 Q136.565 726.497 136.565 735.247 Q136.565 743.973 133.486 748.58 Q130.431 753.163 124.621 753.163 Q118.81 753.163 115.732 748.58 Q112.676 743.973 112.676 735.247 Q112.676 726.497 115.732 721.913 Q118.81 717.307 124.621 717.307 Z\" fill=\"#000000\" fill-rule=\"evenodd\" fill-opacity=\"1\" /><path clip-path=\"url(#clip930)\" d=\"M144.782 746.612 L149.667 746.612 L149.667 752.492 L144.782 752.492 L144.782 746.612 Z\" fill=\"#000000\" fill-rule=\"evenodd\" fill-opacity=\"1\" /><path clip-path=\"url(#clip930)\" d=\"M159.898 717.932 L178.255 717.932 L178.255 721.867 L164.181 721.867 L164.181 730.339 Q165.199 729.992 166.218 729.83 Q167.236 729.645 168.255 729.645 Q174.042 729.645 177.421 732.816 Q180.801 735.987 180.801 741.404 Q180.801 746.983 177.329 750.085 Q173.856 753.163 167.537 753.163 Q165.361 753.163 163.093 752.793 Q160.847 752.423 158.44 751.682 L158.44 746.983 Q160.523 748.117 162.745 748.673 Q164.968 749.228 167.444 749.228 Q171.449 749.228 173.787 747.122 Q176.125 745.015 176.125 741.404 Q176.125 737.793 173.787 735.687 Q171.449 733.58 167.444 733.58 Q165.569 733.58 163.694 733.997 Q161.843 734.413 159.898 735.293 L159.898 717.932 Z\" fill=\"#000000\" fill-rule=\"evenodd\" fill-opacity=\"1\" /><path clip-path=\"url(#clip930)\" d=\"M200.014 721.011 Q196.403 721.011 194.574 724.575 Q192.768 728.117 192.768 735.247 Q192.768 742.353 194.574 745.918 Q196.403 749.46 200.014 749.46 Q203.648 749.46 205.453 745.918 Q207.282 742.353 207.282 735.247 Q207.282 728.117 205.453 724.575 Q203.648 721.011 200.014 721.011 M200.014 717.307 Q205.824 717.307 208.879 721.913 Q211.958 726.497 211.958 735.247 Q211.958 743.973 208.879 748.58 Q205.824 753.163 200.014 753.163 Q194.203 753.163 191.125 748.58 Q188.069 743.973 188.069 735.247 Q188.069 726.497 191.125 721.913 Q194.203 717.307 200.014 717.307 Z\" fill=\"#000000\" fill-rule=\"evenodd\" fill-opacity=\"1\" /><path clip-path=\"url(#clip930)\" d=\"M125.616 392.095 Q122.005 392.095 120.176 395.66 Q118.371 399.201 118.371 406.331 Q118.371 413.437 120.176 417.002 Q122.005 420.544 125.616 420.544 Q129.25 420.544 131.056 417.002 Q132.884 413.437 132.884 406.331 Q132.884 399.201 131.056 395.66 Q129.25 392.095 125.616 392.095 M125.616 388.391 Q131.426 388.391 134.482 392.998 Q137.56 397.581 137.56 406.331 Q137.56 415.058 134.482 419.664 Q131.426 424.247 125.616 424.247 Q119.806 424.247 116.727 419.664 Q113.672 415.058 113.672 406.331 Q113.672 397.581 116.727 392.998 Q119.806 388.391 125.616 388.391 Z\" fill=\"#000000\" fill-rule=\"evenodd\" fill-opacity=\"1\" /><path clip-path=\"url(#clip930)\" d=\"M145.778 417.696 L150.662 417.696 L150.662 423.576 L145.778 423.576 L145.778 417.696 Z\" fill=\"#000000\" fill-rule=\"evenodd\" fill-opacity=\"1\" /><path clip-path=\"url(#clip930)\" d=\"M159.667 389.016 L181.889 389.016 L181.889 391.007 L169.343 423.576 L164.458 423.576 L176.264 392.951 L159.667 392.951 L159.667 389.016 Z\" fill=\"#000000\" fill-rule=\"evenodd\" fill-opacity=\"1\" /><path clip-path=\"url(#clip930)\" d=\"M191.055 389.016 L209.412 389.016 L209.412 392.951 L195.338 392.951 L195.338 401.423 Q196.356 401.076 197.375 400.914 Q198.393 400.729 199.412 400.729 Q205.199 400.729 208.578 403.9 Q211.958 407.072 211.958 412.488 Q211.958 418.067 208.486 421.169 Q205.014 424.247 198.694 424.247 Q196.518 424.247 194.25 423.877 Q192.004 423.507 189.597 422.766 L189.597 418.067 Q191.68 419.201 193.903 419.757 Q196.125 420.312 198.602 420.312 Q202.606 420.312 204.944 418.206 Q207.282 416.099 207.282 412.488 Q207.282 408.877 204.944 406.771 Q202.606 404.664 198.602 404.664 Q196.727 404.664 194.852 405.081 Q193 405.497 191.055 406.377 L191.055 389.016 Z\" fill=\"#000000\" fill-rule=\"evenodd\" fill-opacity=\"1\" /><path clip-path=\"url(#clip930)\" d=\"M115.431 90.725 L123.07 90.725 L123.07 64.3594 L114.759 66.026 L114.759 61.7668 L123.023 60.1001 L127.699 60.1001 L127.699 90.725 L135.338 90.725 L135.338 94.6601 L115.431 94.6601 L115.431 90.725 Z\" fill=\"#000000\" fill-rule=\"evenodd\" fill-opacity=\"1\" /><path clip-path=\"url(#clip930)\" d=\"M144.782 88.7805 L149.667 88.7805 L149.667 94.6601 L144.782 94.6601 L144.782 88.7805 Z\" fill=\"#000000\" fill-rule=\"evenodd\" fill-opacity=\"1\" /><path clip-path=\"url(#clip930)\" d=\"M169.852 63.1788 Q166.241 63.1788 164.412 66.7436 Q162.606 70.2853 162.606 77.4149 Q162.606 84.5213 164.412 88.0861 Q166.241 91.6277 169.852 91.6277 Q173.486 91.6277 175.292 88.0861 Q177.12 84.5213 177.12 77.4149 Q177.12 70.2853 175.292 66.7436 Q173.486 63.1788 169.852 63.1788 M169.852 59.4751 Q175.662 59.4751 178.717 64.0816 Q181.796 68.6649 181.796 77.4149 Q181.796 86.1417 178.717 90.7481 Q175.662 95.3314 169.852 95.3314 Q164.042 95.3314 160.963 90.7481 Q157.907 86.1417 157.907 77.4149 Q157.907 68.6649 160.963 64.0816 Q164.042 59.4751 169.852 59.4751 Z\" fill=\"#000000\" fill-rule=\"evenodd\" fill-opacity=\"1\" /><path clip-path=\"url(#clip930)\" d=\"M200.014 63.1788 Q196.403 63.1788 194.574 66.7436 Q192.768 70.2853 192.768 77.4149 Q192.768 84.5213 194.574 88.0861 Q196.403 91.6277 200.014 91.6277 Q203.648 91.6277 205.453 88.0861 Q207.282 84.5213 207.282 77.4149 Q207.282 70.2853 205.453 66.7436 Q203.648 63.1788 200.014 63.1788 M200.014 59.4751 Q205.824 59.4751 208.879 64.0816 Q211.958 68.6649 211.958 77.4149 Q211.958 86.1417 208.879 90.7481 Q205.824 95.3314 200.014 95.3314 Q194.203 95.3314 191.125 90.7481 Q188.069 86.1417 188.069 77.4149 Q188.069 68.6649 191.125 64.0816 Q194.203 59.4751 200.014 59.4751 Z\" fill=\"#000000\" fill-rule=\"evenodd\" fill-opacity=\"1\" /><path clip-path=\"url(#clip930)\" d=\"M35.696 775.873 Q35.696 780.711 39.1971 783.321 Q42.8574 786.058 48.9048 786.058 Q55.3023 786.058 58.9945 783.353 Q62.6547 780.615 62.6547 775.873 Q62.6547 771.194 58.9626 768.457 Q55.2705 765.72 48.9048 765.72 Q43.0802 765.72 39.1971 768.457 Q35.696 770.971 35.696 775.873 M31.049 775.873 L31.049 756.426 L36.9055 756.426 L36.9055 762.982 Q41.8707 759.513 48.9048 759.513 Q57.6577 759.513 62.6229 763.874 Q67.62 768.234 67.62 775.873 Q67.62 783.544 62.6229 787.872 Q57.6577 792.233 48.9048 792.233 Q40.0883 792.233 35.1549 787.872 Q31.049 784.276 31.049 775.873 Z\" fill=\"#000000\" fill-rule=\"evenodd\" fill-opacity=\"1\" /><path clip-path=\"url(#clip930)\" d=\"M17.2354 741.816 Q24.556 746.081 31.7174 748.15 Q38.8788 750.219 46.2312 750.219 Q53.5836 750.219 60.8087 748.15 Q68.0019 746.05 75.2907 741.816 L75.2907 746.909 Q67.811 751.683 60.5859 754.07 Q53.3608 756.426 46.2312 756.426 Q39.1334 756.426 31.9402 754.07 Q24.747 751.715 17.2354 746.909 L17.2354 741.816 Z\" fill=\"#000000\" fill-rule=\"evenodd\" fill-opacity=\"1\" /><path clip-path=\"url(#clip930)\" d=\"M31.049 700.821 L48.3956 713.712 L66.697 700.153 L66.697 707.06 L52.6924 717.436 L66.697 727.812 L66.697 734.719 L48.0454 720.873 L31.049 733.541 L31.049 726.634 L43.7486 717.181 L31.049 707.728 L31.049 700.821 Z\" fill=\"#000000\" fill-rule=\"evenodd\" fill-opacity=\"1\" /><path clip-path=\"url(#clip930)\" d=\"M17.2354 692.8 L17.2354 687.708 Q24.747 682.934 31.9402 680.578 Q39.1334 678.191 46.2312 678.191 Q53.3608 678.191 60.5859 680.578 Q67.811 682.934 75.2907 687.708 L75.2907 692.8 Q68.0019 688.567 60.8087 686.498 Q53.5836 684.398 46.2312 684.398 Q38.8788 684.398 31.7174 686.498 Q24.556 688.567 17.2354 692.8 Z\" fill=\"#000000\" fill-rule=\"evenodd\" fill-opacity=\"1\" /><polyline clip-path=\"url(#clip932)\" style=\"stroke:#009af9; stroke-linecap:butt; stroke-linejoin:round; stroke-width:4; stroke-opacity:1; fill:none\" points=\"\n",
       "  307.528,1384.24 326.919,1383.34 506.223,1369.36 613.976,1352.82 705.081,1330.52 754.563,1313.89 804.046,1293.19 849.664,1269.82 895.282,1241.65 944.19,1205.4 \n",
       "  993.098,1162.19 1049.76,1102.77 1106.43,1033.14 1156.78,963.188 1207.14,886.847 1251.3,816.064 1295.46,743.328 1391.75,586.447 1488.61,444.816 1542.15,377.798 \n",
       "  1595.7,319.878 1646.65,273.166 1697.59,234.137 1750.57,200.876 1803.54,174.084 1848.14,155.792 1892.73,140.78 2001.61,114.779 2103.97,99.9744 2267.95,87.3699 \n",
       "  2293.19,86.1857 \n",
       "  \"/>\n",
       "<path clip-path=\"url(#clip930)\" d=\"\n",
       "M2022.69 214.069 L2282.6 214.069 L2282.6 93.1086 L2022.69 93.1086  Z\n",
       "  \" fill=\"#ffffff\" fill-rule=\"evenodd\" fill-opacity=\"1\"/>\n",
       "<polyline clip-path=\"url(#clip930)\" style=\"stroke:#000000; stroke-linecap:butt; stroke-linejoin:round; stroke-width:4; stroke-opacity:1; fill:none\" points=\"\n",
       "  2022.69,214.069 2282.6,214.069 2282.6,93.1086 2022.69,93.1086 2022.69,214.069 \n",
       "  \"/>\n",
       "<polyline clip-path=\"url(#clip930)\" style=\"stroke:#009af9; stroke-linecap:butt; stroke-linejoin:round; stroke-width:4; stroke-opacity:1; fill:none\" points=\"\n",
       "  2046.07,153.589 2186.39,153.589 \n",
       "  \"/>\n",
       "<path clip-path=\"url(#clip930)\" d=\"M2221.68 144.694 Q2218.16 144.694 2216.26 147.24 Q2214.27 149.902 2214.27 154.3 Q2214.27 158.953 2216.24 161.638 Q2218.23 164.3 2221.68 164.3 Q2225.08 164.3 2227.07 161.615 Q2229.06 158.93 2229.06 154.3 Q2229.06 150.064 2227.07 147.24 Q2225.24 144.694 2221.68 144.694 M2221.68 141.314 L2235.82 141.314 L2235.82 145.573 L2231.05 145.573 Q2233.58 149.184 2233.58 154.3 Q2233.58 160.666 2230.41 164.277 Q2227.23 167.911 2221.68 167.911 Q2216.1 167.911 2212.95 164.277 Q2209.78 160.666 2209.78 154.3 Q2209.78 147.888 2212.95 144.3 Q2215.57 141.314 2221.68 141.314 Z\" fill=\"#000000\" fill-rule=\"evenodd\" fill-opacity=\"1\" /></svg>\n"
      ]
     },
     "execution_count": 3,
     "metadata": {},
     "output_type": "execute_result"
    }
   ],
   "source": [
    "plot(σ, -5, 5, label=\"\\\\sigma\", xlabel=\"x\", ylabel=\"\\\\sigma\\\\(x\\\\)\")"
   ]
  },
  {
   "cell_type": "code",
   "execution_count": 4,
   "id": "stainless-engine",
   "metadata": {},
   "outputs": [
    {
     "data": {
      "text/plain": [
       "Dense(2, 1, σ)"
      ]
     },
     "execution_count": 4,
     "metadata": {},
     "output_type": "execute_result"
    }
   ],
   "source": [
    "# 2 input neurons flowing int one output w/ sigoid activation\n",
    "mod = Dense(2, 1, σ) "
   ]
  },
  {
   "cell_type": "code",
   "execution_count": 5,
   "id": "seeing-favorite",
   "metadata": {},
   "outputs": [
    {
     "data": {
      "text/plain": [
       "1×2 Array{Float32,2}:\n",
       " -1.0251  -0.340981"
      ]
     },
     "execution_count": 5,
     "metadata": {},
     "output_type": "execute_result"
    }
   ],
   "source": [
    "mod.W"
   ]
  },
  {
   "cell_type": "code",
   "execution_count": 6,
   "id": "specific-toilet",
   "metadata": {},
   "outputs": [
    {
     "data": {
      "text/plain": [
       "1-element Array{Float32,1}:\n",
       " 0.0"
      ]
     },
     "execution_count": 6,
     "metadata": {},
     "output_type": "execute_result"
    }
   ],
   "source": [
    "mod.b"
   ]
  },
  {
   "cell_type": "code",
   "execution_count": 7,
   "id": "conscious-finish",
   "metadata": {},
   "outputs": [
    {
     "data": {
      "text/plain": [
       "Array{Float32,2}"
      ]
     },
     "execution_count": 7,
     "metadata": {},
     "output_type": "execute_result"
    }
   ],
   "source": [
    "typeof(mod.W)"
   ]
  },
  {
   "cell_type": "code",
   "execution_count": 8,
   "id": "binary-artwork",
   "metadata": {},
   "outputs": [
    {
     "data": {
      "text/plain": [
       "1-element Array{Float64,1}:\n",
       " 0.34525758646367405"
      ]
     },
     "execution_count": 8,
     "metadata": {},
     "output_type": "execute_result"
    }
   ],
   "source": [
    "x = rand(2)\n",
    "mod(x)"
   ]
  },
  {
   "cell_type": "code",
   "execution_count": 9,
   "id": "opposite-summer",
   "metadata": {},
   "outputs": [
    {
     "data": {
      "text/plain": [
       "1-element Array{Float64,1}:\n",
       " 0.34525758646367405"
      ]
     },
     "execution_count": 9,
     "metadata": {},
     "output_type": "execute_result"
    }
   ],
   "source": [
    "σ.(mod.W * x + mod.b)"
   ]
  },
  {
   "cell_type": "code",
   "execution_count": 10,
   "id": "cubic-federation",
   "metadata": {},
   "outputs": [
    {
     "data": {
      "text/html": [
       "# 1 method for generic function <b>mse</b>:<ul><li> mse(ŷ, y; <i>agg</i>) in Flux.Losses at <a href=\"file:///Users/dsatterthwaite/.julia/packages/Flux/qp1gc/src/losses/functions.jl\" target=\"_blank\">/Users/dsatterthwaite/.julia/packages/Flux/qp1gc/src/losses/functions.jl:42</a></li> </ul>"
      ],
      "text/plain": [
       "# 1 method for generic function \"mse\":\n",
       "[1] mse(ŷ, y; agg) in Flux.Losses at /Users/dsatterthwaite/.julia/packages/Flux/qp1gc/src/losses/functions.jl:42"
      ]
     },
     "execution_count": 10,
     "metadata": {},
     "output_type": "execute_result"
    }
   ],
   "source": [
    "methods(Flux.mse)"
   ]
  },
  {
   "cell_type": "code",
   "execution_count": 12,
   "id": "established-footwear",
   "metadata": {},
   "outputs": [
    {
     "data": {
      "text/plain": [
       "\"../../data\""
      ]
     },
     "execution_count": 12,
     "metadata": {},
     "output_type": "execute_result"
    }
   ],
   "source": [
    "DATA = \"../../data\""
   ]
  },
  {
   "cell_type": "code",
   "execution_count": 17,
   "id": "political-wrestling",
   "metadata": {},
   "outputs": [
    {
     "data": {
      "text/html": [
       "<table class=\"data-frame\"><thead><tr><th></th><th>height</th><th>width</th><th>red</th><th>green</th><th>blue</th></tr><tr><th></th><th>Int64</th><th>Int64</th><th>Float64</th><th>Float64</th><th>Float64</th></tr></thead><tbody><p>5 rows × 5 columns</p><tr><th>1</th><td>98</td><td>99</td><td>0.583507</td><td>0.500662</td><td>0.207504</td></tr><tr><th>2</th><td>50</td><td>99</td><td>0.609666</td><td>0.514869</td><td>0.186871</td></tr><tr><th>3</th><td>52</td><td>99</td><td>0.610012</td><td>0.515759</td><td>0.187504</td></tr><tr><th>4</th><td>99</td><td>69</td><td>0.568033</td><td>0.492939</td><td>0.239316</td></tr><tr><th>5</th><td>51</td><td>99</td><td>0.609766</td><td>0.51485</td><td>0.183329</td></tr></tbody></table>"
      ],
      "text/latex": [
       "\\begin{tabular}{r|ccccc}\n",
       "\t& height & width & red & green & blue\\\\\n",
       "\t\\hline\n",
       "\t& Int64 & Int64 & Float64 & Float64 & Float64\\\\\n",
       "\t\\hline\n",
       "\t1 & 98 & 99 & 0.583507 & 0.500662 & 0.207504 \\\\\n",
       "\t2 & 50 & 99 & 0.609666 & 0.514869 & 0.186871 \\\\\n",
       "\t3 & 52 & 99 & 0.610012 & 0.515759 & 0.187504 \\\\\n",
       "\t4 & 99 & 69 & 0.568033 & 0.492939 & 0.239316 \\\\\n",
       "\t5 & 51 & 99 & 0.609766 & 0.51485 & 0.183329 \\\\\n",
       "\\end{tabular}\n"
      ],
      "text/plain": [
       "\u001b[1m5×5 DataFrame\u001b[0m\n",
       "\u001b[1m Row \u001b[0m│\u001b[1m height \u001b[0m\u001b[1m width \u001b[0m\u001b[1m red      \u001b[0m\u001b[1m green    \u001b[0m\u001b[1m blue     \u001b[0m\n",
       "\u001b[1m     \u001b[0m│\u001b[90m Int64  \u001b[0m\u001b[90m Int64 \u001b[0m\u001b[90m Float64  \u001b[0m\u001b[90m Float64  \u001b[0m\u001b[90m Float64  \u001b[0m\n",
       "─────┼─────────────────────────────────────────────\n",
       "   1 │     98     99  0.583507  0.500662  0.207504\n",
       "   2 │     50     99  0.609666  0.514869  0.186871\n",
       "   3 │     52     99  0.610012  0.515759  0.187504\n",
       "   4 │     99     69  0.568033  0.492939  0.239316\n",
       "   5 │     51     99  0.609766  0.51485   0.183329"
      ]
     },
     "execution_count": 17,
     "metadata": {},
     "output_type": "execute_result"
    }
   ],
   "source": [
    "apples = DataFrame(\n",
    "    CSV.File(\"$DATA/apples.dat\", \n",
    "             delim='\\t', \n",
    "             #allowmissing=:none, \n",
    "             normalizenames=true))\n",
    "bananas = DataFrame(\n",
    "    CSV.File(\"$DATA/bananas.dat\", \n",
    "             delim='\\t', \n",
    "             #allowmissing=:none, \n",
    "             normalizenames=true))\n",
    "first(bananas, 5)"
   ]
  },
  {
   "cell_type": "code",
   "execution_count": 18,
   "id": "dying-selection",
   "metadata": {},
   "outputs": [],
   "source": [
    "x_apples = [[row.red, row.green] for row in eachrow(apples)]\n",
    "x_bananas = [[row.red, row.green] for row in eachrow(bananas)];"
   ]
  },
  {
   "cell_type": "code",
   "execution_count": 20,
   "id": "extensive-alberta",
   "metadata": {},
   "outputs": [],
   "source": [
    "xs = [x_apples; x_bananas]\n",
    "ys = [fill(0, size(x_apples)); fill(1, size(x_bananas))];"
   ]
  },
  {
   "cell_type": "code",
   "execution_count": 21,
   "id": "consolidated-forty",
   "metadata": {},
   "outputs": [
    {
     "data": {
      "text/plain": [
       "Dense(2, 1, σ)"
      ]
     },
     "execution_count": 21,
     "metadata": {},
     "output_type": "execute_result"
    }
   ],
   "source": [
    "mod = Dense(2, 1, σ)"
   ]
  },
  {
   "cell_type": "code",
   "execution_count": 23,
   "id": "soviet-familiar",
   "metadata": {},
   "outputs": [
    {
     "data": {
      "text/plain": [
       "1-element Array{Float64,1}:\n",
       " 0.6238463422491842"
      ]
     },
     "execution_count": 23,
     "metadata": {},
     "output_type": "execute_result"
    }
   ],
   "source": [
    "mod(xs[1]) # not trained"
   ]
  },
  {
   "cell_type": "code",
   "execution_count": null,
   "id": "reduced-segment",
   "metadata": {},
   "outputs": [],
   "source": []
  }
 ],
 "metadata": {
  "kernelspec": {
   "display_name": "Julia 1.5.3",
   "language": "julia",
   "name": "julia-1.5"
  },
  "language_info": {
   "file_extension": ".jl",
   "mimetype": "application/julia",
   "name": "julia",
   "version": "1.5.3"
  }
 },
 "nbformat": 4,
 "nbformat_minor": 5
}
