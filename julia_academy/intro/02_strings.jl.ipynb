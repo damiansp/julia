{
 "cells": [
  {
   "cell_type": "code",
   "execution_count": 6,
   "id": "handmade-olive",
   "metadata": {},
   "outputs": [
    {
     "data": {
      "text/plain": [
       "\"another string. \""
      ]
     },
     "execution_count": 6,
     "metadata": {},
     "output_type": "execute_result"
    }
   ],
   "source": [
    "s1 = \"a string. \"\n",
    "s2 = \"\"\"another string. \"\"\""
   ]
  },
  {
   "cell_type": "code",
   "execution_count": 4,
   "id": "meaning-jurisdiction",
   "metadata": {},
   "outputs": [
    {
     "name": "stdout",
     "output_type": "stream",
     "text": [
      "My name is Damian, and I'm 44 years old, halfway to 88\n"
     ]
    }
   ],
   "source": [
    "name = \"Damian\"\n",
    "age = 44\n",
    "println(\"My name is $name, and I'm $age years old, halfway to $(2 * age)\")"
   ]
  },
  {
   "cell_type": "code",
   "execution_count": 7,
   "id": "conscious-eclipse",
   "metadata": {},
   "outputs": [
    {
     "data": {
      "text/plain": [
       "\"a string. another string. \""
      ]
     },
     "execution_count": 7,
     "metadata": {},
     "output_type": "execute_result"
    }
   ],
   "source": [
    "string(s1, s2)"
   ]
  },
  {
   "cell_type": "code",
   "execution_count": 8,
   "id": "classical-clone",
   "metadata": {},
   "outputs": [
    {
     "data": {
      "text/plain": [
       "\"a string. 234another string. \""
      ]
     },
     "execution_count": 8,
     "metadata": {},
     "output_type": "execute_result"
    }
   ],
   "source": [
    "string(s1, 2, 3, 4, s2)"
   ]
  },
  {
   "cell_type": "code",
   "execution_count": 9,
   "id": "supposed-trinidad",
   "metadata": {},
   "outputs": [
    {
     "data": {
      "text/plain": [
       "\"a string. another string. \""
      ]
     },
     "execution_count": 9,
     "metadata": {},
     "output_type": "execute_result"
    }
   ],
   "source": [
    "s1 * s2"
   ]
  },
  {
   "cell_type": "code",
   "execution_count": 12,
   "id": "fitted-flood",
   "metadata": {},
   "outputs": [
    {
     "data": {
      "text/plain": [
       "\"a string. and yet another string. \""
      ]
     },
     "execution_count": 12,
     "metadata": {},
     "output_type": "execute_result"
    }
   ],
   "source": [
    "\"$(s1)and yet $s2\""
   ]
  },
  {
   "cell_type": "code",
   "execution_count": null,
   "id": "satisfactory-partner",
   "metadata": {},
   "outputs": [],
   "source": []
  }
 ],
 "metadata": {
  "kernelspec": {
   "display_name": "Julia 1.5.1",
   "language": "julia",
   "name": "julia-1.5"
  },
  "language_info": {
   "file_extension": ".jl",
   "mimetype": "application/julia",
   "name": "julia",
   "version": "1.5.1"
  }
 },
 "nbformat": 4,
 "nbformat_minor": 5
}
