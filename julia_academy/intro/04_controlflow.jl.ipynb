{
 "cells": [
  {
   "cell_type": "code",
   "execution_count": 1,
   "id": "talented-rebecca",
   "metadata": {},
   "outputs": [
    {
     "name": "stdout",
     "output_type": "stream",
     "text": [
      "1 2 3 4 5 6 7 8 9 10 "
     ]
    }
   ],
   "source": [
    "n = 0\n",
    "while n < 10\n",
    "    n += 1\n",
    "    print(\"$n \")\n",
    "end"
   ]
  },
  {
   "cell_type": "code",
   "execution_count": 5,
   "id": "diverse-litigation",
   "metadata": {},
   "outputs": [
    {
     "name": "stdout",
     "output_type": "stream",
     "text": [
      "Aleasdair, meet Brianna\n",
      "Brianna, meet Chatriona\n",
      "Chatriona, meet Domhnail\n"
     ]
    }
   ],
   "source": [
    "peeps = [\"Aleasdair\", \"Brianna\", \"Chatriona\", \"Domhnail\", \"Eilidh\"]\n",
    "i = 1\n",
    "while i < length(peeps) - 1\n",
    "    println(\"$(peeps[i]), meet $(peeps[i + 1])\")\n",
    "    i += 1\n",
    "end"
   ]
  },
  {
   "cell_type": "code",
   "execution_count": 6,
   "id": "ancient-beatles",
   "metadata": {},
   "outputs": [
    {
     "name": "stdout",
     "output_type": "stream",
     "text": [
      "1 2 3 4 5 6 7 8 9 10 "
     ]
    }
   ],
   "source": [
    "for n in 1:10\n",
    "    print(\"$n \")\n",
    "end"
   ]
  },
  {
   "cell_type": "code",
   "execution_count": 9,
   "id": "wanted-nation",
   "metadata": {},
   "outputs": [
    {
     "name": "stdout",
     "output_type": "stream",
     "text": [
      "1 2 3 4 5 6 7 8 9 10 "
     ]
    }
   ],
   "source": [
    "for n = 1:10\n",
    "    print(\"$n \")\n",
    "end"
   ]
  },
  {
   "cell_type": "code",
   "execution_count": 8,
   "id": "knowing-works",
   "metadata": {},
   "outputs": [
    {
     "name": "stdout",
     "output_type": "stream",
     "text": [
      "Aleasdair is ainm dom\n",
      "Brianna is ainm dom\n",
      "Chatriona is ainm dom\n",
      "Domhnail is ainm dom\n",
      "Eilidh is ainm dom\n"
     ]
    }
   ],
   "source": [
    "for name in peeps\n",
    "    println(\"$name is ainm dom\")\n",
    "end"
   ]
  },
  {
   "cell_type": "code",
   "execution_count": 12,
   "id": "constant-scope",
   "metadata": {},
   "outputs": [
    {
     "data": {
      "text/plain": [
       "9×9 Array{Float64,2}:\n",
       " 1.0   2.0   3.0   4.0   5.0   6.0   7.0   8.0   9.0\n",
       " 2.0   4.0   6.0   8.0  10.0  12.0  14.0  16.0  18.0\n",
       " 3.0   6.0   9.0  12.0  15.0  18.0  21.0  24.0  27.0\n",
       " 4.0   8.0  12.0  16.0  20.0  24.0  28.0  32.0  36.0\n",
       " 5.0  10.0  15.0  20.0  25.0  30.0  35.0  40.0  45.0\n",
       " 6.0  12.0  18.0  24.0  30.0  36.0  42.0  48.0  54.0\n",
       " 7.0  14.0  21.0  28.0  35.0  42.0  49.0  56.0  63.0\n",
       " 8.0  16.0  24.0  32.0  40.0  48.0  56.0  64.0  72.0\n",
       " 9.0  18.0  27.0  36.0  45.0  54.0  63.0  72.0  81.0"
      ]
     },
     "execution_count": 12,
     "metadata": {},
     "output_type": "execute_result"
    }
   ],
   "source": [
    "m, n = 9, 9\n",
    "kuku = zeros(m, n)\n",
    "\n",
    "for i in 1:m\n",
    "    for j in 1:n\n",
    "        kuku[i, j] = i * j\n",
    "    end\n",
    "end\n",
    "kuku"
   ]
  },
  {
   "cell_type": "code",
   "execution_count": 13,
   "id": "modern-tunisia",
   "metadata": {},
   "outputs": [
    {
     "data": {
      "text/plain": [
       "9×9 Array{Float64,2}:\n",
       " 1.0   2.0   3.0   4.0   5.0   6.0   7.0   8.0   9.0\n",
       " 2.0   4.0   6.0   8.0  10.0  12.0  14.0  16.0  18.0\n",
       " 3.0   6.0   9.0  12.0  15.0  18.0  21.0  24.0  27.0\n",
       " 4.0   8.0  12.0  16.0  20.0  24.0  28.0  32.0  36.0\n",
       " 5.0  10.0  15.0  20.0  25.0  30.0  35.0  40.0  45.0\n",
       " 6.0  12.0  18.0  24.0  30.0  36.0  42.0  48.0  54.0\n",
       " 7.0  14.0  21.0  28.0  35.0  42.0  49.0  56.0  63.0\n",
       " 8.0  16.0  24.0  32.0  40.0  48.0  56.0  64.0  72.0\n",
       " 9.0  18.0  27.0  36.0  45.0  54.0  63.0  72.0  81.0"
      ]
     },
     "execution_count": 13,
     "metadata": {},
     "output_type": "execute_result"
    }
   ],
   "source": [
    "kuku = zeros(m, n)\n",
    "for i in 1:m, j in 1:n\n",
    "    kuku[i, j] = i * j\n",
    "end\n",
    "kuku"
   ]
  },
  {
   "cell_type": "code",
   "execution_count": 14,
   "id": "placed-paper",
   "metadata": {},
   "outputs": [
    {
     "data": {
      "text/plain": [
       "9×9 Array{Int64,2}:\n",
       " 1   2   3   4   5   6   7   8   9\n",
       " 2   4   6   8  10  12  14  16  18\n",
       " 3   6   9  12  15  18  21  24  27\n",
       " 4   8  12  16  20  24  28  32  36\n",
       " 5  10  15  20  25  30  35  40  45\n",
       " 6  12  18  24  30  36  42  48  54\n",
       " 7  14  21  28  35  42  49  56  63\n",
       " 8  16  24  32  40  48  56  64  72\n",
       " 9  18  27  36  45  54  63  72  81"
      ]
     },
     "execution_count": 14,
     "metadata": {},
     "output_type": "execute_result"
    }
   ],
   "source": [
    "kuku = [i * j for i in 1:m, j in 1:n]\n",
    "kuku"
   ]
  },
  {
   "cell_type": "code",
   "execution_count": 15,
   "id": "operational-representation",
   "metadata": {},
   "outputs": [
    {
     "data": {
      "text/plain": [
       "1×1 Array{Int64,2}:\n",
       " 1"
      ]
     },
     "metadata": {},
     "output_type": "display_data"
    },
    {
     "data": {
      "text/plain": [
       "2×2 Array{Int64,2}:\n",
       " 1  2\n",
       " 2  4"
      ]
     },
     "metadata": {},
     "output_type": "display_data"
    },
    {
     "data": {
      "text/plain": [
       "3×3 Array{Int64,2}:\n",
       " 1  2  3\n",
       " 2  4  6\n",
       " 3  6  9"
      ]
     },
     "metadata": {},
     "output_type": "display_data"
    },
    {
     "data": {
      "text/plain": [
       "4×4 Array{Int64,2}:\n",
       " 1  2   3   4\n",
       " 2  4   6   8\n",
       " 3  6   9  12\n",
       " 4  8  12  16"
      ]
     },
     "metadata": {},
     "output_type": "display_data"
    },
    {
     "data": {
      "text/plain": [
       "5×5 Array{Int64,2}:\n",
       " 1   2   3   4   5\n",
       " 2   4   6   8  10\n",
       " 3   6   9  12  15\n",
       " 4   8  12  16  20\n",
       " 5  10  15  20  25"
      ]
     },
     "metadata": {},
     "output_type": "display_data"
    }
   ],
   "source": [
    "for n in 1:5\n",
    "    A = [i * j for i in 1:n, j in 1:n]\n",
    "    display(A)\n",
    "end"
   ]
  },
  {
   "cell_type": "code",
   "execution_count": 18,
   "id": "individual-sudan",
   "metadata": {},
   "outputs": [
    {
     "name": "stdout",
     "output_type": "stream",
     "text": [
      "0.6407577985872295 < 0.8406128551720538\n"
     ]
    }
   ],
   "source": [
    "x = rand()\n",
    "y = rand()\n",
    "\n",
    "if x > y\n",
    "    println(\"$x > $y\")\n",
    "elseif x < y\n",
    "    println(\"$x < $y\")\n",
    "else\n",
    "    println(\"$x = $y\")\n",
    "end"
   ]
  },
  {
   "cell_type": "code",
   "execution_count": 19,
   "id": "accompanied-vulnerability",
   "metadata": {},
   "outputs": [
    {
     "data": {
      "text/plain": [
       "0.7555197057700738"
      ]
     },
     "execution_count": 19,
     "metadata": {},
     "output_type": "execute_result"
    }
   ],
   "source": [
    "x = rand()\n",
    "y = rand()\n",
    "\n",
    "if x > y \n",
    "    x\n",
    "else\n",
    "    y\n",
    "end"
   ]
  },
  {
   "cell_type": "code",
   "execution_count": 20,
   "id": "greatest-business",
   "metadata": {},
   "outputs": [
    {
     "data": {
      "text/plain": [
       "0.7555197057700738"
      ]
     },
     "execution_count": 20,
     "metadata": {},
     "output_type": "execute_result"
    }
   ],
   "source": [
    "x > y ? x : y"
   ]
  },
  {
   "cell_type": "code",
   "execution_count": 21,
   "id": "christian-willow",
   "metadata": {},
   "outputs": [
    {
     "name": "stdout",
     "output_type": "stream",
     "text": [
      "0.7555197057700738 > 0.22458573365537782\n"
     ]
    }
   ],
   "source": [
    "(x > y) && println(\"$x > $y\")"
   ]
  },
  {
   "cell_type": "code",
   "execution_count": 22,
   "id": "delayed-assets",
   "metadata": {},
   "outputs": [
    {
     "data": {
      "text/plain": [
       "true"
      ]
     },
     "execution_count": 22,
     "metadata": {},
     "output_type": "execute_result"
    }
   ],
   "source": [
    "(x > y) || println(\"$x < $y\")"
   ]
  },
  {
   "cell_type": "code",
   "execution_count": 23,
   "id": "designed-optimization",
   "metadata": {},
   "outputs": [
    {
     "data": {
      "text/plain": [
       "greet (generic function with 2 methods)"
      ]
     },
     "execution_count": 23,
     "metadata": {},
     "output_type": "execute_result"
    }
   ],
   "source": [
    "function greet(person=\"Stranger\")\n",
    "    println(\"Howdy, $person\")\n",
    "end"
   ]
  },
  {
   "cell_type": "code",
   "execution_count": 24,
   "id": "artificial-dominican",
   "metadata": {},
   "outputs": [
    {
     "name": "stdout",
     "output_type": "stream",
     "text": [
      "Howdy, Stranger\n"
     ]
    }
   ],
   "source": [
    "greet()"
   ]
  },
  {
   "cell_type": "code",
   "execution_count": 25,
   "id": "valid-quantum",
   "metadata": {},
   "outputs": [
    {
     "name": "stdout",
     "output_type": "stream",
     "text": [
      "Howdy, Roy\n"
     ]
    }
   ],
   "source": [
    "greet(\"Roy\")"
   ]
  },
  {
   "cell_type": "code",
   "execution_count": 26,
   "id": "applied-vampire",
   "metadata": {},
   "outputs": [
    {
     "data": {
      "text/plain": [
       "sq (generic function with 1 method)"
      ]
     },
     "execution_count": 26,
     "metadata": {},
     "output_type": "execute_result"
    }
   ],
   "source": [
    "function sq(x)\n",
    "    x^2\n",
    "end"
   ]
  },
  {
   "cell_type": "code",
   "execution_count": 27,
   "id": "transsexual-sleeping",
   "metadata": {},
   "outputs": [
    {
     "data": {
      "text/plain": [
       "81"
      ]
     },
     "execution_count": 27,
     "metadata": {},
     "output_type": "execute_result"
    }
   ],
   "source": [
    "sq(9)"
   ]
  },
  {
   "cell_type": "code",
   "execution_count": 30,
   "id": "subtle-static",
   "metadata": {},
   "outputs": [
    {
     "data": {
      "text/plain": [
       "sq (generic function with 1 method)"
      ]
     },
     "execution_count": 30,
     "metadata": {},
     "output_type": "execute_result"
    }
   ],
   "source": [
    "greet(name=\"Stranger\") = println(\"Howdy, $(name)!\")\n",
    "sq(x) = x^2"
   ]
  },
  {
   "cell_type": "code",
   "execution_count": 31,
   "id": "another-enforcement",
   "metadata": {},
   "outputs": [
    {
     "name": "stdout",
     "output_type": "stream",
     "text": [
      "Howdy, Doc!\n"
     ]
    }
   ],
   "source": [
    "greet(\"Doc\")"
   ]
  },
  {
   "cell_type": "code",
   "execution_count": 32,
   "id": "bearing-pottery",
   "metadata": {},
   "outputs": [
    {
     "data": {
      "text/plain": [
       "49"
      ]
     },
     "execution_count": 32,
     "metadata": {},
     "output_type": "execute_result"
    }
   ],
   "source": [
    "sq(7)"
   ]
  },
  {
   "cell_type": "code",
   "execution_count": 34,
   "id": "tough-impact",
   "metadata": {},
   "outputs": [
    {
     "data": {
      "text/plain": [
       "#9 (generic function with 1 method)"
      ]
     },
     "execution_count": 34,
     "metadata": {},
     "output_type": "execute_result"
    }
   ],
   "source": [
    "salute = name -> println(\"Hey there, $(name)!\")\n",
    "sqr = x -> x^2"
   ]
  },
  {
   "cell_type": "code",
   "execution_count": 35,
   "id": "adverse-affair",
   "metadata": {},
   "outputs": [
    {
     "name": "stdout",
     "output_type": "stream",
     "text": [
      "Hey there, Calamity Jane!\n"
     ]
    }
   ],
   "source": [
    "salute(\"Calamity Jane\")"
   ]
  },
  {
   "cell_type": "code",
   "execution_count": 36,
   "id": "academic-injection",
   "metadata": {},
   "outputs": [
    {
     "data": {
      "text/plain": [
       "25"
      ]
     },
     "execution_count": 36,
     "metadata": {},
     "output_type": "execute_result"
    }
   ],
   "source": [
    "sqr(5)"
   ]
  },
  {
   "cell_type": "code",
   "execution_count": 37,
   "id": "geological-recognition",
   "metadata": {},
   "outputs": [
    {
     "name": "stdout",
     "output_type": "stream",
     "text": [
      "Hey there, 7!\n"
     ]
    }
   ],
   "source": [
    "salute(7)"
   ]
  },
  {
   "cell_type": "code",
   "execution_count": 42,
   "id": "black-surfing",
   "metadata": {},
   "outputs": [
    {
     "data": {
      "text/plain": [
       "3×3 Array{Float64,2}:\n",
       " 0.991685  0.925658  0.509857\n",
       " 0.935127  0.487462  0.599217\n",
       " 0.171761  0.204523  0.274385"
      ]
     },
     "execution_count": 42,
     "metadata": {},
     "output_type": "execute_result"
    }
   ],
   "source": [
    "A = rand(3, 3)"
   ]
  },
  {
   "cell_type": "code",
   "execution_count": 43,
   "id": "electric-hunger",
   "metadata": {},
   "outputs": [
    {
     "data": {
      "text/plain": [
       "3×3 Array{Float64,2}:\n",
       " 1.93662   1.47346   1.20018\n",
       " 1.48611   1.22578   0.933293\n",
       " 0.408716  0.314807  0.285414"
      ]
     },
     "execution_count": 43,
     "metadata": {},
     "output_type": "execute_result"
    }
   ],
   "source": [
    "sqr(A) # AA (mat mult)"
   ]
  },
  {
   "cell_type": "code",
   "execution_count": 46,
   "id": "pacific-admission",
   "metadata": {},
   "outputs": [
    {
     "data": {
      "text/plain": [
       "3×3 Array{Float64,2}:\n",
       " 0.983438   0.856842   0.259954\n",
       " 0.874462   0.237619   0.359062\n",
       " 0.0295018  0.0418295  0.075287"
      ]
     },
     "execution_count": 46,
     "metadata": {},
     "output_type": "execute_result"
    }
   ],
   "source": [
    "sqr.(A)"
   ]
  },
  {
   "cell_type": "code",
   "execution_count": 44,
   "id": "unique-filling",
   "metadata": {},
   "outputs": [
    {
     "data": {
      "text/plain": [
       "3-element Array{Float64,1}:\n",
       " 0.6629233232702638\n",
       " 0.4064902769600587\n",
       " 0.6659351401621729"
      ]
     },
     "execution_count": 44,
     "metadata": {},
     "output_type": "execute_result"
    }
   ],
   "source": [
    "v = rand(3)"
   ]
  },
  {
   "cell_type": "code",
   "execution_count": 47,
   "id": "digital-pleasure",
   "metadata": {},
   "outputs": [
    {
     "data": {
      "text/plain": [
       "3-element Array{Float64,1}:\n",
       " 0.4394673325356907\n",
       " 0.1652343452630652\n",
       " 0.4434696109028129"
      ]
     },
     "execution_count": 47,
     "metadata": {},
     "output_type": "execute_result"
    }
   ],
   "source": [
    "#sqr(v) # undef\n",
    "sqr.(v)"
   ]
  },
  {
   "cell_type": "code",
   "execution_count": 48,
   "id": "central-nudist",
   "metadata": {},
   "outputs": [
    {
     "data": {
      "text/plain": [
       "3-element Array{Float64,1}:\n",
       " 0.4064902769600587\n",
       " 0.6629233232702638\n",
       " 0.6659351401621729"
      ]
     },
     "execution_count": 48,
     "metadata": {},
     "output_type": "execute_result"
    }
   ],
   "source": [
    "sort(v)"
   ]
  },
  {
   "cell_type": "code",
   "execution_count": 49,
   "id": "toxic-release",
   "metadata": {},
   "outputs": [
    {
     "data": {
      "text/plain": [
       "3-element Array{Float64,1}:\n",
       " 0.6629233232702638\n",
       " 0.4064902769600587\n",
       " 0.6659351401621729"
      ]
     },
     "execution_count": 49,
     "metadata": {},
     "output_type": "execute_result"
    }
   ],
   "source": [
    "v"
   ]
  },
  {
   "cell_type": "code",
   "execution_count": 50,
   "id": "registered-emperor",
   "metadata": {},
   "outputs": [
    {
     "data": {
      "text/plain": [
       "3-element Array{Float64,1}:\n",
       " 0.4064902769600587\n",
       " 0.6629233232702638\n",
       " 0.6659351401621729"
      ]
     },
     "execution_count": 50,
     "metadata": {},
     "output_type": "execute_result"
    }
   ],
   "source": [
    "sort!(v)"
   ]
  },
  {
   "cell_type": "code",
   "execution_count": 51,
   "id": "beautiful-residence",
   "metadata": {},
   "outputs": [
    {
     "data": {
      "text/plain": [
       "3-element Array{Float64,1}:\n",
       " 0.4064902769600587\n",
       " 0.6629233232702638\n",
       " 0.6659351401621729"
      ]
     },
     "execution_count": 51,
     "metadata": {},
     "output_type": "execute_result"
    }
   ],
   "source": [
    "v"
   ]
  },
  {
   "cell_type": "code",
   "execution_count": null,
   "id": "mineral-failing",
   "metadata": {},
   "outputs": [],
   "source": []
  }
 ],
 "metadata": {
  "kernelspec": {
   "display_name": "Julia 1.5.1",
   "language": "julia",
   "name": "julia-1.5"
  },
  "language_info": {
   "file_extension": ".jl",
   "mimetype": "application/julia",
   "name": "julia",
   "version": "1.5.1"
  }
 },
 "nbformat": 4,
 "nbformat_minor": 5
}
