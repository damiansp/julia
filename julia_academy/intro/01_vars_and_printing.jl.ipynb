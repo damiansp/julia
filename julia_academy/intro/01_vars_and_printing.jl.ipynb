{
 "cells": [
  {
   "cell_type": "code",
   "execution_count": 1,
   "id": "official-method",
   "metadata": {},
   "outputs": [
    {
     "name": "stdout",
     "output_type": "stream",
     "text": [
      "Hello, World!\n"
     ]
    }
   ],
   "source": [
    "println(\"Hello, World!\")"
   ]
  },
  {
   "cell_type": "code",
   "execution_count": 2,
   "id": "southern-input",
   "metadata": {},
   "outputs": [
    {
     "data": {
      "text/plain": [
       "Int64"
      ]
     },
     "execution_count": 2,
     "metadata": {},
     "output_type": "execute_result"
    }
   ],
   "source": [
    "meaning = 42\n",
    "typeof(meaning)"
   ]
  },
  {
   "cell_type": "code",
   "execution_count": 3,
   "id": "behavioral-universal",
   "metadata": {},
   "outputs": [
    {
     "data": {
      "text/plain": [
       "Float64"
      ]
     },
     "execution_count": 3,
     "metadata": {},
     "output_type": "execute_result"
    }
   ],
   "source": [
    "mypi = 3.14159\n",
    "typeof(mypi)"
   ]
  },
  {
   "cell_type": "code",
   "execution_count": 4,
   "id": "recent-nursery",
   "metadata": {},
   "outputs": [
    {
     "data": {
      "text/plain": [
       "String"
      ]
     },
     "execution_count": 4,
     "metadata": {},
     "output_type": "execute_result"
    }
   ],
   "source": [
    "name = \"Damian\"\n",
    "typeof(name)"
   ]
  },
  {
   "cell_type": "code",
   "execution_count": 5,
   "id": "ignored-offset",
   "metadata": {},
   "outputs": [],
   "source": [
    "# A comment"
   ]
  },
  {
   "cell_type": "code",
   "execution_count": 6,
   "id": "careful-avatar",
   "metadata": {},
   "outputs": [],
   "source": [
    "#=\n",
    "A multi-line comment\n",
    "Oh so handy\n",
    "=#"
   ]
  },
  {
   "cell_type": "code",
   "execution_count": null,
   "id": "white-ready",
   "metadata": {},
   "outputs": [],
   "source": []
  }
 ],
 "metadata": {
  "kernelspec": {
   "display_name": "Julia 1.5.1",
   "language": "julia",
   "name": "julia-1.5"
  },
  "language_info": {
   "file_extension": ".jl",
   "mimetype": "application/julia",
   "name": "julia",
   "version": "1.5.1"
  }
 },
 "nbformat": 4,
 "nbformat_minor": 5
}
