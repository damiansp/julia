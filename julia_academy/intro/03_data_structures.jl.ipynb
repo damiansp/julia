{
 "cells": [
  {
   "cell_type": "code",
   "execution_count": 1,
   "id": "adaptive-relative",
   "metadata": {},
   "outputs": [
    {
     "data": {
      "text/plain": [
       "Dict{String,String} with 6 entries:\n",
       "  \"MI\" => \"Michigan\"\n",
       "  \"WI\" => \"Wisconsin\"\n",
       "  \"CA\" => \"California\"\n",
       "  \"VA\" => \"Virginia\"\n",
       "  \"OR\" => \"Oregon\"\n",
       "  \"IL\" => \"Illinois\""
      ]
     },
     "execution_count": 1,
     "metadata": {},
     "output_type": "execute_result"
    }
   ],
   "source": [
    "states = Dict(\"IL\" => \"Illinois\", \n",
    "              \"MI\" => \"Michigan\", \n",
    "              \"VA\" => \"Virginia\", \n",
    "              \"WI\" => \"Wisconsin\",\n",
    "              \"CA\" => \"California\",\n",
    "              \"OR\" => \"Oregon\")"
   ]
  },
  {
   "cell_type": "code",
   "execution_count": 3,
   "id": "wound-country",
   "metadata": {},
   "outputs": [
    {
     "data": {
      "text/plain": [
       "\"Oregon\""
      ]
     },
     "execution_count": 3,
     "metadata": {},
     "output_type": "execute_result"
    }
   ],
   "source": [
    "states[\"OR\"]"
   ]
  },
  {
   "cell_type": "code",
   "execution_count": 4,
   "id": "powered-checkout",
   "metadata": {},
   "outputs": [
    {
     "data": {
      "text/plain": [
       "\"Washington\""
      ]
     },
     "execution_count": 4,
     "metadata": {},
     "output_type": "execute_result"
    }
   ],
   "source": [
    "states[\"WA\"] = \"Washington\""
   ]
  },
  {
   "cell_type": "code",
   "execution_count": 5,
   "id": "experienced-literature",
   "metadata": {},
   "outputs": [
    {
     "data": {
      "text/plain": [
       "\"Washington\""
      ]
     },
     "execution_count": 5,
     "metadata": {},
     "output_type": "execute_result"
    }
   ],
   "source": [
    "pop!(states, \"WA\")"
   ]
  },
  {
   "cell_type": "code",
   "execution_count": 6,
   "id": "japanese-tuesday",
   "metadata": {},
   "outputs": [
    {
     "data": {
      "text/plain": [
       "Dict{String,String} with 6 entries:\n",
       "  \"MI\" => \"Michigan\"\n",
       "  \"WI\" => \"Wisconsin\"\n",
       "  \"CA\" => \"California\"\n",
       "  \"VA\" => \"Virginia\"\n",
       "  \"OR\" => \"Oregon\"\n",
       "  \"IL\" => \"Illinois\""
      ]
     },
     "execution_count": 6,
     "metadata": {},
     "output_type": "execute_result"
    }
   ],
   "source": [
    "states"
   ]
  },
  {
   "cell_type": "code",
   "execution_count": 7,
   "id": "pharmaceutical-bandwidth",
   "metadata": {},
   "outputs": [
    {
     "data": {
      "text/plain": [
       "(\"alligators\", \"bats\", \"capybaras\")"
      ]
     },
     "execution_count": 7,
     "metadata": {},
     "output_type": "execute_result"
    }
   ],
   "source": [
    "animals = (\"alligators\", \"bats\", \"capybaras\")"
   ]
  },
  {
   "cell_type": "code",
   "execution_count": 8,
   "id": "aquatic-stress",
   "metadata": {},
   "outputs": [
    {
     "data": {
      "text/plain": [
       "\"alligators\""
      ]
     },
     "execution_count": 8,
     "metadata": {},
     "output_type": "execute_result"
    }
   ],
   "source": [
    "animals[1]"
   ]
  },
  {
   "cell_type": "code",
   "execution_count": 9,
   "id": "prospective-bahamas",
   "metadata": {},
   "outputs": [
    {
     "data": {
      "text/plain": [
       "3-element Array{String,1}:\n",
       " \"Albert\"\n",
       " \"Beatrice\"\n",
       " \"Charlemagne\""
      ]
     },
     "execution_count": 9,
     "metadata": {},
     "output_type": "execute_result"
    }
   ],
   "source": [
    "peeps = [\"Albert\", \"Beatrice\", \"Charlemagne\"]"
   ]
  },
  {
   "cell_type": "code",
   "execution_count": 10,
   "id": "forbidden-gazette",
   "metadata": {},
   "outputs": [
    {
     "data": {
      "text/plain": [
       "7-element Array{Int64,1}:\n",
       "  1\n",
       "  1\n",
       "  2\n",
       "  3\n",
       "  5\n",
       "  8\n",
       " 13"
      ]
     },
     "execution_count": 10,
     "metadata": {},
     "output_type": "execute_result"
    }
   ],
   "source": [
    "fibs = [1, 1, 2, 3, 5, 8, 13]"
   ]
  },
  {
   "cell_type": "code",
   "execution_count": 12,
   "id": "sized-coaching",
   "metadata": {},
   "outputs": [
    {
     "data": {
      "text/plain": [
       "5-element Array{Any,1}:\n",
       "    0\n",
       " true\n",
       "    2.2\n",
       "     \"III\"\n",
       "    4"
      ]
     },
     "execution_count": 12,
     "metadata": {},
     "output_type": "execute_result"
    }
   ],
   "source": [
    "jumble = [0, true, 2.2, \"III\", 4]"
   ]
  },
  {
   "cell_type": "code",
   "execution_count": 14,
   "id": "narrative-underground",
   "metadata": {},
   "outputs": [
    {
     "data": {
      "text/plain": [
       "3-element Array{String,1}:\n",
       " \"Albert\"\n",
       " \"Beatrice\"\n",
       " \"Carlotta\""
      ]
     },
     "execution_count": 14,
     "metadata": {},
     "output_type": "execute_result"
    }
   ],
   "source": [
    "peeps[3] = \"Carlotta\"\n",
    "peeps"
   ]
  },
  {
   "cell_type": "code",
   "execution_count": 15,
   "id": "charged-synthesis",
   "metadata": {},
   "outputs": [
    {
     "data": {
      "text/plain": [
       "8-element Array{Int64,1}:\n",
       "  1\n",
       "  1\n",
       "  2\n",
       "  3\n",
       "  5\n",
       "  8\n",
       " 13\n",
       " 21"
      ]
     },
     "execution_count": 15,
     "metadata": {},
     "output_type": "execute_result"
    }
   ],
   "source": [
    "push!(fibs, 21)\n",
    "fibs"
   ]
  },
  {
   "cell_type": "code",
   "execution_count": 16,
   "id": "burning-pharmacy",
   "metadata": {},
   "outputs": [
    {
     "data": {
      "text/plain": [
       "21"
      ]
     },
     "execution_count": 16,
     "metadata": {},
     "output_type": "execute_result"
    }
   ],
   "source": [
    "pop!(fibs)"
   ]
  },
  {
   "cell_type": "code",
   "execution_count": 17,
   "id": "amended-sympathy",
   "metadata": {},
   "outputs": [
    {
     "data": {
      "text/plain": [
       "7-element Array{Int64,1}:\n",
       "  1\n",
       "  1\n",
       "  2\n",
       "  3\n",
       "  5\n",
       "  8\n",
       " 13"
      ]
     },
     "execution_count": 17,
     "metadata": {},
     "output_type": "execute_result"
    }
   ],
   "source": [
    "fibs"
   ]
  },
  {
   "cell_type": "code",
   "execution_count": 18,
   "id": "anonymous-aircraft",
   "metadata": {},
   "outputs": [
    {
     "data": {
      "text/plain": [
       "3-element Array{Array{Int64,1},1}:\n",
       " [1, 2, 3]\n",
       " [4]\n",
       " [5, 6]"
      ]
     },
     "execution_count": 18,
     "metadata": {},
     "output_type": "execute_result"
    }
   ],
   "source": [
    "ragged = [[1, 2, 3], [4], [5, 6]]"
   ]
  },
  {
   "cell_type": "code",
   "execution_count": 19,
   "id": "close-dollar",
   "metadata": {},
   "outputs": [
    {
     "data": {
      "text/plain": [
       "3×4 Array{Float64,2}:\n",
       " 0.275522  0.607224  0.133111  0.0411871\n",
       " 0.633551  0.842048  0.144959  0.532326\n",
       " 0.348647  0.636707  0.143669  0.729986"
      ]
     },
     "execution_count": 19,
     "metadata": {},
     "output_type": "execute_result"
    }
   ],
   "source": [
    "rand(3, 4)"
   ]
  },
  {
   "cell_type": "code",
   "execution_count": 21,
   "id": "realistic-gateway",
   "metadata": {},
   "outputs": [
    {
     "data": {
      "text/plain": [
       "4×3×2 Array{Float64,3}:\n",
       "[:, :, 1] =\n",
       " 0.26342   0.510647  0.115925\n",
       " 0.29837   0.973396  0.0376437\n",
       " 0.354561  0.750174  0.322898\n",
       " 0.407118  0.654457  0.00492171\n",
       "\n",
       "[:, :, 2] =\n",
       " 0.148233  0.863899   0.0419705\n",
       " 0.96152   0.504046   0.717232\n",
       " 0.445544  0.0445475  0.0556711\n",
       " 0.385197  0.231393   0.330808"
      ]
     },
     "execution_count": 21,
     "metadata": {},
     "output_type": "execute_result"
    }
   ],
   "source": [
    "rand(4, 3, 2)"
   ]
  },
  {
   "cell_type": "code",
   "execution_count": null,
   "id": "pursuant-conviction",
   "metadata": {},
   "outputs": [],
   "source": []
  }
 ],
 "metadata": {
  "kernelspec": {
   "display_name": "Julia 1.5.1",
   "language": "julia",
   "name": "julia-1.5"
  },
  "language_info": {
   "file_extension": ".jl",
   "mimetype": "application/julia",
   "name": "julia",
   "version": "1.5.1"
  }
 },
 "nbformat": 4,
 "nbformat_minor": 5
}
