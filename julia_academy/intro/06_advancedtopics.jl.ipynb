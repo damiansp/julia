{
 "cells": [
  {
   "cell_type": "code",
   "execution_count": 62,
   "id": "black-option",
   "metadata": {},
   "outputs": [],
   "source": [
    "import Base: + # to overload\n",
    "\n",
    "using LinearAlgebra"
   ]
  },
  {
   "cell_type": "code",
   "execution_count": 2,
   "id": "neither-tradition",
   "metadata": {},
   "outputs": [],
   "source": [
    "#methods(+)"
   ]
  },
  {
   "cell_type": "code",
   "execution_count": 3,
   "id": "figured-finger",
   "metadata": {},
   "outputs": [
    {
     "data": {
      "text/html": [
       "+(x::<b>T</b>, y::<b>T</b>)<i> where T<:Union{Int128, Int16, Int32, Int64, Int8, UInt128, UInt16, UInt32, UInt64, UInt8}</i> in Base at <a href=\"https://github.com/JuliaLang/julia/tree/697e782ab86bfcdd7fd15550241fe162c51d9f98/base/int.jl#L86\" target=\"_blank\">int.jl:86</a>"
      ],
      "text/plain": [
       "+(x::T, y::T) where T<:Union{Int128, Int16, Int32, Int64, Int8, UInt128, UInt16, UInt32, UInt64, UInt8} in Base at int.jl:86"
      ]
     },
     "execution_count": 3,
     "metadata": {},
     "output_type": "execute_result"
    }
   ],
   "source": [
    "@which 3 + 3"
   ]
  },
  {
   "cell_type": "code",
   "execution_count": 4,
   "id": "separate-ancient",
   "metadata": {},
   "outputs": [
    {
     "data": {
      "text/html": [
       "+(x::<b>Float64</b>, y::<b>Float64</b>) in Base at <a href=\"https://github.com/JuliaLang/julia/tree/697e782ab86bfcdd7fd15550241fe162c51d9f98/base/float.jl#L401\" target=\"_blank\">float.jl:401</a>"
      ],
      "text/plain": [
       "+(x::Float64, y::Float64) in Base at float.jl:401"
      ]
     },
     "execution_count": 4,
     "metadata": {},
     "output_type": "execute_result"
    }
   ],
   "source": [
    "@which 3. + 3."
   ]
  },
  {
   "cell_type": "code",
   "execution_count": 5,
   "id": "agreed-rebound",
   "metadata": {},
   "outputs": [
    {
     "data": {
      "text/html": [
       "+(x::<b>Number</b>, y::<b>Number</b>) in Base at <a href=\"https://github.com/JuliaLang/julia/tree/697e782ab86bfcdd7fd15550241fe162c51d9f98/base/promotion.jl#L311\" target=\"_blank\">promotion.jl:311</a>"
      ],
      "text/plain": [
       "+(x::Number, y::Number) in Base at promotion.jl:311"
      ]
     },
     "execution_count": 5,
     "metadata": {},
     "output_type": "execute_result"
    }
   ],
   "source": [
    "@which 3 + 3."
   ]
  },
  {
   "cell_type": "code",
   "execution_count": 7,
   "id": "according-landing",
   "metadata": {},
   "outputs": [
    {
     "ename": "LoadError",
     "evalue": "MethodError: no method matching +(::String, ::String)\nClosest candidates are:\n  +(::Any, ::Any, !Matched::Any, !Matched::Any...) at operators.jl:538",
     "output_type": "error",
     "traceback": [
      "MethodError: no method matching +(::String, ::String)\nClosest candidates are:\n  +(::Any, ::Any, !Matched::Any, !Matched::Any...) at operators.jl:538",
      "",
      "Stacktrace:",
      " [1] top-level scope at In[7]:1",
      " [2] include_string(::Function, ::Module, ::String, ::String) at ./loading.jl:1091"
     ]
    }
   ],
   "source": [
    "\"hello, \" + \"World!\""
   ]
  },
  {
   "cell_type": "code",
   "execution_count": 8,
   "id": "suspected-tamil",
   "metadata": {},
   "outputs": [
    {
     "ename": "LoadError",
     "evalue": "no unique matching method found for the specified argument types",
     "output_type": "error",
     "traceback": [
      "no unique matching method found for the specified argument types",
      "",
      "Stacktrace:",
      " [1] error(::String) at ./error.jl:33",
      " [2] which(::Any, ::Any) at ./reflection.jl:1155",
      " [3] top-level scope at In[8]:1",
      " [4] include_string(::Function, ::Module, ::String, ::String) at ./loading.jl:1091"
     ]
    }
   ],
   "source": [
    "@which \"hello, \" + \"World!\""
   ]
  },
  {
   "cell_type": "code",
   "execution_count": 9,
   "id": "alpine-disaster",
   "metadata": {},
   "outputs": [
    {
     "data": {
      "text/plain": [
       "+ (generic function with 185 methods)"
      ]
     },
     "execution_count": 9,
     "metadata": {},
     "output_type": "execute_result"
    }
   ],
   "source": [
    "+(x::String, y::String) = x * y"
   ]
  },
  {
   "cell_type": "code",
   "execution_count": 10,
   "id": "respective-statistics",
   "metadata": {},
   "outputs": [
    {
     "data": {
      "text/plain": [
       "\"hello, World!\""
      ]
     },
     "execution_count": 10,
     "metadata": {},
     "output_type": "execute_result"
    }
   ],
   "source": [
    "\"hello, \" + \"World!\""
   ]
  },
  {
   "cell_type": "code",
   "execution_count": 11,
   "id": "practical-saying",
   "metadata": {},
   "outputs": [
    {
     "data": {
      "text/plain": [
       "foo (generic function with 4 methods)"
      ]
     },
     "execution_count": 11,
     "metadata": {},
     "output_type": "execute_result"
    }
   ],
   "source": [
    "foo(x, y) = println(\"duck-typed foo\")\n",
    "foo(x::Int, y::Float64) = println(\"int-float foo\")\n",
    "foo(x::Float64, y::Float64) = println(\"floatie foo\")\n",
    "foo(x::UInt, y::UInt) = println(\"foo on U\")"
   ]
  },
  {
   "cell_type": "code",
   "execution_count": 12,
   "id": "accessory-mount",
   "metadata": {},
   "outputs": [
    {
     "name": "stdout",
     "output_type": "stream",
     "text": [
      "duck-typed foo\n"
     ]
    }
   ],
   "source": [
    "foo(1, 1)"
   ]
  },
  {
   "cell_type": "code",
   "execution_count": 13,
   "id": "fifty-conversion",
   "metadata": {},
   "outputs": [
    {
     "name": "stdout",
     "output_type": "stream",
     "text": [
      "floatie foo\n"
     ]
    }
   ],
   "source": [
    "foo(2., 3.)"
   ]
  },
  {
   "cell_type": "code",
   "execution_count": 14,
   "id": "moral-helen",
   "metadata": {},
   "outputs": [
    {
     "name": "stdout",
     "output_type": "stream",
     "text": [
      "foo on U\n"
     ]
    }
   ],
   "source": [
    "foo(UInt(1), UInt(2))"
   ]
  },
  {
   "cell_type": "code",
   "execution_count": 15,
   "id": "collaborative-replica",
   "metadata": {},
   "outputs": [
    {
     "name": "stdout",
     "output_type": "stream",
     "text": [
      "duck-typed foo\n"
     ]
    }
   ],
   "source": [
    "foo(true, false)"
   ]
  },
  {
   "cell_type": "code",
   "execution_count": 1,
   "id": "based-defeat",
   "metadata": {},
   "outputs": [
    {
     "data": {
      "text/plain": [
       "3×3 Array{Int64,2}:\n",
       " 3  1  2\n",
       " 3  2  4\n",
       " 2  2  2"
      ]
     },
     "execution_count": 1,
     "metadata": {},
     "output_type": "execute_result"
    }
   ],
   "source": [
    "A = rand(1:4, 3, 3)"
   ]
  },
  {
   "cell_type": "code",
   "execution_count": 2,
   "id": "limiting-thanks",
   "metadata": {},
   "outputs": [
    {
     "data": {
      "text/plain": [
       "3×6 Array{Int64,2}:\n",
       " 3  1  2  3  1  2\n",
       " 3  2  4  3  2  4\n",
       " 2  2  2  2  2  2"
      ]
     },
     "execution_count": 2,
     "metadata": {},
     "output_type": "execute_result"
    }
   ],
   "source": [
    "B = A # same obj!\n",
    "C = copy(A)\n",
    "[B C]"
   ]
  },
  {
   "cell_type": "code",
   "execution_count": 3,
   "id": "structural-sleeping",
   "metadata": {},
   "outputs": [
    {
     "data": {
      "text/plain": [
       "3×6 Array{Int64,2}:\n",
       " 9  1  2  3  1  2\n",
       " 3  2  4  3  2  4\n",
       " 2  2  2  2  2  2"
      ]
     },
     "execution_count": 3,
     "metadata": {},
     "output_type": "execute_result"
    }
   ],
   "source": [
    "A[1] = 9\n",
    "[B C]"
   ]
  },
  {
   "cell_type": "code",
   "execution_count": 4,
   "id": "prospective-bookmark",
   "metadata": {},
   "outputs": [
    {
     "data": {
      "text/plain": [
       "3-element Array{Float64,1}:\n",
       " 1.0\n",
       " 1.0\n",
       " 1.0"
      ]
     },
     "execution_count": 4,
     "metadata": {},
     "output_type": "execute_result"
    }
   ],
   "source": [
    "x = ones(3)"
   ]
  },
  {
   "cell_type": "code",
   "execution_count": 5,
   "id": "proud-light",
   "metadata": {},
   "outputs": [
    {
     "data": {
      "text/plain": [
       "3-element Array{Float64,1}:\n",
       " 12.0\n",
       "  9.0\n",
       "  6.0"
      ]
     },
     "execution_count": 5,
     "metadata": {},
     "output_type": "execute_result"
    }
   ],
   "source": [
    "b = A*x"
   ]
  },
  {
   "cell_type": "code",
   "execution_count": 6,
   "id": "geological-following",
   "metadata": {},
   "outputs": [
    {
     "data": {
      "text/plain": [
       "3×3 LinearAlgebra.Adjoint{Int64,Array{Int64,2}}:\n",
       " 9  3  2\n",
       " 1  2  2\n",
       " 2  4  2"
      ]
     },
     "execution_count": 6,
     "metadata": {},
     "output_type": "execute_result"
    }
   ],
   "source": [
    "A'"
   ]
  },
  {
   "cell_type": "code",
   "execution_count": 7,
   "id": "choice-topic",
   "metadata": {},
   "outputs": [
    {
     "data": {
      "text/plain": [
       "3×3 Array{Int64,2}:\n",
       " 18  4  4\n",
       "  4  4  6\n",
       "  4  6  4"
      ]
     },
     "execution_count": 7,
     "metadata": {},
     "output_type": "execute_result"
    }
   ],
   "source": [
    "Asym = A + A'"
   ]
  },
  {
   "cell_type": "code",
   "execution_count": 8,
   "id": "portuguese-prototype",
   "metadata": {},
   "outputs": [
    {
     "data": {
      "text/plain": [
       "3×3 Array{Int64,2}:\n",
       " 94  19  34\n",
       " 19   9  14\n",
       " 34  14  24"
      ]
     },
     "execution_count": 8,
     "metadata": {},
     "output_type": "execute_result"
    }
   ],
   "source": [
    "Apd = A'A"
   ]
  },
  {
   "cell_type": "code",
   "execution_count": 10,
   "id": "floral-business",
   "metadata": {},
   "outputs": [
    {
     "data": {
      "text/plain": [
       "3-element Array{Float64,1}:\n",
       " 1.0\n",
       " 1.0000000000000002\n",
       " 1.0"
      ]
     },
     "execution_count": 10,
     "metadata": {},
     "output_type": "execute_result"
    }
   ],
   "source": [
    "A \\ b"
   ]
  },
  {
   "cell_type": "code",
   "execution_count": 14,
   "id": "actual-onion",
   "metadata": {},
   "outputs": [
    {
     "data": {
      "text/plain": [
       "3×2 Array{Int64,2}:\n",
       " 9  1\n",
       " 3  2\n",
       " 2  2"
      ]
     },
     "execution_count": 14,
     "metadata": {},
     "output_type": "execute_result"
    }
   ],
   "source": [
    "Atall = A[:, 1:2] # overdetermined"
   ]
  },
  {
   "cell_type": "code",
   "execution_count": 15,
   "id": "invisible-tuesday",
   "metadata": {},
   "outputs": [
    {
     "data": {
      "text/plain": [
       "2-element Array{Float64,1}:\n",
       " 1.0824742268041239\n",
       " 2.3814432989690717"
      ]
     },
     "execution_count": 15,
     "metadata": {},
     "output_type": "execute_result"
    }
   ],
   "source": [
    "Atall \\ b "
   ]
  },
  {
   "cell_type": "code",
   "execution_count": 16,
   "id": "radical-sentence",
   "metadata": {},
   "outputs": [
    {
     "data": {
      "text/plain": [
       "3×3 Array{Float64,2}:\n",
       " 0.522099  0.235046  0.0100019\n",
       " 0.394768  0.278898  0.0112673\n",
       " 0.491317  0.465802  0.86556"
      ]
     },
     "execution_count": 16,
     "metadata": {},
     "output_type": "execute_result"
    }
   ],
   "source": [
    "A = rand(3, 3)"
   ]
  },
  {
   "cell_type": "code",
   "execution_count": 18,
   "id": "opponent-microphone",
   "metadata": {},
   "outputs": [
    {
     "data": {
      "text/plain": [
       "2-element Array{Float64,1}:\n",
       " 9.529409674816078\n",
       " 9.529409674816078"
      ]
     },
     "execution_count": 18,
     "metadata": {},
     "output_type": "execute_result"
    }
   ],
   "source": [
    "[A[:, 1] A[:, 1]] \\ b # solution with smallest norm"
   ]
  },
  {
   "cell_type": "code",
   "execution_count": 19,
   "id": "better-caribbean",
   "metadata": {},
   "outputs": [
    {
     "data": {
      "text/plain": [
       "2×3 Array{Float64,2}:\n",
       " 0.522099  0.235046  0.0100019\n",
       " 0.394768  0.278898  0.0112673"
      ]
     },
     "execution_count": 19,
     "metadata": {},
     "output_type": "execute_result"
    }
   ],
   "source": [
    "Ashort = A[1:2, :]"
   ]
  },
  {
   "cell_type": "code",
   "execution_count": 20,
   "id": "familiar-factor",
   "metadata": {},
   "outputs": [
    {
     "data": {
      "text/plain": [
       "3-element Array{Float64,1}:\n",
       " 23.31071689676133\n",
       " -0.7268672161994407\n",
       "  0.035687129311295585"
      ]
     },
     "execution_count": 20,
     "metadata": {},
     "output_type": "execute_result"
    }
   ],
   "source": [
    "Ashort \\ b[1:2]"
   ]
  },
  {
   "cell_type": "markdown",
   "id": "surgical-blank",
   "metadata": {},
   "source": [
    "### Matrix Factorization"
   ]
  },
  {
   "cell_type": "code",
   "execution_count": 21,
   "id": "pharmaceutical-burns",
   "metadata": {},
   "outputs": [
    {
     "data": {
      "text/plain": [
       "3×3 Array{Float64,2}:\n",
       " 0.923444  0.410891   0.435965\n",
       " 0.282115  0.0189326  0.258701\n",
       " 0.238168  0.384864   0.546782"
      ]
     },
     "execution_count": 21,
     "metadata": {},
     "output_type": "execute_result"
    }
   ],
   "source": [
    "A = rand(3, 3)"
   ]
  },
  {
   "cell_type": "code",
   "execution_count": 24,
   "id": "narrow-ordering",
   "metadata": {},
   "outputs": [
    {
     "data": {
      "text/plain": [
       "LU{Float64,Array{Float64,2}}\n",
       "L factor:\n",
       "3×3 Array{Float64,2}:\n",
       " 1.0        0.0       0.0\n",
       " 0.257913   1.0       0.0\n",
       " 0.305503  -0.382215  1.0\n",
       "U factor:\n",
       "3×3 Array{Float64,2}:\n",
       " 0.923444  0.410891  0.435965\n",
       " 0.0       0.27889   0.434341\n",
       " 0.0       0.0       0.291524"
      ]
     },
     "execution_count": 24,
     "metadata": {},
     "output_type": "execute_result"
    }
   ],
   "source": [
    "l, u, p = lu(A)"
   ]
  },
  {
   "cell_type": "code",
   "execution_count": 27,
   "id": "wrapped-adventure",
   "metadata": {},
   "outputs": [
    {
     "data": {
      "text/plain": [
       "0.6615556850378572"
      ]
     },
     "execution_count": 27,
     "metadata": {},
     "output_type": "execute_result"
    }
   ],
   "source": [
    "# Pivoting on so cannot assume A = LU:\n",
    "norm(l*u - A)"
   ]
  },
  {
   "cell_type": "code",
   "execution_count": 28,
   "id": "moving-tuition",
   "metadata": {},
   "outputs": [
    {
     "data": {
      "text/plain": [
       "2.7755575615628914e-17"
      ]
     },
     "execution_count": 28,
     "metadata": {},
     "output_type": "execute_result"
    }
   ],
   "source": [
    "norm(l*u - A[p, :])"
   ]
  },
  {
   "cell_type": "code",
   "execution_count": 29,
   "id": "earned-probe",
   "metadata": {},
   "outputs": [
    {
     "data": {
      "text/plain": [
       "3-element Array{Int64,1}:\n",
       " 1\n",
       " 3\n",
       " 2"
      ]
     },
     "execution_count": 29,
     "metadata": {},
     "output_type": "execute_result"
    }
   ],
   "source": [
    "p"
   ]
  },
  {
   "cell_type": "code",
   "execution_count": 36,
   "id": "military-defense",
   "metadata": {},
   "outputs": [
    {
     "data": {
      "text/plain": [
       "6.206335383118183e-17"
      ]
     },
     "execution_count": 36,
     "metadata": {},
     "output_type": "execute_result"
    }
   ],
   "source": [
    "# or turn off pivoting\n",
    "l, u, p = lu(A, Val(false))\n",
    "norm(l*u - A)"
   ]
  },
  {
   "cell_type": "code",
   "execution_count": 47,
   "id": "lasting-meter",
   "metadata": {},
   "outputs": [
    {
     "data": {
      "text/plain": [
       "LU{Float64,Array{Float64,2}}\n",
       "L factor:\n",
       "3×3 Array{Float64,2}:\n",
       " 1.0        0.0       0.0\n",
       " 0.257913   1.0       0.0\n",
       " 0.305503  -0.382215  1.0\n",
       "U factor:\n",
       "3×3 Array{Float64,2}:\n",
       " 0.923444  0.410891  0.435965\n",
       " 0.0       0.27889   0.434341\n",
       " 0.0       0.0       0.291524"
      ]
     },
     "execution_count": 47,
     "metadata": {},
     "output_type": "execute_result"
    }
   ],
   "source": [
    "Alu = lu(A)"
   ]
  },
  {
   "cell_type": "code",
   "execution_count": 40,
   "id": "everyday-parameter",
   "metadata": {},
   "outputs": [
    {
     "data": {
      "text/plain": [
       "3-element Array{Float64,1}:\n",
       " 1.7703000096657588\n",
       " 0.5597482847258108\n",
       " 1.1698143375925574"
      ]
     },
     "execution_count": 40,
     "metadata": {},
     "output_type": "execute_result"
    }
   ],
   "source": [
    "x = ones(3)\n",
    "b = A * x"
   ]
  },
  {
   "cell_type": "code",
   "execution_count": 50,
   "id": "bottom-texas",
   "metadata": {},
   "outputs": [],
   "source": [
    "#Alu[:U] \\ (Alu[:L] \\ (Alu[:P]b))"
   ]
  },
  {
   "cell_type": "code",
   "execution_count": 51,
   "id": "cutting-navigator",
   "metadata": {},
   "outputs": [
    {
     "data": {
      "text/plain": [
       "3-element Array{Float64,1}:\n",
       " 1.0\n",
       " 1.0000000000000004\n",
       " 0.9999999999999998"
      ]
     },
     "execution_count": 51,
     "metadata": {},
     "output_type": "execute_result"
    }
   ],
   "source": [
    "Alu \\ b"
   ]
  },
  {
   "cell_type": "code",
   "execution_count": 42,
   "id": "veterinary-involvement",
   "metadata": {},
   "outputs": [
    {
     "data": {
      "text/plain": [
       "-0.07507891535370073"
      ]
     },
     "execution_count": 42,
     "metadata": {},
     "output_type": "execute_result"
    }
   ],
   "source": [
    "det(A)"
   ]
  },
  {
   "cell_type": "code",
   "execution_count": 52,
   "id": "transparent-watch",
   "metadata": {},
   "outputs": [
    {
     "data": {
      "text/plain": [
       "-0.07507891535370073"
      ]
     },
     "execution_count": 52,
     "metadata": {},
     "output_type": "execute_result"
    }
   ],
   "source": [
    "det(Alu)"
   ]
  },
  {
   "cell_type": "code",
   "execution_count": 53,
   "id": "every-yemen",
   "metadata": {},
   "outputs": [
    {
     "data": {
      "text/plain": [
       "LinearAlgebra.QRCompactWY{Float64,Array{Float64,2}}\n",
       "Q factor:\n",
       "3×3 LinearAlgebra.QRCompactWYQ{Float64,Array{Float64,2}}:\n",
       " -0.928536  -0.114534  -0.353132\n",
       " -0.28367   -0.394721   0.873914\n",
       " -0.239481   0.911634   0.334023\n",
       "R factor:\n",
       "2×2 Array{Float64,2}:\n",
       " -0.994516  -0.479066\n",
       "  0.0        0.296321"
      ]
     },
     "execution_count": 53,
     "metadata": {},
     "output_type": "execute_result"
    }
   ],
   "source": [
    "Aqr = qr(A[:, 1:2])"
   ]
  },
  {
   "cell_type": "code",
   "execution_count": 54,
   "id": "olympic-aruba",
   "metadata": {},
   "outputs": [
    {
     "data": {
      "text/plain": [
       "3×3 Array{Float64,2}:\n",
       " 1.84689   0.693006   0.674133\n",
       " 0.693006  0.0378651  0.643565\n",
       " 0.674133  0.643565   1.09356"
      ]
     },
     "execution_count": 54,
     "metadata": {},
     "output_type": "execute_result"
    }
   ],
   "source": [
    "Asym = A + A'"
   ]
  },
  {
   "cell_type": "code",
   "execution_count": 64,
   "id": "acquired-huntington",
   "metadata": {},
   "outputs": [
    {
     "data": {
      "text/plain": [
       "Eigen{Float64,Float64,Array{Float64,2},Array{Float64,1}}\n",
       "values:\n",
       "3-element Array{Float64,1}:\n",
       " -0.33361248965073687\n",
       "  0.7312083958142721\n",
       "  2.5807220709975343\n",
       "vectors:\n",
       "3×3 Array{Float64,2}:\n",
       "  0.19333   -0.581271  -0.79041\n",
       " -0.925399   0.159626  -0.343738\n",
       "  0.325975   0.797899  -0.507047"
      ]
     },
     "execution_count": 64,
     "metadata": {},
     "output_type": "execute_result"
    }
   ],
   "source": [
    "Asym_eig = eigen(Asym)"
   ]
  },
  {
   "cell_type": "code",
   "execution_count": 65,
   "id": "qualified-homeless",
   "metadata": {},
   "outputs": [
    {
     "data": {
      "text/plain": [
       "3×3 Array{Float64,2}:\n",
       " 1.0          -8.88178e-16   2.9976e-15\n",
       " 1.11022e-15   1.0          -4.66294e-15\n",
       " 1.4988e-15    1.11022e-16   1.0"
      ]
     },
     "execution_count": 65,
     "metadata": {},
     "output_type": "execute_result"
    }
   ],
   "source": [
    "inv(Asym_eig) * Asym"
   ]
  },
  {
   "cell_type": "code",
   "execution_count": 66,
   "id": "norwegian-retreat",
   "metadata": {},
   "outputs": [
    {
     "data": {
      "text/plain": [
       "SVD{Float64,Float64,Array{Float64,2}}\n",
       "U factor:\n",
       "3×2 Array{Float64,2}:\n",
       " -0.907469  -0.22759\n",
       " -0.233099  -0.426542\n",
       " -0.34952    0.875365\n",
       "singular values:\n",
       "2-element Array{Float64,1}:\n",
       " 1.1118070302195786\n",
       " 0.26506048278488914\n",
       "Vt factor:\n",
       "2×2 Array{Float64,2}:\n",
       " -0.887746  -0.460333\n",
       " -0.460333   0.887746"
      ]
     },
     "execution_count": 66,
     "metadata": {},
     "output_type": "execute_result"
    }
   ],
   "source": [
    "Asvd = svd(A[:, 1:2])"
   ]
  },
  {
   "cell_type": "code",
   "execution_count": 67,
   "id": "spectacular-thirty",
   "metadata": {},
   "outputs": [
    {
     "data": {
      "text/plain": [
       "2-element Array{Float64,1}:\n",
       " 1.0493517305265172\n",
       " 2.1690631073558224"
      ]
     },
     "execution_count": 67,
     "metadata": {},
     "output_type": "execute_result"
    }
   ],
   "source": [
    "Asvd \\ b"
   ]
  },
  {
   "cell_type": "markdown",
   "id": "dental-organic",
   "metadata": {},
   "source": [
    "### Structured Matrices"
   ]
  },
  {
   "cell_type": "code",
   "execution_count": 68,
   "id": "entertaining-catalyst",
   "metadata": {},
   "outputs": [
    {
     "data": {
      "text/plain": [
       "3×3 Array{Float64,2}:\n",
       " 0.923444  0.410891   0.435965\n",
       " 0.282115  0.0189326  0.258701\n",
       " 0.238168  0.384864   0.546782"
      ]
     },
     "execution_count": 68,
     "metadata": {},
     "output_type": "execute_result"
    }
   ],
   "source": [
    "A"
   ]
  },
  {
   "cell_type": "code",
   "execution_count": 69,
   "id": "electric-aurora",
   "metadata": {},
   "outputs": [
    {
     "data": {
      "text/plain": [
       "3-element Array{Float64,1}:\n",
       " 0.9234440644294368\n",
       " 0.01893256540188748\n",
       " 0.5467823587492082"
      ]
     },
     "execution_count": 69,
     "metadata": {},
     "output_type": "execute_result"
    }
   ],
   "source": [
    "diag(A)"
   ]
  },
  {
   "cell_type": "code",
   "execution_count": 70,
   "id": "fantastic-integrity",
   "metadata": {},
   "outputs": [
    {
     "data": {
      "text/plain": [
       "3×3 Diagonal{Float64,Array{Float64,1}}:\n",
       " 0.923444   ⋅          ⋅ \n",
       "  ⋅        0.0189326   ⋅ \n",
       "  ⋅         ⋅         0.546782"
      ]
     },
     "execution_count": 70,
     "metadata": {},
     "output_type": "execute_result"
    }
   ],
   "source": [
    "Diagonal(diag(A))"
   ]
  },
  {
   "cell_type": "code",
   "execution_count": 72,
   "id": "anonymous-ceremony",
   "metadata": {},
   "outputs": [
    {
     "data": {
      "text/plain": [
       "3×3 Diagonal{Float64,Array{Float64,1}}:\n",
       " 0.923444   ⋅          ⋅ \n",
       "  ⋅        0.0189326   ⋅ \n",
       "  ⋅         ⋅         0.546782"
      ]
     },
     "execution_count": 72,
     "metadata": {},
     "output_type": "execute_result"
    }
   ],
   "source": [
    "Diagonal(A)"
   ]
  },
  {
   "cell_type": "code",
   "execution_count": 73,
   "id": "statistical-variation",
   "metadata": {},
   "outputs": [
    {
     "data": {
      "text/plain": [
       "3×3 LowerTriangular{Float64,Array{Float64,2}}:\n",
       " 0.923444   ⋅          ⋅ \n",
       " 0.282115  0.0189326   ⋅ \n",
       " 0.238168  0.384864   0.546782"
      ]
     },
     "execution_count": 73,
     "metadata": {},
     "output_type": "execute_result"
    }
   ],
   "source": [
    "LowerTriangular(A)"
   ]
  },
  {
   "cell_type": "code",
   "execution_count": 75,
   "id": "genuine-latin",
   "metadata": {},
   "outputs": [
    {
     "data": {
      "text/plain": [
       "3×3 Array{Float64,2}:\n",
       " 1.84689   0.693006   0.674133\n",
       " 0.693006  0.0378651  0.643565\n",
       " 0.674133  0.643565   1.09356"
      ]
     },
     "execution_count": 75,
     "metadata": {},
     "output_type": "execute_result"
    }
   ],
   "source": [
    "Asym"
   ]
  },
  {
   "cell_type": "code",
   "execution_count": 74,
   "id": "right-acting",
   "metadata": {},
   "outputs": [
    {
     "data": {
      "text/plain": [
       "3×3 Symmetric{Float64,Array{Float64,2}}:\n",
       " 1.84689   0.693006   0.674133\n",
       " 0.693006  0.0378651  0.643565\n",
       " 0.674133  0.643565   1.09356"
      ]
     },
     "execution_count": 74,
     "metadata": {},
     "output_type": "execute_result"
    }
   ],
   "source": [
    "Symmetric(Asym)"
   ]
  },
  {
   "cell_type": "code",
   "execution_count": 76,
   "id": "extreme-latitude",
   "metadata": {},
   "outputs": [
    {
     "data": {
      "text/plain": [
       "3×3 SymTridiagonal{Float64,Array{Float64,1}}:\n",
       " 1.84689   0.693006    ⋅ \n",
       " 0.693006  0.0378651  0.643565\n",
       "  ⋅        0.643565   1.09356"
      ]
     },
     "execution_count": 76,
     "metadata": {},
     "output_type": "execute_result"
    }
   ],
   "source": [
    "SymTridiagonal(diag(Asym), diag(Asym, 1))"
   ]
  },
  {
   "cell_type": "code",
   "execution_count": 78,
   "id": "alternative-duration",
   "metadata": {},
   "outputs": [
    {
     "data": {
      "text/plain": [
       "(true, false)"
      ]
     },
     "execution_count": 78,
     "metadata": {},
     "output_type": "execute_result"
    }
   ],
   "source": [
    "n = 1000\n",
    "A = rand(n, n)\n",
    "Asym1 = A + A'\n",
    "Asym2 = copy(Asym1)\n",
    "Asym2[1, 2] += 5eps() # add noise\n",
    "\n",
    "issymmetric(Asym1), issymmetric(Asym2)"
   ]
  },
  {
   "cell_type": "code",
   "execution_count": 80,
   "id": "communist-guard",
   "metadata": {},
   "outputs": [
    {
     "name": "stdout",
     "output_type": "stream",
     "text": [
      "  0.121217 seconds (11 allocations: 7.989 MiB)\n"
     ]
    }
   ],
   "source": [
    "@time eigvals(Asym1);"
   ]
  },
  {
   "cell_type": "code",
   "execution_count": 81,
   "id": "buried-malawi",
   "metadata": {},
   "outputs": [
    {
     "name": "stdout",
     "output_type": "stream",
     "text": [
      "  0.768444 seconds (13 allocations: 7.920 MiB)\n"
     ]
    }
   ],
   "source": [
    "@time eigvals(Asym2);"
   ]
  },
  {
   "cell_type": "code",
   "execution_count": 84,
   "id": "grand-immunology",
   "metadata": {},
   "outputs": [
    {
     "name": "stdout",
     "output_type": "stream",
     "text": [
      "  0.113768 seconds (12 allocations: 7.989 MiB)\n"
     ]
    }
   ],
   "source": [
    "@time eigvals(Symmetric(Asym2));"
   ]
  },
  {
   "cell_type": "code",
   "execution_count": 85,
   "id": "enabling-cologne",
   "metadata": {},
   "outputs": [
    {
     "data": {
      "text/plain": [
       "3×3 Array{Int64,2}:\n",
       " 114  74  134\n",
       "  39  49   34\n",
       "  99  87  105"
      ]
     },
     "execution_count": 85,
     "metadata": {},
     "output_type": "execute_result"
    }
   ],
   "source": [
    "rand(1:10, 3, 3) * rand(1:10, 3, 3)"
   ]
  },
  {
   "cell_type": "code",
   "execution_count": 86,
   "id": "greenhouse-night",
   "metadata": {},
   "outputs": [
    {
     "data": {
      "text/plain": [
       "3×3 Array{Rational{BigInt},2}:\n",
       " 9//10  2//5   1//10\n",
       " 9//10  1//2   1//2\n",
       " 1//2   1//10  3//10"
      ]
     },
     "execution_count": 86,
     "metadata": {},
     "output_type": "execute_result"
    }
   ],
   "source": [
    "Ar = convert(Matrix{Rational{BigInt}}, rand(1:10, 3, 3)) / 10"
   ]
  },
  {
   "cell_type": "code",
   "execution_count": 87,
   "id": "vulnerable-netscape",
   "metadata": {},
   "outputs": [
    {
     "data": {
      "text/plain": [
       "3-element Array{Rational{BigInt},1}:\n",
       "  7//5\n",
       " 19//10\n",
       "  9//10"
      ]
     },
     "execution_count": 87,
     "metadata": {},
     "output_type": "execute_result"
    }
   ],
   "source": [
    "x = ones(Int, 3)\n",
    "b = Ar * x"
   ]
  },
  {
   "cell_type": "code",
   "execution_count": 89,
   "id": "yellow-institution",
   "metadata": {},
   "outputs": [
    {
     "data": {
      "text/plain": [
       "3-element Array{Rational{BigInt},1}:\n",
       " 1//1\n",
       " 1//1\n",
       " 1//1"
      ]
     },
     "execution_count": 89,
     "metadata": {},
     "output_type": "execute_result"
    }
   ],
   "source": [
    "Ar \\ b"
   ]
  },
  {
   "cell_type": "code",
   "execution_count": 88,
   "id": "enclosed-briefs",
   "metadata": {},
   "outputs": [
    {
     "data": {
      "text/plain": [
       "LU{Rational{BigInt},Array{Rational{BigInt},2}}\n",
       "L factor:\n",
       "3×3 Array{Rational{BigInt},2}:\n",
       " 1//1   0//1   0//1\n",
       " 5//9   1//1   0//1\n",
       " 1//1  -9//11  1//1\n",
       "U factor:\n",
       "3×3 Array{Rational{BigInt},2}:\n",
       " 9//10    2//5    1//10\n",
       " 0//1   -11//90  11//45\n",
       " 0//1     0//1    3//5"
      ]
     },
     "execution_count": 88,
     "metadata": {},
     "output_type": "execute_result"
    }
   ],
   "source": [
    "lu(Ar)"
   ]
  },
  {
   "cell_type": "code",
   "execution_count": 90,
   "id": "spectacular-hardwood",
   "metadata": {},
   "outputs": [
    {
     "data": {
      "text/plain": [
       "3×3 Array{Rational{Int64},2}:\n",
       " 1//1  -1//2  -1//4\n",
       " 0//1   1//2  -1//4\n",
       " 0//1   0//1   1//4"
      ]
     },
     "execution_count": 90,
     "metadata": {},
     "output_type": "execute_result"
    }
   ],
   "source": [
    "lmb1, lmb2, lmb3 = 1//1, 1//2, 1//4\n",
    "v1, v2, v3 = [1, 0, 0], [1, 1, 0], [1, 1, 1]\n",
    "V, LMB = [v1 v2 v3], Diagonal([lmb1, lmb2, lmb3])\n",
    "A = V * LMB / V"
   ]
  },
  {
   "cell_type": "code",
   "execution_count": null,
   "id": "absolute-bristol",
   "metadata": {},
   "outputs": [],
   "source": []
  }
 ],
 "metadata": {
  "kernelspec": {
   "display_name": "Julia 1.5.1",
   "language": "julia",
   "name": "julia-1.5"
  },
  "language_info": {
   "file_extension": ".jl",
   "mimetype": "application/julia",
   "name": "julia",
   "version": "1.5.1"
  }
 },
 "nbformat": 4,
 "nbformat_minor": 5
}
