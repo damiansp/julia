{
 "cells": [
  {
   "cell_type": "code",
   "execution_count": 1,
   "id": "harmful-marsh",
   "metadata": {},
   "outputs": [],
   "source": [
    "#using BenchmarkTools\n",
    "using CSV\n",
    "using DataFrames\n",
    "using DelimitedFiles\n",
    "#using JLD\n",
    "#using NPZ\n",
    "#using RCall\n",
    "#using RData\n",
    "#using XLSX"
   ]
  },
  {
   "cell_type": "code",
   "execution_count": 2,
   "id": "acute-collaboration",
   "metadata": {},
   "outputs": [
    {
     "data": {
      "text/plain": [
       "\"programming_languages.csv\""
      ]
     },
     "execution_count": 2,
     "metadata": {},
     "output_type": "execute_result"
    }
   ],
   "source": [
    "p = download(\n",
    "    \"https://raw.githubusercontent.com/nassarhuda/easy_data/master/\"\n",
    "    * \"programming_languages.csv\",\n",
    "    \"programming_languages.csv\")"
   ]
  },
  {
   "cell_type": "code",
   "execution_count": 3,
   "id": "breeding-timing",
   "metadata": {},
   "outputs": [
    {
     "name": "stdout",
     "output_type": "stream",
     "text": [
      "year,language\n",
      "1951,Regional Assembly Language\n",
      "1952,Autocode\n"
     ]
    }
   ],
   "source": [
    ";head -3 programming_languages.csv"
   ]
  },
  {
   "cell_type": "code",
   "execution_count": 4,
   "id": "outdoor-reality",
   "metadata": {},
   "outputs": [
    {
     "data": {
      "text/plain": [
       "(Any[1951 \"Regional Assembly Language\"; 1952 \"Autocode\"; … ; 2012 \"Julia\"; 2014 \"Swift\"], AbstractString[\"year\" \"language\"])"
      ]
     },
     "execution_count": 4,
     "metadata": {},
     "output_type": "execute_result"
    }
   ],
   "source": [
    "data, headers = readdlm(\"programming_languages.csv\", ','; header=true)"
   ]
  },
  {
   "cell_type": "code",
   "execution_count": 5,
   "id": "congressional-password",
   "metadata": {},
   "outputs": [
    {
     "data": {
      "text/plain": [
       "1×2 Array{AbstractString,2}:\n",
       " \"year\"  \"language\""
      ]
     },
     "execution_count": 5,
     "metadata": {},
     "output_type": "execute_result"
    }
   ],
   "source": [
    "headers"
   ]
  },
  {
   "cell_type": "code",
   "execution_count": 6,
   "id": "beneficial-poetry",
   "metadata": {},
   "outputs": [],
   "source": [
    "writedlm(\"programming_languages_dlm.txt\", p, '-')"
   ]
  },
  {
   "cell_type": "code",
   "execution_count": 13,
   "id": "distant-harvard",
   "metadata": {},
   "outputs": [
    {
     "data": {
      "text/html": [
       "<table class=\"data-frame\"><thead><tr><th></th><th>year</th><th>language</th></tr><tr><th></th><th>Int64</th><th>String</th></tr></thead><tbody><p>5 rows × 2 columns</p><tr><th>1</th><td>1951</td><td>Regional Assembly Language</td></tr><tr><th>2</th><td>1952</td><td>Autocode</td></tr><tr><th>3</th><td>1954</td><td>IPL</td></tr><tr><th>4</th><td>1955</td><td>FLOW-MATIC</td></tr><tr><th>5</th><td>1957</td><td>FORTRAN</td></tr></tbody></table>"
      ],
      "text/latex": [
       "\\begin{tabular}{r|cc}\n",
       "\t& year & language\\\\\n",
       "\t\\hline\n",
       "\t& Int64 & String\\\\\n",
       "\t\\hline\n",
       "\t1 & 1951 & Regional Assembly Language \\\\\n",
       "\t2 & 1952 & Autocode \\\\\n",
       "\t3 & 1954 & IPL \\\\\n",
       "\t4 & 1955 & FLOW-MATIC \\\\\n",
       "\t5 & 1957 & FORTRAN \\\\\n",
       "\\end{tabular}\n"
      ],
      "text/plain": [
       "\u001b[1m5×2 DataFrame\u001b[0m\n",
       "\u001b[1m Row \u001b[0m│\u001b[1m year  \u001b[0m\u001b[1m language                   \u001b[0m\n",
       "\u001b[1m     \u001b[0m│\u001b[90m Int64 \u001b[0m\u001b[90m String                     \u001b[0m\n",
       "─────┼───────────────────────────────────\n",
       "   1 │  1951  Regional Assembly Language\n",
       "   2 │  1952  Autocode\n",
       "   3 │  1954  IPL\n",
       "   4 │  1955  FLOW-MATIC\n",
       "   5 │  1957  FORTRAN"
      ]
     },
     "execution_count": 13,
     "metadata": {},
     "output_type": "execute_result"
    }
   ],
   "source": [
    "data = CSV.read(\"programming_languages.csv\", DataFrame)\n",
    "first(data, 5)"
   ]
  },
  {
   "cell_type": "code",
   "execution_count": 14,
   "id": "thousand-hopkins",
   "metadata": {},
   "outputs": [
    {
     "data": {
      "text/plain": [
       "DataFrame"
      ]
     },
     "execution_count": 14,
     "metadata": {},
     "output_type": "execute_result"
    }
   ],
   "source": [
    "typeof(data)"
   ]
  },
  {
   "cell_type": "code",
   "execution_count": 15,
   "id": "ranking-dispatch",
   "metadata": {},
   "outputs": [
    {
     "data": {
      "text/plain": [
       "2-element Array{String,1}:\n",
       " \"year\"\n",
       " \"language\""
      ]
     },
     "execution_count": 15,
     "metadata": {},
     "output_type": "execute_result"
    }
   ],
   "source": [
    "names(data)"
   ]
  },
  {
   "cell_type": "code",
   "execution_count": 16,
   "id": "interested-disclaimer",
   "metadata": {},
   "outputs": [
    {
     "data": {
      "text/html": [
       "<table class=\"data-frame\"><thead><tr><th></th><th>variable</th><th>mean</th><th>min</th><th>median</th><th>max</th><th>nmissing</th><th>eltype</th></tr><tr><th></th><th>Symbol</th><th>Union…</th><th>Any</th><th>Union…</th><th>Any</th><th>Int64</th><th>DataType</th></tr></thead><tbody><p>2 rows × 7 columns</p><tr><th>1</th><td>year</td><td>1982.99</td><td>1951</td><td>1986.0</td><td>2014</td><td>0</td><td>Int64</td></tr><tr><th>2</th><td>language</td><td></td><td>ALGOL 58</td><td></td><td>dBase III</td><td>0</td><td>String</td></tr></tbody></table>"
      ],
      "text/latex": [
       "\\begin{tabular}{r|ccccccc}\n",
       "\t& variable & mean & min & median & max & nmissing & eltype\\\\\n",
       "\t\\hline\n",
       "\t& Symbol & Union… & Any & Union… & Any & Int64 & DataType\\\\\n",
       "\t\\hline\n",
       "\t1 & year & 1982.99 & 1951 & 1986.0 & 2014 & 0 & Int64 \\\\\n",
       "\t2 & language &  & ALGOL 58 &  & dBase III & 0 & String \\\\\n",
       "\\end{tabular}\n"
      ],
      "text/plain": [
       "\u001b[1m2×7 DataFrame\u001b[0m\n",
       "\u001b[1m Row \u001b[0m│\u001b[1m variable \u001b[0m\u001b[1m mean    \u001b[0m\u001b[1m min      \u001b[0m\u001b[1m median \u001b[0m\u001b[1m max       \u001b[0m\u001b[1m nmissing \u001b[0m\u001b[1m eltype   \u001b[0m\n",
       "\u001b[1m     \u001b[0m│\u001b[90m Symbol   \u001b[0m\u001b[90m Union…  \u001b[0m\u001b[90m Any      \u001b[0m\u001b[90m Union… \u001b[0m\u001b[90m Any       \u001b[0m\u001b[90m Int64    \u001b[0m\u001b[90m DataType \u001b[0m\n",
       "─────┼────────────────────────────────────────────────────────────────────\n",
       "   1 │ year      1982.99  1951      1986.0  2014              0  Int64\n",
       "   2 │ language \u001b[90m         \u001b[0m ALGOL 58 \u001b[90m        \u001b[0m dBase III         0  String"
      ]
     },
     "execution_count": 16,
     "metadata": {},
     "output_type": "execute_result"
    }
   ],
   "source": [
    "describe(data)"
   ]
  },
  {
   "cell_type": "code",
   "execution_count": 17,
   "id": "basic-finish",
   "metadata": {},
   "outputs": [
    {
     "data": {
      "text/plain": [
       "\"programming_languages_csv.csv\""
      ]
     },
     "execution_count": 17,
     "metadata": {},
     "output_type": "execute_result"
    }
   ],
   "source": [
    "CSV.write(\"programming_languages_csv.csv\", data)"
   ]
  },
  {
   "cell_type": "code",
   "execution_count": 18,
   "id": "looking-creation",
   "metadata": {},
   "outputs": [],
   "source": [
    "#data = XLSX.readdata(\"zillow_data_download_april2020.xlsx\", \n",
    "#                     \"Sale_counts_city\",  # sheet\n",
    "#                     \"A1:F9\")             # cell range"
   ]
  },
  {
   "cell_type": "code",
   "execution_count": 19,
   "id": "interpreted-artwork",
   "metadata": {},
   "outputs": [],
   "source": [
    "#G = XLSX.readtable(\"zillow_data_download_april2020.xlsx\", \n",
    "#                   \"Sale_counts_city\")\n",
    "#G[1]    # all data\n",
    "#G[1][1] # first col\n",
    "#G[2]    # headers\n",
    "\n",
    "# To DF:\n",
    "#D = DataFrame(G...)\n",
    "\n",
    "#XLSX.writetable(\"mytable.xlsx\", G[1], G[2])"
   ]
  },
  {
   "cell_type": "code",
   "execution_count": 21,
   "id": "moved-catch",
   "metadata": {},
   "outputs": [
    {
     "data": {
      "text/html": [
       "<table class=\"data-frame\"><thead><tr><th></th><th>item</th><th>calories</th><th>prices</th></tr><tr><th></th><th>String?</th><th>Int64?</th><th>Float64?</th></tr></thead><tbody><p>4 rows × 3 columns</p><tr><th>1</th><td>apple</td><td>105</td><td>0.85</td></tr><tr><th>2</th><td>cucumber</td><td>47</td><td>1.6</td></tr><tr><th>3</th><td>tomato</td><td>22</td><td>0.8</td></tr><tr><th>4</th><td>banana</td><td>105</td><td>0.6</td></tr></tbody></table>"
      ],
      "text/latex": [
       "\\begin{tabular}{r|ccc}\n",
       "\t& item & calories & prices\\\\\n",
       "\t\\hline\n",
       "\t& String? & Int64? & Float64?\\\\\n",
       "\t\\hline\n",
       "\t1 & apple & 105 & 0.85 \\\\\n",
       "\t2 & cucumber & 47 & 1.6 \\\\\n",
       "\t3 & tomato & 22 & 0.8 \\\\\n",
       "\t4 & banana & 105 & 0.6 \\\\\n",
       "\\end{tabular}\n"
      ],
      "text/plain": [
       "\u001b[1m4×3 DataFrame\u001b[0m\n",
       "\u001b[1m Row \u001b[0m│\u001b[1m item     \u001b[0m\u001b[1m calories \u001b[0m\u001b[1m prices   \u001b[0m\n",
       "\u001b[1m     \u001b[0m│\u001b[90m String?  \u001b[0m\u001b[90m Int64?   \u001b[0m\u001b[90m Float64? \u001b[0m\n",
       "─────┼──────────────────────────────\n",
       "   1 │ apple          105      0.85\n",
       "   2 │ cucumber        47      1.6\n",
       "   3 │ tomato          22      0.8\n",
       "   4 │ banana         105      0.6"
      ]
     },
     "execution_count": 21,
     "metadata": {},
     "output_type": "execute_result"
    }
   ],
   "source": [
    "foods = [\"apple\", \"cucumber\", \"tomato\", \"banana\"]\n",
    "calories = [105, 47, 22, 105]\n",
    "prices = [0.85, 1.6, 0.8, 0.6]\n",
    "df_calories = DataFrame(item=foods, calories=calories)\n",
    "df_prices = DataFrame(item=foods, prices=prices)\n",
    "df = outerjoin(df_calories, df_prices, on=:item)"
   ]
  },
  {
   "cell_type": "code",
   "execution_count": 22,
   "id": "aware-liechtenstein",
   "metadata": {},
   "outputs": [],
   "source": [
    "#jld_data = JLD.load(\"mydata.jld\")\n",
    "#save(\"mydata.jld\", \"A\", jld_data)\n",
    "#@show typeof(jld_data)"
   ]
  },
  {
   "cell_type": "code",
   "execution_count": 23,
   "id": "fluid-bathroom",
   "metadata": {},
   "outputs": [],
   "source": [
    "#npz_data = npzread(\"mydata.npz\")\n",
    "#npzwrite(\"mydata.npz\", npz_data)\n",
    "#@show typeof(npz_data)"
   ]
  },
  {
   "cell_type": "code",
   "execution_count": 24,
   "id": "latter-baseball",
   "metadata": {},
   "outputs": [],
   "source": [
    "#R_data = RData.load(\"mydata.rda\")\n",
    "#@rput R_data\n",
    "#R\"save(R_data, file=\\\"mydata.rda\\\")\"\n",
    "#@show typeof(R_data)"
   ]
  },
  {
   "cell_type": "code",
   "execution_count": 25,
   "id": "consistent-bloom",
   "metadata": {},
   "outputs": [
    {
     "data": {
      "text/html": [
       "<table class=\"data-frame\"><thead><tr><th></th><th>year</th><th>language</th></tr><tr><th></th><th>Int64</th><th>String</th></tr></thead><tbody><p>3 rows × 2 columns</p><tr><th>1</th><td>1951</td><td>Regional Assembly Language</td></tr><tr><th>2</th><td>1952</td><td>Autocode</td></tr><tr><th>3</th><td>1954</td><td>IPL</td></tr></tbody></table>"
      ],
      "text/latex": [
       "\\begin{tabular}{r|cc}\n",
       "\t& year & language\\\\\n",
       "\t\\hline\n",
       "\t& Int64 & String\\\\\n",
       "\t\\hline\n",
       "\t1 & 1951 & Regional Assembly Language \\\\\n",
       "\t2 & 1952 & Autocode \\\\\n",
       "\t3 & 1954 & IPL \\\\\n",
       "\\end{tabular}\n"
      ],
      "text/plain": [
       "\u001b[1m3×2 DataFrame\u001b[0m\n",
       "\u001b[1m Row \u001b[0m│\u001b[1m year  \u001b[0m\u001b[1m language                   \u001b[0m\n",
       "\u001b[1m     \u001b[0m│\u001b[90m Int64 \u001b[0m\u001b[90m String                     \u001b[0m\n",
       "─────┼───────────────────────────────────\n",
       "   1 │  1951  Regional Assembly Language\n",
       "   2 │  1952  Autocode\n",
       "   3 │  1954  IPL"
      ]
     },
     "execution_count": 25,
     "metadata": {},
     "output_type": "execute_result"
    }
   ],
   "source": [
    "first(data, 3)"
   ]
  },
  {
   "cell_type": "code",
   "execution_count": 38,
   "id": "periodic-processor",
   "metadata": {},
   "outputs": [
    {
     "data": {
      "text/plain": [
       "yearcreated (generic function with 1 method)"
      ]
     },
     "execution_count": 38,
     "metadata": {},
     "output_type": "execute_result"
    }
   ],
   "source": [
    "function yearcreated(data, language::String)\n",
    "    loc = findfirst(data.language .== language)\n",
    "    !isnothing(loc) && return data[loc, 1]\n",
    "    return NaN\n",
    "end"
   ]
  },
  {
   "cell_type": "code",
   "execution_count": 39,
   "id": "casual-island",
   "metadata": {},
   "outputs": [
    {
     "data": {
      "text/plain": [
       "2012"
      ]
     },
     "execution_count": 39,
     "metadata": {},
     "output_type": "execute_result"
    }
   ],
   "source": [
    "yearcreated(data, \"Julia\")"
   ]
  },
  {
   "cell_type": "code",
   "execution_count": 40,
   "id": "frozen-beverage",
   "metadata": {},
   "outputs": [
    {
     "data": {
      "text/plain": [
       "NaN"
      ]
     },
     "execution_count": 40,
     "metadata": {},
     "output_type": "execute_result"
    }
   ],
   "source": [
    "yearcreated(data, \"Bork\")"
   ]
  },
  {
   "cell_type": "code",
   "execution_count": 41,
   "id": "christian-school",
   "metadata": {},
   "outputs": [
    {
     "data": {
      "text/plain": [
       "getnperyear (generic function with 1 method)"
      ]
     },
     "execution_count": 41,
     "metadata": {},
     "output_type": "execute_result"
    }
   ],
   "source": [
    "function getnperyear(data, year::Int64)\n",
    "    length(findall(data.year .== year))\n",
    "end"
   ]
  },
  {
   "cell_type": "code",
   "execution_count": 42,
   "id": "excited-ancient",
   "metadata": {},
   "outputs": [
    {
     "data": {
      "text/plain": [
       "3"
      ]
     },
     "execution_count": 42,
     "metadata": {},
     "output_type": "execute_result"
    }
   ],
   "source": [
    "getnperyear(data, 1986)"
   ]
  },
  {
   "cell_type": "code",
   "execution_count": 44,
   "id": "designing-soundtrack",
   "metadata": {},
   "outputs": [
    {
     "data": {
      "text/plain": [
       "Dict{String,Int64} with 3 entries:\n",
       "  \"B\" => 2\n",
       "  \"A\" => 1\n",
       "  \"C\" => 3"
      ]
     },
     "execution_count": 44,
     "metadata": {},
     "output_type": "execute_result"
    }
   ],
   "source": [
    "d = Dict([(\"A\", 1), (\"B\", 2), (\"C\", 3)])"
   ]
  },
  {
   "cell_type": "code",
   "execution_count": 47,
   "id": "dying-brown",
   "metadata": {},
   "outputs": [
    {
     "data": {
      "text/plain": [
       "1"
      ]
     },
     "execution_count": 47,
     "metadata": {},
     "output_type": "execute_result"
    }
   ],
   "source": [
    "get(d, \"A\", NaN)"
   ]
  },
  {
   "cell_type": "code",
   "execution_count": 53,
   "id": "continuous-liberal",
   "metadata": {},
   "outputs": [],
   "source": [
    "dict = Dict{Integer, Vector{String}}()\n",
    "\n",
    "for i = 1:size(data, 1)\n",
    "    year, lang = data[i, :]\n",
    "    dict[year] = push!(get(dict, year, []), lang)\n",
    "end"
   ]
  },
  {
   "cell_type": "code",
   "execution_count": 54,
   "id": "missing-investor",
   "metadata": {},
   "outputs": [
    {
     "data": {
      "text/plain": [
       "Dict{Integer,Array{String,1}} with 45 entries:\n",
       "  1991 => [\"Python\", \"Visual Basic\"]\n",
       "  1993 => [\"Lua\", \"R\"]\n",
       "  2005 => [\"F#\"]\n",
       "  2010 => [\"Rust\"]\n",
       "  1983 => [\"Ada\"]\n",
       "  1957 => [\"FORTRAN\", \"COMTRAN\"]\n",
       "  1987 => [\"Perl\"]\n",
       "  2007 => [\"Clojure\"]\n",
       "  1989 => [\"FL \"]\n",
       "  1969 => [\"B\"]\n",
       "  1952 => [\"Autocode\"]\n",
       "  1963 => [\"CPL\"]\n",
       "  2003 => [\"Groovy\", \"Scala\"]\n",
       "  1958 => [\"LISP\", \"ALGOL 58\"]\n",
       "  2014 => [\"Swift\"]\n",
       "  1951 => [\"Regional Assembly Language\"]\n",
       "  1997 => [\"Rebol\"]\n",
       "  2000 => [\"ActionScript\"]\n",
       "  1967 => [\"BCPL\"]\n",
       "  1985 => [\"Eiffel\"]\n",
       "  1968 => [\"Logo\"]\n",
       "  1955 => [\"FLOW-MATIC\"]\n",
       "  1984 => [\"Common Lisp\", \"MATLAB\", \"dBase III\"]\n",
       "  2009 => [\"Go\"]\n",
       "  1966 => [\"JOSS\"]\n",
       "  ⋮    => ⋮"
      ]
     },
     "execution_count": 54,
     "metadata": {},
     "output_type": "execute_result"
    }
   ],
   "source": [
    "dict"
   ]
  },
  {
   "cell_type": "code",
   "execution_count": 59,
   "id": "exceptional-debate",
   "metadata": {},
   "outputs": [
    {
     "data": {
      "text/plain": [
       "yearcreated (generic function with 2 methods)"
      ]
     },
     "execution_count": 59,
     "metadata": {},
     "output_type": "execute_result"
    }
   ],
   "source": [
    "function yearcreated(dict, language::String)\n",
    "    keysvec = collect(keys(dict))\n",
    "    lookup = map(keyid -> findfirst(dict[keyid] .== language), keysvec)\n",
    "    keysvec[findfirst((!isnothing).(lookup))]\n",
    "end"
   ]
  },
  {
   "cell_type": "code",
   "execution_count": 60,
   "id": "interim-platinum",
   "metadata": {},
   "outputs": [
    {
     "data": {
      "text/plain": [
       "2012"
      ]
     },
     "execution_count": 60,
     "metadata": {},
     "output_type": "execute_result"
    }
   ],
   "source": [
    "yearcreated(dict, \"Julia\")"
   ]
  },
  {
   "cell_type": "code",
   "execution_count": 64,
   "id": "included-ocean",
   "metadata": {},
   "outputs": [
    {
     "data": {
      "text/plain": [
       "yearcreated (generic function with 2 methods)"
      ]
     },
     "execution_count": 64,
     "metadata": {},
     "output_type": "execute_result"
    }
   ],
   "source": [
    "function yearcreated(dict, language::String)\n",
    "    for k in keys(dict)\n",
    "        if language in dict[k]\n",
    "            return k\n",
    "        end\n",
    "    end\n",
    "    NaN\n",
    "end"
   ]
  },
  {
   "cell_type": "code",
   "execution_count": 65,
   "id": "committed-oxford",
   "metadata": {},
   "outputs": [
    {
     "data": {
      "text/plain": [
       "1991"
      ]
     },
     "execution_count": 65,
     "metadata": {},
     "output_type": "execute_result"
    }
   ],
   "source": [
    "yearcreated(dict, \"Python\")"
   ]
  },
  {
   "cell_type": "code",
   "execution_count": 61,
   "id": "convertible-possession",
   "metadata": {},
   "outputs": [
    {
     "data": {
      "text/plain": [
       "getnperyear (generic function with 1 method)"
      ]
     },
     "execution_count": 61,
     "metadata": {},
     "output_type": "execute_result"
    }
   ],
   "source": [
    "getnperyear(dict, year::Int64) = length(dict[year])"
   ]
  },
  {
   "cell_type": "code",
   "execution_count": 63,
   "id": "adverse-increase",
   "metadata": {},
   "outputs": [
    {
     "data": {
      "text/plain": [
       "2"
      ]
     },
     "execution_count": 63,
     "metadata": {},
     "output_type": "execute_result"
    }
   ],
   "source": [
    "getnperyear(dict, 1988)"
   ]
  },
  {
   "cell_type": "code",
   "execution_count": null,
   "id": "continuous-martial",
   "metadata": {},
   "outputs": [],
   "source": []
  }
 ],
 "metadata": {
  "kernelspec": {
   "display_name": "Julia 1.5.3",
   "language": "julia",
   "name": "julia-1.5"
  },
  "language_info": {
   "file_extension": ".jl",
   "mimetype": "application/julia",
   "name": "julia",
   "version": "1.5.3"
  }
 },
 "nbformat": 4,
 "nbformat_minor": 5
}
