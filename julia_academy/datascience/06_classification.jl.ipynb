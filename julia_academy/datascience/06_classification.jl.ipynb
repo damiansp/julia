{
 "cells": [
  {
   "cell_type": "code",
   "execution_count": 1,
   "id": "adapted-banking",
   "metadata": {},
   "outputs": [],
   "source": [
    "using DataStructures\n",
    "using DecisionTree\n",
    "using Distances\n",
    "using GLMNet # Ridge, Lasso, ElasticNet\n",
    "using LIBSVM\n",
    "using LinearAlgebra\n",
    "using MLBase\n",
    "using NearestNeighbors\n",
    "using Plots\n",
    "using Random\n",
    "using RDatasets"
   ]
  },
  {
   "cell_type": "code",
   "execution_count": 2,
   "id": "legendary-venice",
   "metadata": {},
   "outputs": [
    {
     "data": {
      "text/html": [
       "<table class=\"data-frame\"><thead><tr><th></th><th>SepalLength</th><th>SepalWidth</th><th>PetalLength</th><th>PetalWidth</th><th>Species</th></tr><tr><th></th><th>Float64</th><th>Float64</th><th>Float64</th><th>Float64</th><th>Cat…</th></tr></thead><tbody><p>5 rows × 5 columns</p><tr><th>1</th><td>5.1</td><td>3.5</td><td>1.4</td><td>0.2</td><td>setosa</td></tr><tr><th>2</th><td>4.9</td><td>3.0</td><td>1.4</td><td>0.2</td><td>setosa</td></tr><tr><th>3</th><td>4.7</td><td>3.2</td><td>1.3</td><td>0.2</td><td>setosa</td></tr><tr><th>4</th><td>4.6</td><td>3.1</td><td>1.5</td><td>0.2</td><td>setosa</td></tr><tr><th>5</th><td>5.0</td><td>3.6</td><td>1.4</td><td>0.2</td><td>setosa</td></tr></tbody></table>"
      ],
      "text/latex": [
       "\\begin{tabular}{r|ccccc}\n",
       "\t& SepalLength & SepalWidth & PetalLength & PetalWidth & Species\\\\\n",
       "\t\\hline\n",
       "\t& Float64 & Float64 & Float64 & Float64 & Cat…\\\\\n",
       "\t\\hline\n",
       "\t1 & 5.1 & 3.5 & 1.4 & 0.2 & setosa \\\\\n",
       "\t2 & 4.9 & 3.0 & 1.4 & 0.2 & setosa \\\\\n",
       "\t3 & 4.7 & 3.2 & 1.3 & 0.2 & setosa \\\\\n",
       "\t4 & 4.6 & 3.1 & 1.5 & 0.2 & setosa \\\\\n",
       "\t5 & 5.0 & 3.6 & 1.4 & 0.2 & setosa \\\\\n",
       "\\end{tabular}\n"
      ],
      "text/plain": [
       "\u001b[1m5×5 DataFrame\u001b[0m\n",
       "\u001b[1m Row \u001b[0m│\u001b[1m SepalLength \u001b[0m\u001b[1m SepalWidth \u001b[0m\u001b[1m PetalLength \u001b[0m\u001b[1m PetalWidth \u001b[0m\u001b[1m Species \u001b[0m\n",
       "\u001b[1m     \u001b[0m│\u001b[90m Float64     \u001b[0m\u001b[90m Float64    \u001b[0m\u001b[90m Float64     \u001b[0m\u001b[90m Float64    \u001b[0m\u001b[90m Cat…    \u001b[0m\n",
       "─────┼───────────────────────────────────────────────────────────\n",
       "   1 │         5.1         3.5          1.4         0.2  setosa\n",
       "   2 │         4.9         3.0          1.4         0.2  setosa\n",
       "   3 │         4.7         3.2          1.3         0.2  setosa\n",
       "   4 │         4.6         3.1          1.5         0.2  setosa\n",
       "   5 │         5.0         3.6          1.4         0.2  setosa"
      ]
     },
     "execution_count": 2,
     "metadata": {},
     "output_type": "execute_result"
    }
   ],
   "source": [
    "iris = dataset(\"datasets\", \"iris\")\n",
    "first(iris, 5)"
   ]
  },
  {
   "cell_type": "code",
   "execution_count": 3,
   "id": "threatened-ghost",
   "metadata": {},
   "outputs": [
    {
     "data": {
      "text/plain": [
       "getaccuracy (generic function with 1 method)"
      ]
     },
     "execution_count": 3,
     "metadata": {},
     "output_type": "execute_result"
    }
   ],
   "source": [
    "getaccuracy(preds, actual) = sum(preds .== actual) / length(actual)"
   ]
  },
  {
   "cell_type": "code",
   "execution_count": 4,
   "id": "dressed-walnut",
   "metadata": {},
   "outputs": [],
   "source": [
    "X = Matrix(iris[:, 1:4])\n",
    "irislabels = iris[:, 5];"
   ]
  },
  {
   "cell_type": "code",
   "execution_count": 5,
   "id": "fossil-safety",
   "metadata": {},
   "outputs": [
    {
     "data": {
      "text/plain": [
       "([1, 1, 1, 1, 1], [3, 3, 3, 3, 3, 3])"
      ]
     },
     "execution_count": 5,
     "metadata": {},
     "output_type": "execute_result"
    }
   ],
   "source": [
    "irislabelmap = labelmap(irislabels)\n",
    "y = labelencode(irislabelmap, irislabels)\n",
    "y[1:5], y[end - 5:end]"
   ]
  },
  {
   "cell_type": "code",
   "execution_count": 6,
   "id": "recreational-firmware",
   "metadata": {},
   "outputs": [
    {
     "data": {
      "text/plain": [
       "perclasssplits (generic function with 1 method)"
      ]
     },
     "execution_count": 6,
     "metadata": {},
     "output_type": "execute_result"
    }
   ],
   "source": [
    "function perclasssplits(y, at)\n",
    "    uids = unique(y)\n",
    "    keepids = []\n",
    "    for ui in uids\n",
    "        curids = findall(y .=== ui)\n",
    "        rowids = randsubseq(curids, at)\n",
    "        push!(keepids, rowids...)\n",
    "    end\n",
    "    keepids\n",
    "end"
   ]
  },
  {
   "cell_type": "code",
   "execution_count": 7,
   "id": "reliable-anniversary",
   "metadata": {},
   "outputs": [],
   "source": [
    "trainids = perclasssplits(y, 0.7)\n",
    "testids = setdiff(1:length(y), trainids);"
   ]
  },
  {
   "cell_type": "code",
   "execution_count": 8,
   "id": "actual-witch",
   "metadata": {},
   "outputs": [
    {
     "data": {
      "text/plain": [
       "assignclass (generic function with 1 method)"
      ]
     },
     "execution_count": 8,
     "metadata": {},
     "output_type": "execute_result"
    }
   ],
   "source": [
    "assignclass(pred) = argmin(abs.(pred .- [1, 2, 3]))"
   ]
  },
  {
   "cell_type": "markdown",
   "id": "vital-palace",
   "metadata": {},
   "source": [
    "# Lasso"
   ]
  },
  {
   "cell_type": "code",
   "execution_count": 9,
   "id": "split-hypothetical",
   "metadata": {},
   "outputs": [
    {
     "data": {
      "text/plain": [
       "Least Squares GLMNet Solution Path (1 solutions for 4 predictors in 74 passes):\n",
       "─────────────────────────────\n",
       "     df   pct_dev           λ\n",
       "─────────────────────────────\n",
       "[1]   3  0.932377  0.00672235\n",
       "─────────────────────────────"
      ]
     },
     "execution_count": 9,
     "metadata": {},
     "output_type": "execute_result"
    }
   ],
   "source": [
    "path = glmnet(X[trainids, :], y[trainids])\n",
    "cv = glmnetcv(X[trainids, :], y[trainids])\n",
    "mylambda = path.lambda[argmin(cv.meanloss)]\n",
    "path = glmnet(X[trainids, :], y[trainids], lambda=[mylambda])"
   ]
  },
  {
   "cell_type": "code",
   "execution_count": 11,
   "id": "infectious-nomination",
   "metadata": {},
   "outputs": [
    {
     "data": {
      "text/plain": [
       "5-element Array{Float64,1}:\n",
       " 0.9807323983682769\n",
       " 0.9960026965222337\n",
       " 1.0648077876063164\n",
       " 1.0200495932734668\n",
       " 1.1099195758949985"
      ]
     },
     "execution_count": 11,
     "metadata": {},
     "output_type": "execute_result"
    }
   ],
   "source": [
    "q = X[testids, :]\n",
    "lassopreds = GLMNet.predict(path, q)\n",
    "lassopreds[1:5]"
   ]
  },
  {
   "cell_type": "code",
   "execution_count": 12,
   "id": "endless-delivery",
   "metadata": {},
   "outputs": [
    {
     "data": {
      "text/plain": [
       "0.9302325581395349"
      ]
     },
     "execution_count": 12,
     "metadata": {},
     "output_type": "execute_result"
    }
   ],
   "source": [
    "lassopreds = assignclass.(lassopreds)\n",
    "getaccuracy(lassopreds, y[testids])"
   ]
  },
  {
   "cell_type": "markdown",
   "id": "changing-victoria",
   "metadata": {},
   "source": [
    "# Ridge"
   ]
  },
  {
   "cell_type": "code",
   "execution_count": 13,
   "id": "based-archive",
   "metadata": {},
   "outputs": [
    {
     "data": {
      "text/plain": [
       "0.07729074360288947"
      ]
     },
     "execution_count": 13,
     "metadata": {},
     "output_type": "execute_result"
    }
   ],
   "source": [
    "path = glmnet(X[trainids, :], y[trainids], alpha=0)\n",
    "cv = glmnetcv(X[trainids, :], y[trainids], alpha=0)\n",
    "mylambda = path.lambda[argmin(cv.meanloss)]"
   ]
  },
  {
   "cell_type": "code",
   "execution_count": 15,
   "id": "veterinary-statement",
   "metadata": {},
   "outputs": [
    {
     "data": {
      "text/plain": [
       "0.9534883720930233"
      ]
     },
     "execution_count": 15,
     "metadata": {},
     "output_type": "execute_result"
    }
   ],
   "source": [
    "path = glmnet(X[trainids, :], y[trainids], alpha=0, lambda=[mylambda])\n",
    "q = X[testids, :]\n",
    "ridgepreds = GLMNet.predict(path, q)\n",
    "ridgepreds = assignclass.(ridgepreds)\n",
    "getaccuracy(ridgepreds, y[testids])"
   ]
  },
  {
   "cell_type": "markdown",
   "id": "olive-married",
   "metadata": {},
   "source": [
    "# Elastic Net"
   ]
  },
  {
   "cell_type": "code",
   "execution_count": 16,
   "id": "compressed-straight",
   "metadata": {},
   "outputs": [
    {
     "data": {
      "text/plain": [
       "0.013444709432039972"
      ]
     },
     "execution_count": 16,
     "metadata": {},
     "output_type": "execute_result"
    }
   ],
   "source": [
    "path = glmnet(X[trainids, :], y[trainids], alpha=0.5)\n",
    "cv = glmnetcv(X[trainids, :], y[trainids], alpha=0.5)\n",
    "mylambda = path.lambda[argmin(cv.meanloss)]"
   ]
  },
  {
   "cell_type": "code",
   "execution_count": 18,
   "id": "becoming-passenger",
   "metadata": {},
   "outputs": [
    {
     "data": {
      "text/plain": [
       "0.9302325581395349"
      ]
     },
     "execution_count": 18,
     "metadata": {},
     "output_type": "execute_result"
    }
   ],
   "source": [
    "path = glmnet(X[trainids, :], y[trainids], alpha=0.5, lambda=[mylambda])\n",
    "q = X[testids, :]\n",
    "enpreds = GLMNet.predict(path, q)\n",
    "enpreds = assignclass.(enpreds)\n",
    "getaccuracy(enpreds, y[testids])"
   ]
  },
  {
   "cell_type": "markdown",
   "id": "difficult-custom",
   "metadata": {},
   "source": [
    "# Decision Trees"
   ]
  },
  {
   "cell_type": "code",
   "execution_count": 21,
   "id": "flying-obligation",
   "metadata": {},
   "outputs": [
    {
     "data": {
      "text/plain": [
       "DecisionTreeClassifier\n",
       "max_depth:                3\n",
       "min_samples_leaf:         1\n",
       "min_samples_split:        2\n",
       "min_purity_increase:      0.0\n",
       "pruning_purity_threshold: 1.0\n",
       "n_subfeatures:            0\n",
       "classes:                  [1, 2, 3]\n",
       "root:                     Decision Tree\n",
       "Leaves: 4\n",
       "Depth:  3"
      ]
     },
     "execution_count": 21,
     "metadata": {},
     "output_type": "execute_result"
    }
   ],
   "source": [
    "tree = DecisionTreeClassifier(max_depth=3)\n",
    "DecisionTree.fit!(tree, X[trainids, :], y[trainids])"
   ]
  },
  {
   "cell_type": "code",
   "execution_count": 22,
   "id": "declared-state",
   "metadata": {},
   "outputs": [
    {
     "data": {
      "text/plain": [
       "0.9302325581395349"
      ]
     },
     "execution_count": 22,
     "metadata": {},
     "output_type": "execute_result"
    }
   ],
   "source": [
    "q = X[testids, :]\n",
    "treepreds = DecisionTree.predict(tree, q)\n",
    "getaccuracy(treepreds, y[testids])"
   ]
  },
  {
   "cell_type": "markdown",
   "id": "spatial-office",
   "metadata": {},
   "source": [
    "# Random Forests"
   ]
  },
  {
   "cell_type": "code",
   "execution_count": 23,
   "id": "jewish-collar",
   "metadata": {},
   "outputs": [
    {
     "data": {
      "text/plain": [
       "RandomForestClassifier\n",
       "n_trees:             20\n",
       "n_subfeatures:       -1\n",
       "partial_sampling:    0.7\n",
       "max_depth:           -1\n",
       "min_samples_leaf:    1\n",
       "min_samples_split:   2\n",
       "min_purity_increase: 0.0\n",
       "classes:             [1, 2, 3]\n",
       "ensemble:            Ensemble of Decision Trees\n",
       "Trees:      20\n",
       "Avg Leaves: 5.65\n",
       "Avg Depth:  3.95"
      ]
     },
     "execution_count": 23,
     "metadata": {},
     "output_type": "execute_result"
    }
   ],
   "source": [
    "forest = RandomForestClassifier(n_trees=20)\n",
    "DecisionTree.fit!(forest, X[trainids, :], y[trainids])"
   ]
  },
  {
   "cell_type": "code",
   "execution_count": 24,
   "id": "bizarre-taylor",
   "metadata": {},
   "outputs": [
    {
     "data": {
      "text/plain": [
       "0.9302325581395349"
      ]
     },
     "execution_count": 24,
     "metadata": {},
     "output_type": "execute_result"
    }
   ],
   "source": [
    "forestpreds = DecisionTree.predict(forest, q)\n",
    "getaccuracy(forestpreds, y[testids])"
   ]
  },
  {
   "cell_type": "markdown",
   "id": "selected-allocation",
   "metadata": {},
   "source": [
    "# Nearest Neighbor"
   ]
  },
  {
   "cell_type": "code",
   "execution_count": 25,
   "id": "laughing-shuttle",
   "metadata": {},
   "outputs": [
    {
     "data": {
      "text/plain": [
       "KDTree{StaticArrays.SArray{Tuple{4},Float64,1,4},Euclidean,Float64}\n",
       "  Number of points: 107\n",
       "  Dimensions: 4\n",
       "  Metric: Euclidean(0.0)\n",
       "  Reordered: true"
      ]
     },
     "execution_count": 25,
     "metadata": {},
     "output_type": "execute_result"
    }
   ],
   "source": [
    "kdtree = KDTree(X[trainids, :]')"
   ]
  },
  {
   "cell_type": "code",
   "execution_count": 26,
   "id": "timely-stanley",
   "metadata": {},
   "outputs": [],
   "source": [
    "idxs, dists = knn(kdtree, q', 5, true);"
   ]
  },
  {
   "cell_type": "code",
   "execution_count": 34,
   "id": "copyrighted-science",
   "metadata": {},
   "outputs": [
    {
     "data": {
      "text/plain": [
       "43-element Array{Accumulator{Int64,Int64},1}:\n",
       " Accumulator(1 => 5)\n",
       " Accumulator(1 => 5)\n",
       " Accumulator(1 => 5)\n",
       " Accumulator(1 => 5)\n",
       " Accumulator(1 => 5)\n",
       " Accumulator(1 => 5)\n",
       " Accumulator(1 => 5)\n",
       " Accumulator(1 => 5)\n",
       " Accumulator(1 => 5)\n",
       " Accumulator(1 => 5)\n",
       " Accumulator(1 => 5)\n",
       " Accumulator(1 => 5)\n",
       " Accumulator(2 => 5)\n",
       " ⋮\n",
       " Accumulator(3 => 5)\n",
       " Accumulator(3 => 5)\n",
       " Accumulator(3 => 5)\n",
       " Accumulator(3 => 5)\n",
       " Accumulator(2 => 2, 3 => 3)\n",
       " Accumulator(3 => 5)\n",
       " Accumulator(3 => 5)\n",
       " Accumulator(3 => 5)\n",
       " Accumulator(3 => 5)\n",
       " Accumulator(3 => 5)\n",
       " Accumulator(3 => 5)\n",
       " Accumulator(2 => 1, 3 => 4)"
      ]
     },
     "execution_count": 34,
     "metadata": {},
     "output_type": "execute_result"
    }
   ],
   "source": [
    "c = y[trainids][hcat(idxs...)]\n",
    "possiblelabels = map(i -> counter(c[:, i]), 1:size(c, 2))\n",
    "#nnpreds = map(i -> \n",
    "#    parse(\n",
    "#        Int, \n",
    "#        string(argmax(DataFrame(possiblelabels[i])[1, :]))), \n",
    "#    1:size(c, 2))\n",
    "#getaccuracy(nnpreds, y[testids])"
   ]
  },
  {
   "cell_type": "markdown",
   "id": "rural-exposure",
   "metadata": {},
   "source": [
    "# SVM"
   ]
  },
  {
   "cell_type": "code",
   "execution_count": 35,
   "id": "reflected-removal",
   "metadata": {},
   "outputs": [],
   "source": [
    "mod = svmtrain(X[trainids, :]', y[trainids]);"
   ]
  },
  {
   "cell_type": "code",
   "execution_count": 36,
   "id": "confused-discrimination",
   "metadata": {},
   "outputs": [
    {
     "data": {
      "text/plain": [
       "0.9906542056074766"
      ]
     },
     "execution_count": 36,
     "metadata": {},
     "output_type": "execute_result"
    }
   ],
   "source": [
    "svmpreds, decisionvals = svmpredict(mod, X[trainids, :]')\n",
    "getaccuracy(svmpreds, y[trainids])"
   ]
  },
  {
   "cell_type": "code",
   "execution_count": null,
   "id": "female-broadway",
   "metadata": {},
   "outputs": [],
   "source": []
  }
 ],
 "metadata": {
  "kernelspec": {
   "display_name": "Julia 1.5.3",
   "language": "julia",
   "name": "julia-1.5"
  },
  "language_info": {
   "file_extension": ".jl",
   "mimetype": "application/julia",
   "name": "julia",
   "version": "1.5.3"
  }
 },
 "nbformat": 4,
 "nbformat_minor": 5
}
